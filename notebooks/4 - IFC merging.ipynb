{
 "cells": [
  {
   "cell_type": "code",
   "execution_count": null,
   "metadata": {
    "slideshow": {
     "slide_type": "skip"
    }
   },
   "outputs": [],
   "source": [
    "import numpy as np\n",
    "from copy import deepcopy\n",
    "\n",
    "import abipy\n",
    "from abipy import abilab\n",
    "from abipy.dfpt.converters import phonopy_to_abinit, abinit_to_phonopy\n",
    "\n",
    "from phonopy.phonon.band_structure import get_band_qpoints_and_path_connections\n",
    "\n",
    "import plotly\n",
    "from plotly.subplots import make_subplots\n",
    "import plotly.graph_objects as go\n",
    "\n",
    "from pymatgen_plotly import Figure\n"
   ]
  },
  {
   "cell_type": "code",
   "execution_count": null,
   "metadata": {},
   "outputs": [],
   "source": [
    "def plot_ifc(phonons, atom_ind, direction):\n",
    "\n",
    "    super_structure = phonons.get_supercell()\n",
    "    force_constants = phonons.get_force_constants()[atom_ind]\n",
    "\n",
    "    direction = direction / np.linalg.norm(direction)\n",
    "\n",
    "    forces = np.dot(force_constants, direction)\n",
    "    magnitude = np.linalg.norm(forces, axis=1)[:, np.newaxis]\n",
    "\n",
    "    # inds = np.ravel_multi_index(np.triu_indices(4), (4, 4))\n",
    "    inds = range(16)\n",
    "    cols = plotly.colors.DEFAULT_PLOTLY_COLORS\n",
    "\n",
    "    fig = make_subplots(rows=2, cols=1, subplot_titles=(\"\", \"Logartihmic scale\"))\n",
    "\n",
    "    for (i, offset) in enumerate(inds):\n",
    "        disp = (\n",
    "            super_structure.positions[offset, 0:2] - super_structure.positions[0, 0:2]\n",
    "        )\n",
    "\n",
    "        z = super_structure.positions[offset::16, 2]\n",
    "        sort_inds = np.argsort(super_structure.positions[offset::16, 2])\n",
    "\n",
    "        fig.add_trace(\n",
    "            go.Scatter(\n",
    "                x=z[sort_inds],\n",
    "                y=magnitude[offset::16, 0][sort_inds],\n",
    "                name=f\"{np.round(disp,3)}\",\n",
    "                line=dict(width=2, color=cols[i % 10]),\n",
    "                legendgroup=\"group1\",\n",
    "            ),\n",
    "            row=1,\n",
    "            col=1,\n",
    "        )\n",
    "\n",
    "        fig.add_trace(\n",
    "            go.Scatter(\n",
    "                x=z[sort_inds],\n",
    "                y=np.log10(magnitude[offset::16, 0][sort_inds]),\n",
    "                name=f\"{np.round(disp,3)}\",\n",
    "                line=dict(width=2, color=cols[i % 10]),\n",
    "                legendgroup=\"group1\",\n",
    "                showlegend=False,\n",
    "            ),\n",
    "            row=2,\n",
    "            col=1,\n",
    "        )\n",
    "\n",
    "    # edit axis labels\n",
    "    fig[\"layout\"][\"xaxis\"][\"title\"] = \"z\"\n",
    "    fig[\"layout\"][\"xaxis2\"][\"title\"] = \"z\"\n",
    "    fig[\"layout\"][\"yaxis\"][\"title\"] = \"abs(F)\"\n",
    "    fig[\"layout\"][\"yaxis2\"][\"title\"] = \"log(abs(F))\"\n",
    "\n",
    "    fig.update_layout(\n",
    "        height=600,\n",
    "        width=800,\n",
    "        legend_title_text=\"x-y offset:\",\n",
    "        title_text=f\"The magnitude of interatomic force constants along {np.round(direction,3)}\",\n",
    "    )\n",
    "    return fig"
   ]
  },
  {
   "cell_type": "markdown",
   "metadata": {},
   "source": [
    "# Effect of truncating the IFCs"
   ]
  },
  {
   "cell_type": "code",
   "execution_count": null,
   "metadata": {},
   "outputs": [],
   "source": [
    "filename = 'data/reduced_cell/04_fcc100_dfpt_12/outdata/out_DDB'\n",
    "ddb = abilab.abiopen(filename)\n",
    "phonons = ddb.anaget_phonopy_ifc()"
   ]
  },
  {
   "cell_type": "code",
   "execution_count": null,
   "metadata": {},
   "outputs": [],
   "source": [
    "filename_bulk = 'data/reduced_cell/02_dfpt/outdata/out_DDB'\n",
    "ddb_bulk = abilab.abiopen(filename_bulk)\n",
    "phonons_bulk = ddb_bulk.anaget_phonopy_ifc()"
   ]
  },
  {
   "cell_type": "code",
   "execution_count": null,
   "metadata": {},
   "outputs": [],
   "source": [
    "filename_ref = 'data/reduced_cell/04_fcc100_dfpt_14/outdata/out_DDB'\n",
    "ddb_ref = abilab.abiopen(filename_ref)\n",
    "phonons_ref = ddb_ref.anaget_phonopy_ifc()"
   ]
  },
  {
   "cell_type": "code",
   "execution_count": null,
   "metadata": {},
   "outputs": [],
   "source": [
    "def truncate(phonons, distance):\n",
    "\n",
    "    ifc = phonons.get_force_constants()\n",
    "    for i, coords_i in enumerate(phonons.unitcell.positions):\n",
    "        for j, coords_j in enumerate(phonons.supercell.positions):\n",
    "            if abs(coords_j[2] - coords_i[2]) > distance:\n",
    "                ifc[i, j, :, :] = 0\n",
    "\n",
    "    phonons.set_force_constants(ifc)\n",
    "\n",
    "\n",
    "def truncate(phonons, distance, periodic=False):\n",
    "\n",
    "    ifc = phonons.get_force_constants()\n",
    "    for i, coords_i in enumerate(phonons.unitcell.positions):\n",
    "        for j, coords_j in enumerate(phonons.supercell.positions):\n",
    "            if not periodic:\n",
    "                if abs(coords_j[2] - coords_i[2]) > distance:\n",
    "                    ifc[i, j, :, :] = 0\n",
    "            else:\n",
    "                if (\n",
    "                    abs(coords_j[2] - coords_i[2]) > distance\n",
    "                    and abs(\n",
    "                        coords_j[2] - coords_i[2] - phonons_bulk.supercell.cell[2, 2]\n",
    "                    )\n",
    "                    > distance\n",
    "                ):\n",
    "                    ifc[i, j, :, :] = 0\n",
    "\n",
    "    phonons.set_force_constants(ifc)\n"
   ]
  },
  {
   "cell_type": "code",
   "execution_count": null,
   "metadata": {},
   "outputs": [],
   "source": [
    "phonons_trunk = deepcopy(phonons)\n",
    "truncate(phonons_trunk, 5., periodic=False)\n",
    "\n",
    "# phonons_trunk = deepcopy(phonons_bulk)\n",
    "# truncate(phonons_trunk, 5., periodic=True)"
   ]
  },
  {
   "cell_type": "code",
   "execution_count": null,
   "metadata": {},
   "outputs": [],
   "source": [
    "direction = [1,-1,0]\n",
    "fig = plot_ifc(phonons_trunk, 5, direction)\n",
    "fig.show()"
   ]
  },
  {
   "cell_type": "code",
   "execution_count": null,
   "metadata": {},
   "outputs": [],
   "source": [
    "phonons_trunk.auto_band_structure()\n",
    "phonons_trunk.plot_band_structure().show()"
   ]
  },
  {
   "cell_type": "code",
   "execution_count": null,
   "metadata": {},
   "outputs": [],
   "source": [
    "phonons.auto_band_structure()\n",
    "phonons.plot_band_structure().show()"
   ]
  },
  {
   "cell_type": "code",
   "execution_count": null,
   "metadata": {},
   "outputs": [],
   "source": [
    "phonons_bulk.auto_band_structure()\n",
    "phonons_bulk.plot_band_structure().show()"
   ]
  },
  {
   "cell_type": "markdown",
   "metadata": {},
   "source": [
    "# Merging bulk and slab to reproduce reference calculation"
   ]
  },
  {
   "cell_type": "code",
   "execution_count": null,
   "metadata": {},
   "outputs": [],
   "source": [
    "cell = phonons.unitcell.cell\n",
    "coords = phonons.supercell.positions.reshape(12, 1, 4, 4, 3)\n",
    "species = np.array(phonons.supercell.get_chemical_symbols()).reshape(12, 1, 4, 4)\n",
    "ifc = phonons.force_constants.reshape(12, 12, 1, 4, 4, 3, 3)\n",
    "\n",
    "extra_coords = phonons_bulk.supercell.positions.reshape(2, 4, 4, 4, 3)\n",
    "extra_species = np.array(phonons_bulk.supercell.get_chemical_symbols()).reshape(2, 4, 4, 4)\n",
    "extra_ifc = phonons_bulk.force_constants.reshape(2, 2, 4, 4, 4, 3, 3)\n",
    "\n",
    "origin_offset = coords[6, 0, 0, 0, 2]\n",
    "extra_height = phonons_bulk.unitcell.cell[2, 2]\n",
    "\n",
    "# remove force constants between the two separated half\n",
    "ifc[:6, 6:, :, :, :, :] = 0\n",
    "ifc[6:, :6, :, :, :, :] = 0\n",
    "\n",
    "new_cell = cell\n",
    "new_cell[2, 2] += extra_height\n",
    "\n",
    "new_coords = np.zeros((12 + 2, 1, 4, 4, 3))\n",
    "new_coords[:6, :, :, :, :] = coords[:6, :, :, :, :]\n",
    "new_coords[8:, :, :, :, :] = coords[6:, :, :, :, :]\n",
    "new_coords[8:, :, :, :, 2] += extra_height\n",
    "\n",
    "new_coords[6:8, 0, :, :, :] = extra_coords[:, 0, :, :, :]\n",
    "new_coords[6:8, :, :, :, 2] += origin_offset\n",
    "\n",
    "new_ifc = np.zeros((12 + 2, 12 + 2, 1, 4, 4, 3, 3))\n",
    "# new_ifc = np.zeros((12+2,12+2,4,4,1,3,3)) ????\n",
    "new_ifc[:6, :6, :, :, :, :, :] = ifc[:6, :6, :, :, :, :, :]\n",
    "new_ifc[8:, 8:, :, :, :, :, :] = ifc[6:, 6:, :, :, :, :, :]\n",
    "\n",
    "new_ifc[6:8, 6:8, 0, :, :, :, :] = extra_ifc[:, :, 0, :, :, :, :]\n",
    "\n",
    "new_ifc[6:8, 8:10, 0, :, :, :, :] = extra_ifc[:, :, 1, :, :, :, :]\n",
    "new_ifc[6:8, 4:6, 0, :, :, :, :] = extra_ifc[:, :, -1, :, :, :, :]\n",
    "\n",
    "# symmetrising\n",
    "new_ifc[8:10, 6:8, 0, :, :, :, :] = new_ifc[6:8, 8:10, 0, :, :, :, :]\n",
    "new_ifc[4:6, 6:8, 0, :, :, :, :] = new_ifc[6:8, 4:6, 0, :, :, :, :]\n"
   ]
  },
  {
   "cell_type": "code",
   "execution_count": null,
   "metadata": {},
   "outputs": [],
   "source": [
    "phonons_merged = deepcopy(phonons_ref)\n",
    "phonons_merged.set_force_constants(new_ifc.reshape(14,-1,3,3))\n",
    "direction = [1,-1,0]\n",
    "fig = plot_ifc(phonons_merged, 6, direction)\n",
    "fig.show()"
   ]
  },
  {
   "cell_type": "code",
   "execution_count": null,
   "metadata": {},
   "outputs": [],
   "source": [
    "cell = phonons_ref.unitcell.cell\n",
    "coords = phonons_ref.supercell.positions.reshape(14, 1, 4, 4, 3)\n",
    "\n",
    "fig = Figure()\n",
    "fig._add_unitcell(cell)\n",
    "# fig._add_ball_and_stick(coords[:,0,0,0,:].reshape(-1,3), species[:,0,0,0])\n",
    "# order: Z, Y, X\n",
    "fig._add_ball_and_stick(coords[:, :, :, 1, :].reshape(-1, 3), 4 * 14 * [\"Al\"])\n",
    "fig.show()\n"
   ]
  },
  {
   "cell_type": "code",
   "execution_count": null,
   "metadata": {},
   "outputs": [],
   "source": [
    "fig = Figure()\n",
    "fig._add_unitcell(cell)\n",
    "# fig._add_ball_and_stick(coords[:,0,0,0,:].reshape(-1,3), species[:,0,0,0])\n",
    "# order: Z, Y, X\n",
    "fig._add_ball_and_stick(new_coords[:, 0, 0, 0, :].reshape(-1, 3), 4 * 14 * [\"Al\"])\n",
    "fig.show()\n"
   ]
  },
  {
   "cell_type": "code",
   "execution_count": null,
   "metadata": {},
   "outputs": [],
   "source": [
    "direction = [1,-1,0]\n",
    "fig = plot_ifc(phonons_ref, 7, direction)\n",
    "fig.show()"
   ]
  },
  {
   "cell_type": "code",
   "execution_count": null,
   "metadata": {},
   "outputs": [],
   "source": [
    "phonons_ref.auto_band_structure()\n",
    "phonons_ref.plot_band_structure().show()"
   ]
  },
  {
   "cell_type": "code",
   "execution_count": null,
   "metadata": {},
   "outputs": [],
   "source": [
    "phonons_merged.auto_band_structure()\n",
    "phonons_merged.plot_band_structure().show()"
   ]
  },
  {
   "cell_type": "code",
   "execution_count": null,
   "metadata": {},
   "outputs": [],
   "source": [
    "phonons_merged_asr = deepcopy(phonons_merged)\n",
    "phonons_merged_asr.symmetrize_force_constants()"
   ]
  },
  {
   "cell_type": "code",
   "execution_count": null,
   "metadata": {},
   "outputs": [],
   "source": [
    "phonons_merged_asr.auto_band_structure()\n",
    "phonons_merged_asr.plot_band_structure().show()"
   ]
  }
 ],
 "metadata": {
  "interpreter": {
   "hash": "451cee072b75647255325f7f8ffe9fc3e24430e959966271370a1aeda1d0a3e7"
  },
  "kernelspec": {
   "display_name": "Python 3.9.5 64-bit",
   "name": "python3"
  },
  "language_info": {
   "codemirror_mode": {
    "name": "ipython",
    "version": 3
   },
   "file_extension": ".py",
   "mimetype": "text/x-python",
   "name": "python",
   "nbconvert_exporter": "python",
   "pygments_lexer": "ipython3",
   "version": "3.9.5"
  }
 },
 "nbformat": 4,
 "nbformat_minor": 2
}