{
 "cells": [
  {
   "cell_type": "code",
   "execution_count": 1,
   "metadata": {
    "slideshow": {
     "slide_type": "skip"
    }
   },
   "outputs": [],
   "source": [
    "import numpy as np\n",
    "from copy import deepcopy\n",
    "\n",
    "import abipy\n",
    "from abipy import abilab\n",
    "from abipy.dfpt.converters import phonopy_to_abinit, abinit_to_phonopy\n",
    "\n",
    "from phonopy.phonon.band_structure import get_band_qpoints_and_path_connections\n",
    "\n",
    "import plotly\n",
    "from plotly.subplots import make_subplots\n",
    "import plotly.graph_objects as go\n",
    "\n",
    "from pymatgen_plotly import Figure\n"
   ]
  },
  {
   "cell_type": "code",
   "execution_count": 2,
   "metadata": {},
   "outputs": [],
   "source": [
    "def plot_ifc(phonons, atom_ind, direction):\n",
    "\n",
    "    super_structure = phonons.get_supercell()\n",
    "    force_constants = phonons.get_force_constants()[atom_ind]\n",
    "\n",
    "    direction = direction / np.linalg.norm(direction)\n",
    "\n",
    "    forces = np.dot(force_constants, direction)\n",
    "    magnitude = np.linalg.norm(forces, axis=1)[:, np.newaxis]\n",
    "\n",
    "    # inds = np.ravel_multi_index(np.triu_indices(4), (4, 4))\n",
    "    inds = range(16)\n",
    "    cols = plotly.colors.DEFAULT_PLOTLY_COLORS\n",
    "\n",
    "    fig = make_subplots(rows=2, cols=1, subplot_titles=(\"\", \"Logartihmic scale\"))\n",
    "\n",
    "    for (i, offset) in enumerate(inds):\n",
    "        disp = (\n",
    "            super_structure.positions[offset, 0:2] - super_structure.positions[0, 0:2]\n",
    "        )\n",
    "\n",
    "        z = super_structure.positions[offset::16, 2]\n",
    "        sort_inds = np.argsort(super_structure.positions[offset::16, 2])\n",
    "\n",
    "        fig.add_trace(\n",
    "            go.Scatter(\n",
    "                x=z[sort_inds],\n",
    "                y=magnitude[offset::16, 0][sort_inds],\n",
    "                name=f\"{np.round(disp,3)}\",\n",
    "                line=dict(width=2, color=cols[i % 10]),\n",
    "                legendgroup=\"group1\",\n",
    "            ),\n",
    "            row=1,\n",
    "            col=1,\n",
    "        )\n",
    "\n",
    "        fig.add_trace(\n",
    "            go.Scatter(\n",
    "                x=z[sort_inds],\n",
    "                y=np.log10(magnitude[offset::16, 0][sort_inds]),\n",
    "                name=f\"{np.round(disp,3)}\",\n",
    "                line=dict(width=2, color=cols[i % 10]),\n",
    "                legendgroup=\"group1\",\n",
    "                showlegend=False,\n",
    "            ),\n",
    "            row=2,\n",
    "            col=1,\n",
    "        )\n",
    "\n",
    "    # edit axis labels\n",
    "    fig[\"layout\"][\"xaxis\"][\"title\"] = \"z\"\n",
    "    fig[\"layout\"][\"xaxis2\"][\"title\"] = \"z\"\n",
    "    fig[\"layout\"][\"yaxis\"][\"title\"] = \"abs(F)\"\n",
    "    fig[\"layout\"][\"yaxis2\"][\"title\"] = \"log(abs(F))\"\n",
    "\n",
    "    fig.update_layout(\n",
    "        height=600,\n",
    "        width=800,\n",
    "        legend_title_text=\"x-y offset:\",\n",
    "        title_text=f\"The magnitude of interatomic force constants along {np.round(direction,3)}\",\n",
    "    )\n",
    "    return fig"
   ]
  },
  {
   "cell_type": "markdown",
   "metadata": {},
   "source": [
    "# Effect of truncating the IFCs"
   ]
  },
  {
   "cell_type": "code",
   "execution_count": 3,
   "metadata": {},
   "outputs": [],
   "source": [
    "filename = 'data/reduced_cell/04_fcc100_dfpt_12/outdata/out_DDB'\n",
    "ddb = abilab.abiopen(filename)\n",
    "phonons = ddb.anaget_phonopy_ifc()"
   ]
  },
  {
   "cell_type": "code",
   "execution_count": 4,
   "metadata": {},
   "outputs": [
    {
     "name": "stderr",
     "output_type": "stream",
     "text": [
      "/Users/fekad/.conda/envs/surfascope/lib/python3.9/site-packages/abipy/dfpt/converters.py:95: UserWarning: The hall number obtained based on the DDB symmetries differs from the one calculated with spglib: 424 versus 523. The conversion may be incorrect. Try changing symprec.\n",
      "  warnings.warn(\"The hall number obtained based on the DDB symmetries differs \"\n"
     ]
    }
   ],
   "source": [
    "filename_bulk = 'data/reduced_cell/02_dfpt/outdata/out_DDB'\n",
    "ddb_bulk = abilab.abiopen(filename_bulk)\n",
    "phonons_bulk = ddb_bulk.anaget_phonopy_ifc()"
   ]
  },
  {
   "cell_type": "code",
   "execution_count": 5,
   "metadata": {},
   "outputs": [],
   "source": [
    "filename_ref = 'data/reduced_cell/04_fcc100_dfpt_14/outdata/out_DDB'\n",
    "ddb_ref = abilab.abiopen(filename_ref)\n",
    "phonons_ref = ddb_ref.anaget_phonopy_ifc()"
   ]
  },
  {
   "cell_type": "code",
   "execution_count": 6,
   "metadata": {},
   "outputs": [],
   "source": [
    "def truncate(phonons, distance):\n",
    "\n",
    "    ifc = phonons.get_force_constants()\n",
    "    for i, coords_i in enumerate(phonons.unitcell.positions):\n",
    "        for j, coords_j in enumerate(phonons.supercell.positions):\n",
    "            if abs(coords_j[2] - coords_i[2]) > distance:\n",
    "                ifc[i, j, :, :] = 0\n",
    "\n",
    "    phonons.set_force_constants(ifc)\n",
    "\n",
    "\n",
    "def truncate(phonons, distance, periodic=False):\n",
    "\n",
    "    ifc = phonons.get_force_constants()\n",
    "    for i, coords_i in enumerate(phonons.unitcell.positions):\n",
    "        for j, coords_j in enumerate(phonons.supercell.positions):\n",
    "            if not periodic:\n",
    "                if abs(coords_j[2] - coords_i[2]) > distance:\n",
    "                    ifc[i, j, :, :] = 0\n",
    "            else:\n",
    "                if (\n",
    "                    abs(coords_j[2] - coords_i[2]) > distance\n",
    "                    and abs(\n",
    "                        coords_j[2] - coords_i[2] - phonons_bulk.supercell.cell[2, 2]\n",
    "                    )\n",
    "                    > distance\n",
    "                ):\n",
    "                    ifc[i, j, :, :] = 0\n",
    "\n",
    "    phonons.set_force_constants(ifc)\n"
   ]
  },
  {
   "cell_type": "code",
   "execution_count": 8,
   "metadata": {},
   "outputs": [],
   "source": [
    "# phonons_trunk = deepcopy(phonons)\n",
    "# truncate(phonons_trunk, 5., periodic=False)\n",
    "\n",
    "phonons_trunk = deepcopy(phonons_bulk)\n",
    "truncate(phonons_trunk, 5., periodic=True)"
   ]
  },
  {
   "cell_type": "code",
   "execution_count": 10,
   "metadata": {},
   "outputs": [
    {
     "name": "stderr",
     "output_type": "stream",
     "text": [
      "/var/folders/r0/h6qcb1qs2zv9drfhsjnkxr340000gn/T/ipykernel_62496/3101284686.py:40: RuntimeWarning:\n",
      "\n",
      "divide by zero encountered in log10\n",
      "\n"
     ]
    },
    {
     "data": {
      "application/vnd.plotly.v1+json": {
       "config": {
        "plotlyServerURL": "https://plot.ly"
       },
       "data": [
        {
         "legendgroup": "group1",
         "line": {
          "color": "rgb(31, 119, 180)",
          "width": 2
         },
         "name": "[0. 0.]",
         "type": "scatter",
         "x": [
          0,
          2.020899433459587,
          4.041798866919174,
          6.062698300378761,
          8.083597733838348,
          10.104497167297934,
          12.125396600757522,
          14.146296034217109
         ],
         "xaxis": "x",
         "y": [
          4.624552967291696,
          0.6373766571748279,
          0.04097014262296806,
          0,
          0,
          0,
          0.04097014262296806,
          0.637375790435661
         ],
         "yaxis": "y"
        },
        {
         "legendgroup": "group1",
         "line": {
          "color": "rgb(31, 119, 180)",
          "width": 2
         },
         "name": "[0. 0.]",
         "showlegend": false,
         "type": "scatter",
         "x": [
          0,
          2.020899433459587,
          4.041798866919174,
          6.062698300378761,
          8.083597733838348,
          10.104497167297934,
          12.125396600757522,
          14.146296034217109
         ],
         "xaxis": "x2",
         "y": [
          0.6650697580001093,
          -0.1956038458604022,
          -1.3875325242025762,
          null,
          null,
          null,
          -1.3875325242025762,
          -0.19560443643787187
         ],
         "yaxis": "y2"
        },
        {
         "legendgroup": "group1",
         "line": {
          "color": "rgb(255, 127, 14)",
          "width": 2
         },
         "name": "[ 2.021 -2.021]",
         "type": "scatter",
         "x": [
          0,
          2.020899433459587,
          4.041798866919174,
          6.062698300378761,
          8.083597733838348,
          10.104497167297934,
          12.125396600757522,
          14.146296034217109
         ],
         "xaxis": "x",
         "y": [
          1.2637441671251113,
          0.038266805105560416,
          0.02852113930438548,
          0,
          0,
          0,
          0.028521139304385528,
          0.03827671758401176
         ],
         "yaxis": "y"
        },
        {
         "legendgroup": "group1",
         "line": {
          "color": "rgb(255, 127, 14)",
          "width": 2
         },
         "name": "[ 2.021 -2.021]",
         "showlegend": false,
         "type": "scatter",
         "x": [
          0,
          2.020899433459587,
          4.041798866919174,
          6.062698300378761,
          8.083597733838348,
          10.104497167297934,
          12.125396600757522,
          14.146296034217109
         ],
         "xaxis": "x2",
         "y": [
          0.10165916409561628,
          -1.4171777954955418,
          -1.5448331301622062,
          null,
          null,
          null,
          -1.5448331301622054,
          -1.4170653121771315
         ],
         "yaxis": "y2"
        },
        {
         "legendgroup": "group1",
         "line": {
          "color": "rgb(44, 160, 44)",
          "width": 2
         },
         "name": "[ 4.042 -4.042]",
         "type": "scatter",
         "x": [
          0,
          2.020899433459587,
          4.041798866919174,
          6.062698300378761,
          8.083597733838348,
          10.104497167297934,
          12.125396600757522,
          14.146296034217109
         ],
         "xaxis": "x",
         "y": [
          0.08729832510823315,
          0.03827286991627424,
          0.024115862372466483,
          0,
          0,
          0,
          0.024115862372467076,
          0.0382738007248754
         ],
         "yaxis": "y"
        },
        {
         "legendgroup": "group1",
         "line": {
          "color": "rgb(44, 160, 44)",
          "width": 2
         },
         "name": "[ 4.042 -4.042]",
         "showlegend": false,
         "type": "scatter",
         "x": [
          0,
          2.020899433459587,
          4.041798866919174,
          6.062698300378761,
          8.083597733838348,
          10.104497167297934,
          12.125396600757522,
          14.146296034217109
         ],
         "xaxis": "x2",
         "y": [
          -1.0589940885192863,
          -1.417108970697643,
          -1.6176972032877315,
          null,
          null,
          null,
          -1.6176972032877208,
          -1.4170984086435177
         ],
         "yaxis": "y2"
        },
        {
         "legendgroup": "group1",
         "line": {
          "color": "rgb(214, 39, 40)",
          "width": 2
         },
         "name": "[ 6.063 -6.063]",
         "type": "scatter",
         "x": [
          0,
          2.020899433459587,
          4.041798866919174,
          6.062698300378761,
          8.083597733838348,
          10.104497167297934,
          12.125396600757522,
          14.146296034217109
         ],
         "xaxis": "x",
         "y": [
          1.2637441671251115,
          0.6373850338180839,
          0.028521139304385525,
          0,
          0,
          0,
          0.028521139304385493,
          0.6373782120575632
         ],
         "yaxis": "y"
        },
        {
         "legendgroup": "group1",
         "line": {
          "color": "rgb(214, 39, 40)",
          "width": 2
         },
         "name": "[ 6.063 -6.063]",
         "showlegend": false,
         "type": "scatter",
         "x": [
          0,
          2.020899433459587,
          4.041798866919174,
          6.062698300378761,
          8.083597733838348,
          10.104497167297934,
          12.125396600757522,
          14.146296034217109
         ],
         "xaxis": "x2",
         "y": [
          0.10165916409561636,
          -0.19559813823682257,
          -1.5448331301622056,
          null,
          null,
          null,
          -1.544833130162206,
          -0.19560278639868417
         ],
         "yaxis": "y2"
        },
        {
         "legendgroup": "group1",
         "line": {
          "color": "rgb(148, 103, 189)",
          "width": 2
         },
         "name": "[2.021 2.021]",
         "type": "scatter",
         "x": [
          0,
          2.020899433459587,
          4.041798866919174,
          6.062698300378761,
          8.083597733838348,
          10.104497167297934,
          12.125396600757522,
          14.146296034217109
         ],
         "xaxis": "x",
         "y": [
          0.014634205516464228,
          0.015464082739899873,
          0.013259833796183961,
          0,
          0,
          0,
          0.013259833796183984,
          0.015461970150979122
         ],
         "yaxis": "y"
        },
        {
         "legendgroup": "group1",
         "line": {
          "color": "rgb(148, 103, 189)",
          "width": 2
         },
         "name": "[2.021 2.021]",
         "showlegend": false,
         "type": "scatter",
         "x": [
          0,
          2.020899433459587,
          4.041798866919174,
          6.062698300378761,
          8.083597733838348,
          10.104497167297934,
          12.125396600757522,
          14.146296034217109
         ],
         "xaxis": "x2",
         "y": [
          -1.834630850215594,
          -1.8106758352996135,
          -1.8774619195098694,
          null,
          null,
          null,
          -1.8774619195098685,
          -1.8107351694613623
         ],
         "yaxis": "y2"
        },
        {
         "legendgroup": "group1",
         "line": {
          "color": "rgb(140, 86, 75)",
          "width": 2
         },
         "name": "[4.042 0.   ]",
         "type": "scatter",
         "x": [
          0,
          2.020899433459587,
          4.041798866919174,
          6.062698300378761,
          8.083597733838348,
          10.104497167297934,
          12.125396600757522,
          14.146296034217109
         ],
         "xaxis": "x",
         "y": [
          0.08998425673747083,
          0.02857168377787542,
          0.04260659072334593,
          0,
          0,
          0,
          0.04260659072334601,
          0.028573439214182986
         ],
         "yaxis": "y"
        },
        {
         "legendgroup": "group1",
         "line": {
          "color": "rgb(140, 86, 75)",
          "width": 2
         },
         "name": "[4.042 0.   ]",
         "showlegend": false,
         "type": "scatter",
         "x": [
          0,
          2.020899433459587,
          4.041798866919174,
          6.062698300378761,
          8.083597733838348,
          10.104497167297934,
          12.125396600757522,
          14.146296034217109
         ],
         "xaxis": "x2",
         "y": [
          -1.0458334662286024,
          -1.544064165151294,
          -1.370523215606512,
          null,
          null,
          null,
          -1.3705232156065112,
          -1.5440374830387347
         ],
         "yaxis": "y2"
        },
        {
         "legendgroup": "group1",
         "line": {
          "color": "rgb(227, 119, 194)",
          "width": 2
         },
         "name": "[ 6.063 -2.021]",
         "type": "scatter",
         "x": [
          0,
          2.020899433459587,
          4.041798866919174,
          6.062698300378761,
          8.083597733838348,
          10.104497167297934,
          12.125396600757522,
          14.146296034217109
         ],
         "xaxis": "x",
         "y": [
          0.028730043920287912,
          0.02857974651900268,
          0.03674970787759469,
          0,
          0,
          0,
          0.03674970787759496,
          0.028579963348637678
         ],
         "yaxis": "y"
        },
        {
         "legendgroup": "group1",
         "line": {
          "color": "rgb(227, 119, 194)",
          "width": 2
         },
         "name": "[ 6.063 -2.021]",
         "showlegend": false,
         "type": "scatter",
         "x": [
          0,
          2.020899433459587,
          4.041798866919174,
          6.062698300378761,
          8.083597733838348,
          10.104497167297934,
          12.125396600757522,
          14.146296034217109
         ],
         "xaxis": "x2",
         "y": [
          -1.541663710091446,
          -1.543941627395524,
          -1.4347461087608175,
          null,
          null,
          null,
          -1.4347461087608142,
          -1.5439383324902767
         ],
         "yaxis": "y2"
        },
        {
         "legendgroup": "group1",
         "line": {
          "color": "rgb(127, 127, 127)",
          "width": 2
         },
         "name": "[ 8.084 -4.042]",
         "type": "scatter",
         "x": [
          0,
          2.020899433459587,
          4.041798866919174,
          6.062698300378761,
          8.083597733838348,
          10.104497167297934,
          12.125396600757522,
          14.146296034217109
         ],
         "xaxis": "x",
         "y": [
          0.08998425673747085,
          0.015464317252546376,
          0.04260659072334603,
          0,
          0,
          0,
          0.04260659072334602,
          0.01546602168555636
         ],
         "yaxis": "y"
        },
        {
         "legendgroup": "group1",
         "line": {
          "color": "rgb(127, 127, 127)",
          "width": 2
         },
         "name": "[ 8.084 -4.042]",
         "showlegend": false,
         "type": "scatter",
         "x": [
          0,
          2.020899433459587,
          4.041798866919174,
          6.062698300378761,
          8.083597733838348,
          10.104497167297934,
          12.125396600757522,
          14.146296034217109
         ],
         "xaxis": "x2",
         "y": [
          -1.0458334662286024,
          -1.8106692492784588,
          -1.370523215606511,
          null,
          null,
          null,
          -1.370523215606511,
          -1.8106213852150717
         ],
         "yaxis": "y2"
        },
        {
         "legendgroup": "group1",
         "line": {
          "color": "rgb(188, 189, 34)",
          "width": 2
         },
         "name": "[4.042 4.042]",
         "type": "scatter",
         "x": [
          0,
          2.020899433459587,
          4.041798866919174,
          6.062698300378761,
          8.083597733838348,
          10.104497167297934,
          12.125396600757522,
          14.146296034217109
         ],
         "xaxis": "x",
         "y": [
          0.020526851581638684,
          0.015459913641677299,
          0.03927737140674924,
          0,
          0,
          0,
          0.03927737140674965,
          0.015461612521426622
         ],
         "yaxis": "y"
        },
        {
         "legendgroup": "group1",
         "line": {
          "color": "rgb(188, 189, 34)",
          "width": 2
         },
         "name": "[4.042 4.042]",
         "showlegend": false,
         "type": "scatter",
         "x": [
          0,
          2.020899433459587,
          4.041798866919174,
          6.062698300378761,
          8.083597733838348,
          10.104497167297934,
          12.125396600757522,
          14.146296034217109
         ],
         "xaxis": "x2",
         "y": [
          -1.6876776578177846,
          -1.8107929363586879,
          -1.4058575845750754,
          null,
          null,
          null,
          -1.405857584575071,
          -1.8107452146455099
         ],
         "yaxis": "y2"
        },
        {
         "legendgroup": "group1",
         "line": {
          "color": "rgb(23, 190, 207)",
          "width": 2
         },
         "name": "[6.063 2.021]",
         "type": "scatter",
         "x": [
          0,
          2.020899433459587,
          4.041798866919174,
          6.062698300378761,
          8.083597733838348,
          10.104497167297934,
          12.125396600757522,
          14.146296034217109
         ],
         "xaxis": "x",
         "y": [
          0.02075013473939218,
          0.028565248044425732,
          0.02199874799181404,
          0,
          0,
          0,
          0.02199874799181383,
          0.028565465298922975
         ],
         "yaxis": "y"
        },
        {
         "legendgroup": "group1",
         "line": {
          "color": "rgb(23, 190, 207)",
          "width": 2
         },
         "name": "[6.063 2.021]",
         "showlegend": false,
         "type": "scatter",
         "x": [
          0,
          2.020899433459587,
          4.041798866919174,
          6.062698300378761,
          8.083597733838348,
          10.104497167297934,
          12.125396600757522,
          14.146296034217109
         ],
         "xaxis": "x2",
         "y": [
          -1.682979078885164,
          -1.5441620004198982,
          -1.6576020353468406,
          null,
          null,
          null,
          -1.6576020353468446,
          -1.544158697382922
         ],
         "yaxis": "y2"
        },
        {
         "legendgroup": "group1",
         "line": {
          "color": "rgb(31, 119, 180)",
          "width": 2
         },
         "name": "[8.084 0.   ]",
         "type": "scatter",
         "x": [
          0,
          2.020899433459587,
          4.041798866919174,
          6.062698300378761,
          8.083597733838348,
          10.104497167297934,
          12.125396600757522,
          14.146296034217109
         ],
         "xaxis": "x",
         "y": [
          0.017730560111793015,
          0.028571771078954162,
          0.007332592933926137,
          0,
          0,
          0,
          0.007332592933925337,
          0.028573528168316844
         ],
         "yaxis": "y"
        },
        {
         "legendgroup": "group1",
         "line": {
          "color": "rgb(31, 119, 180)",
          "width": 2
         },
         "name": "[8.084 0.   ]",
         "showlegend": false,
         "type": "scatter",
         "x": [
          0,
          2.020899433459587,
          4.041798866919174,
          6.062698300378761,
          8.083597733838348,
          10.104497167297934,
          12.125396600757522,
          14.146296034217109
         ],
         "xaxis": "x2",
         "y": [
          -1.7512775447364368,
          -1.5440628381619879,
          -2.1347424240261645,
          null,
          null,
          null,
          -2.134742424026212,
          -1.5440361310058537
         ],
         "yaxis": "y2"
        },
        {
         "legendgroup": "group1",
         "line": {
          "color": "rgb(255, 127, 14)",
          "width": 2
         },
         "name": "[10.104 -2.021]",
         "type": "scatter",
         "x": [
          0,
          2.020899433459587,
          4.041798866919174,
          6.062698300378761,
          8.083597733838348,
          10.104497167297934,
          12.125396600757522,
          14.146296034217109
         ],
         "xaxis": "x",
         "y": [
          0.020750134739392207,
          0.015463955468758585,
          0.021998747991813818,
          0,
          0,
          0,
          0.02199874799181403,
          0.015461842700284268
         ],
         "yaxis": "y"
        },
        {
         "legendgroup": "group1",
         "line": {
          "color": "rgb(255, 127, 14)",
          "width": 2
         },
         "name": "[10.104 -2.021]",
         "showlegend": false,
         "type": "scatter",
         "x": [
          0,
          2.020899433459587,
          4.041798866919174,
          6.062698300378761,
          8.083597733838348,
          10.104497167297934,
          12.125396600757522,
          14.146296034217109
         ],
         "xaxis": "x2",
         "y": [
          -1.6829790788851635,
          -1.8106794096067838,
          -1.657602035346845,
          null,
          null,
          null,
          -1.6576020353468408,
          -1.8107387493002234
         ],
         "yaxis": "y2"
        },
        {
         "legendgroup": "group1",
         "line": {
          "color": "rgb(44, 160, 44)",
          "width": 2
         },
         "name": "[6.063 6.063]",
         "type": "scatter",
         "x": [
          0,
          2.020899433459587,
          4.041798866919174,
          6.062698300378761,
          8.083597733838348,
          10.104497167297934,
          12.125396600757522,
          14.146296034217109
         ],
         "xaxis": "x",
         "y": [
          0.014634205516464228,
          0.63737989718732,
          0.01325983379618394,
          0,
          0,
          0,
          0.013259833796183961,
          0.6373730752761035
         ],
         "yaxis": "y"
        },
        {
         "legendgroup": "group1",
         "line": {
          "color": "rgb(44, 160, 44)",
          "width": 2
         },
         "name": "[6.063 6.063]",
         "showlegend": false,
         "type": "scatter",
         "x": [
          0,
          2.020899433459587,
          4.041798866919174,
          6.062698300378761,
          8.083597733838348,
          10.104497167297934,
          12.125396600757522,
          14.146296034217109
         ],
         "xaxis": "x2",
         "y": [
          -1.834630850215594,
          -0.19560163819252743,
          -1.87746191950987,
          null,
          null,
          null,
          -1.8774619195098694,
          -0.19560628649453007
         ],
         "yaxis": "y2"
        },
        {
         "legendgroup": "group1",
         "line": {
          "color": "rgb(214, 39, 40)",
          "width": 2
         },
         "name": "[8.084 4.042]",
         "type": "scatter",
         "x": [
          0,
          2.020899433459587,
          4.041798866919174,
          6.062698300378761,
          8.083597733838348,
          10.104497167297934,
          12.125396600757522,
          14.146296034217109
         ],
         "xaxis": "x",
         "y": [
          0.08998425673747085,
          0.03827755160674909,
          0.042606590723346015,
          0,
          0,
          0,
          0.04260659072334603,
          0.03827848243810309
         ],
         "yaxis": "y"
        },
        {
         "legendgroup": "group1",
         "line": {
          "color": "rgb(214, 39, 40)",
          "width": 2
         },
         "name": "[8.084 4.042]",
         "showlegend": false,
         "type": "scatter",
         "x": [
          0,
          2.020899433459587,
          4.041798866919174,
          6.062698300378761,
          8.083597733838348,
          10.104497167297934,
          12.125396600757522,
          14.146296034217109
         ],
         "xaxis": "x2",
         "y": [
          -1.0458334662286024,
          -1.4170558493091179,
          -1.370523215606511,
          null,
          null,
          null,
          -1.370523215606511,
          -1.4170452882886655
         ],
         "yaxis": "y2"
        },
        {
         "legendgroup": "group1",
         "line": {
          "color": "rgb(148, 103, 189)",
          "width": 2
         },
         "name": "[10.104  2.021]",
         "type": "scatter",
         "x": [
          0,
          2.020899433459587,
          4.041798866919174,
          6.062698300378761,
          8.083597733838348,
          10.104497167297934,
          12.125396600757522,
          14.146296034217109
         ],
         "xaxis": "x",
         "y": [
          0.028730043920287923,
          0.038274632709588745,
          0.03674970787759496,
          0,
          0,
          0,
          0.036749707877594705,
          0.03828454544716848
         ],
         "yaxis": "y"
        },
        {
         "legendgroup": "group1",
         "line": {
          "color": "rgb(148, 103, 189)",
          "width": 2
         },
         "name": "[10.104  2.021]",
         "showlegend": false,
         "type": "scatter",
         "x": [
          0,
          2.020899433459587,
          4.041798866919174,
          6.062698300378761,
          8.083597733838348,
          10.104497167297934,
          12.125396600757522,
          14.146296034217109
         ],
         "xaxis": "x2",
         "y": [
          -1.5416637100914459,
          -1.417088968179387,
          -1.4347461087608142,
          null,
          null,
          null,
          -1.4347461087608173,
          -1.416976504922619
         ],
         "yaxis": "y2"
        },
        {
         "legendgroup": "group1",
         "line": {
          "color": "rgb(140, 86, 75)",
          "width": 2
         },
         "name": "[12.125 -0.   ]",
         "type": "scatter",
         "x": [
          0,
          2.020899433459587,
          4.041798866919174,
          6.062698300378761,
          8.083597733838348,
          10.104497167297934,
          12.125396600757522,
          14.146296034217109
         ],
         "xaxis": "x",
         "y": [
          0.08998425673747083,
          0.6373823186086519,
          0.04260659072334601,
          0,
          0,
          0,
          0.04260659072334593,
          0.6373814518795269
         ],
         "yaxis": "y"
        },
        {
         "legendgroup": "group1",
         "line": {
          "color": "rgb(140, 86, 75)",
          "width": 2
         },
         "name": "[12.125 -0.   ]",
         "showlegend": false,
         "type": "scatter",
         "x": [
          0,
          2.020899433459587,
          4.041798866919174,
          6.062698300378761,
          8.083597733838348,
          10.104497167297934,
          12.125396600757522,
          14.146296034217109
         ],
         "xaxis": "x2",
         "y": [
          -1.0458334662286024,
          -0.19559998830063421,
          -1.3705232156065112,
          null,
          null,
          null,
          -1.370523215606512,
          -0.19560057886601587
         ],
         "yaxis": "y2"
        }
       ],
       "layout": {
        "annotations": [
         {
          "font": {
           "size": 16
          },
          "showarrow": false,
          "text": "Logartihmic scale",
          "x": 0.5,
          "xanchor": "center",
          "xref": "paper",
          "y": 0.375,
          "yanchor": "bottom",
          "yref": "paper"
         }
        ],
        "height": 600,
        "legend": {
         "title": {
          "text": "x-y offset:"
         }
        },
        "template": {
         "data": {
          "bar": [
           {
            "error_x": {
             "color": "#2a3f5f"
            },
            "error_y": {
             "color": "#2a3f5f"
            },
            "marker": {
             "line": {
              "color": "#E5ECF6",
              "width": 0.5
             },
             "pattern": {
              "fillmode": "overlay",
              "size": 10,
              "solidity": 0.2
             }
            },
            "type": "bar"
           }
          ],
          "barpolar": [
           {
            "marker": {
             "line": {
              "color": "#E5ECF6",
              "width": 0.5
             },
             "pattern": {
              "fillmode": "overlay",
              "size": 10,
              "solidity": 0.2
             }
            },
            "type": "barpolar"
           }
          ],
          "carpet": [
           {
            "aaxis": {
             "endlinecolor": "#2a3f5f",
             "gridcolor": "white",
             "linecolor": "white",
             "minorgridcolor": "white",
             "startlinecolor": "#2a3f5f"
            },
            "baxis": {
             "endlinecolor": "#2a3f5f",
             "gridcolor": "white",
             "linecolor": "white",
             "minorgridcolor": "white",
             "startlinecolor": "#2a3f5f"
            },
            "type": "carpet"
           }
          ],
          "choropleth": [
           {
            "colorbar": {
             "outlinewidth": 0,
             "ticks": ""
            },
            "type": "choropleth"
           }
          ],
          "contour": [
           {
            "colorbar": {
             "outlinewidth": 0,
             "ticks": ""
            },
            "colorscale": [
             [
              0,
              "#0d0887"
             ],
             [
              0.1111111111111111,
              "#46039f"
             ],
             [
              0.2222222222222222,
              "#7201a8"
             ],
             [
              0.3333333333333333,
              "#9c179e"
             ],
             [
              0.4444444444444444,
              "#bd3786"
             ],
             [
              0.5555555555555556,
              "#d8576b"
             ],
             [
              0.6666666666666666,
              "#ed7953"
             ],
             [
              0.7777777777777778,
              "#fb9f3a"
             ],
             [
              0.8888888888888888,
              "#fdca26"
             ],
             [
              1,
              "#f0f921"
             ]
            ],
            "type": "contour"
           }
          ],
          "contourcarpet": [
           {
            "colorbar": {
             "outlinewidth": 0,
             "ticks": ""
            },
            "type": "contourcarpet"
           }
          ],
          "heatmap": [
           {
            "colorbar": {
             "outlinewidth": 0,
             "ticks": ""
            },
            "colorscale": [
             [
              0,
              "#0d0887"
             ],
             [
              0.1111111111111111,
              "#46039f"
             ],
             [
              0.2222222222222222,
              "#7201a8"
             ],
             [
              0.3333333333333333,
              "#9c179e"
             ],
             [
              0.4444444444444444,
              "#bd3786"
             ],
             [
              0.5555555555555556,
              "#d8576b"
             ],
             [
              0.6666666666666666,
              "#ed7953"
             ],
             [
              0.7777777777777778,
              "#fb9f3a"
             ],
             [
              0.8888888888888888,
              "#fdca26"
             ],
             [
              1,
              "#f0f921"
             ]
            ],
            "type": "heatmap"
           }
          ],
          "heatmapgl": [
           {
            "colorbar": {
             "outlinewidth": 0,
             "ticks": ""
            },
            "colorscale": [
             [
              0,
              "#0d0887"
             ],
             [
              0.1111111111111111,
              "#46039f"
             ],
             [
              0.2222222222222222,
              "#7201a8"
             ],
             [
              0.3333333333333333,
              "#9c179e"
             ],
             [
              0.4444444444444444,
              "#bd3786"
             ],
             [
              0.5555555555555556,
              "#d8576b"
             ],
             [
              0.6666666666666666,
              "#ed7953"
             ],
             [
              0.7777777777777778,
              "#fb9f3a"
             ],
             [
              0.8888888888888888,
              "#fdca26"
             ],
             [
              1,
              "#f0f921"
             ]
            ],
            "type": "heatmapgl"
           }
          ],
          "histogram": [
           {
            "marker": {
             "pattern": {
              "fillmode": "overlay",
              "size": 10,
              "solidity": 0.2
             }
            },
            "type": "histogram"
           }
          ],
          "histogram2d": [
           {
            "colorbar": {
             "outlinewidth": 0,
             "ticks": ""
            },
            "colorscale": [
             [
              0,
              "#0d0887"
             ],
             [
              0.1111111111111111,
              "#46039f"
             ],
             [
              0.2222222222222222,
              "#7201a8"
             ],
             [
              0.3333333333333333,
              "#9c179e"
             ],
             [
              0.4444444444444444,
              "#bd3786"
             ],
             [
              0.5555555555555556,
              "#d8576b"
             ],
             [
              0.6666666666666666,
              "#ed7953"
             ],
             [
              0.7777777777777778,
              "#fb9f3a"
             ],
             [
              0.8888888888888888,
              "#fdca26"
             ],
             [
              1,
              "#f0f921"
             ]
            ],
            "type": "histogram2d"
           }
          ],
          "histogram2dcontour": [
           {
            "colorbar": {
             "outlinewidth": 0,
             "ticks": ""
            },
            "colorscale": [
             [
              0,
              "#0d0887"
             ],
             [
              0.1111111111111111,
              "#46039f"
             ],
             [
              0.2222222222222222,
              "#7201a8"
             ],
             [
              0.3333333333333333,
              "#9c179e"
             ],
             [
              0.4444444444444444,
              "#bd3786"
             ],
             [
              0.5555555555555556,
              "#d8576b"
             ],
             [
              0.6666666666666666,
              "#ed7953"
             ],
             [
              0.7777777777777778,
              "#fb9f3a"
             ],
             [
              0.8888888888888888,
              "#fdca26"
             ],
             [
              1,
              "#f0f921"
             ]
            ],
            "type": "histogram2dcontour"
           }
          ],
          "mesh3d": [
           {
            "colorbar": {
             "outlinewidth": 0,
             "ticks": ""
            },
            "type": "mesh3d"
           }
          ],
          "parcoords": [
           {
            "line": {
             "colorbar": {
              "outlinewidth": 0,
              "ticks": ""
             }
            },
            "type": "parcoords"
           }
          ],
          "pie": [
           {
            "automargin": true,
            "type": "pie"
           }
          ],
          "scatter": [
           {
            "marker": {
             "colorbar": {
              "outlinewidth": 0,
              "ticks": ""
             }
            },
            "type": "scatter"
           }
          ],
          "scatter3d": [
           {
            "line": {
             "colorbar": {
              "outlinewidth": 0,
              "ticks": ""
             }
            },
            "marker": {
             "colorbar": {
              "outlinewidth": 0,
              "ticks": ""
             }
            },
            "type": "scatter3d"
           }
          ],
          "scattercarpet": [
           {
            "marker": {
             "colorbar": {
              "outlinewidth": 0,
              "ticks": ""
             }
            },
            "type": "scattercarpet"
           }
          ],
          "scattergeo": [
           {
            "marker": {
             "colorbar": {
              "outlinewidth": 0,
              "ticks": ""
             }
            },
            "type": "scattergeo"
           }
          ],
          "scattergl": [
           {
            "marker": {
             "colorbar": {
              "outlinewidth": 0,
              "ticks": ""
             }
            },
            "type": "scattergl"
           }
          ],
          "scattermapbox": [
           {
            "marker": {
             "colorbar": {
              "outlinewidth": 0,
              "ticks": ""
             }
            },
            "type": "scattermapbox"
           }
          ],
          "scatterpolar": [
           {
            "marker": {
             "colorbar": {
              "outlinewidth": 0,
              "ticks": ""
             }
            },
            "type": "scatterpolar"
           }
          ],
          "scatterpolargl": [
           {
            "marker": {
             "colorbar": {
              "outlinewidth": 0,
              "ticks": ""
             }
            },
            "type": "scatterpolargl"
           }
          ],
          "scatterternary": [
           {
            "marker": {
             "colorbar": {
              "outlinewidth": 0,
              "ticks": ""
             }
            },
            "type": "scatterternary"
           }
          ],
          "surface": [
           {
            "colorbar": {
             "outlinewidth": 0,
             "ticks": ""
            },
            "colorscale": [
             [
              0,
              "#0d0887"
             ],
             [
              0.1111111111111111,
              "#46039f"
             ],
             [
              0.2222222222222222,
              "#7201a8"
             ],
             [
              0.3333333333333333,
              "#9c179e"
             ],
             [
              0.4444444444444444,
              "#bd3786"
             ],
             [
              0.5555555555555556,
              "#d8576b"
             ],
             [
              0.6666666666666666,
              "#ed7953"
             ],
             [
              0.7777777777777778,
              "#fb9f3a"
             ],
             [
              0.8888888888888888,
              "#fdca26"
             ],
             [
              1,
              "#f0f921"
             ]
            ],
            "type": "surface"
           }
          ],
          "table": [
           {
            "cells": {
             "fill": {
              "color": "#EBF0F8"
             },
             "line": {
              "color": "white"
             }
            },
            "header": {
             "fill": {
              "color": "#C8D4E3"
             },
             "line": {
              "color": "white"
             }
            },
            "type": "table"
           }
          ]
         },
         "layout": {
          "annotationdefaults": {
           "arrowcolor": "#2a3f5f",
           "arrowhead": 0,
           "arrowwidth": 1
          },
          "autotypenumbers": "strict",
          "coloraxis": {
           "colorbar": {
            "outlinewidth": 0,
            "ticks": ""
           }
          },
          "colorscale": {
           "diverging": [
            [
             0,
             "#8e0152"
            ],
            [
             0.1,
             "#c51b7d"
            ],
            [
             0.2,
             "#de77ae"
            ],
            [
             0.3,
             "#f1b6da"
            ],
            [
             0.4,
             "#fde0ef"
            ],
            [
             0.5,
             "#f7f7f7"
            ],
            [
             0.6,
             "#e6f5d0"
            ],
            [
             0.7,
             "#b8e186"
            ],
            [
             0.8,
             "#7fbc41"
            ],
            [
             0.9,
             "#4d9221"
            ],
            [
             1,
             "#276419"
            ]
           ],
           "sequential": [
            [
             0,
             "#0d0887"
            ],
            [
             0.1111111111111111,
             "#46039f"
            ],
            [
             0.2222222222222222,
             "#7201a8"
            ],
            [
             0.3333333333333333,
             "#9c179e"
            ],
            [
             0.4444444444444444,
             "#bd3786"
            ],
            [
             0.5555555555555556,
             "#d8576b"
            ],
            [
             0.6666666666666666,
             "#ed7953"
            ],
            [
             0.7777777777777778,
             "#fb9f3a"
            ],
            [
             0.8888888888888888,
             "#fdca26"
            ],
            [
             1,
             "#f0f921"
            ]
           ],
           "sequentialminus": [
            [
             0,
             "#0d0887"
            ],
            [
             0.1111111111111111,
             "#46039f"
            ],
            [
             0.2222222222222222,
             "#7201a8"
            ],
            [
             0.3333333333333333,
             "#9c179e"
            ],
            [
             0.4444444444444444,
             "#bd3786"
            ],
            [
             0.5555555555555556,
             "#d8576b"
            ],
            [
             0.6666666666666666,
             "#ed7953"
            ],
            [
             0.7777777777777778,
             "#fb9f3a"
            ],
            [
             0.8888888888888888,
             "#fdca26"
            ],
            [
             1,
             "#f0f921"
            ]
           ]
          },
          "colorway": [
           "#636efa",
           "#EF553B",
           "#00cc96",
           "#ab63fa",
           "#FFA15A",
           "#19d3f3",
           "#FF6692",
           "#B6E880",
           "#FF97FF",
           "#FECB52"
          ],
          "font": {
           "color": "#2a3f5f"
          },
          "geo": {
           "bgcolor": "white",
           "lakecolor": "white",
           "landcolor": "#E5ECF6",
           "showlakes": true,
           "showland": true,
           "subunitcolor": "white"
          },
          "hoverlabel": {
           "align": "left"
          },
          "hovermode": "closest",
          "mapbox": {
           "style": "light"
          },
          "paper_bgcolor": "white",
          "plot_bgcolor": "#E5ECF6",
          "polar": {
           "angularaxis": {
            "gridcolor": "white",
            "linecolor": "white",
            "ticks": ""
           },
           "bgcolor": "#E5ECF6",
           "radialaxis": {
            "gridcolor": "white",
            "linecolor": "white",
            "ticks": ""
           }
          },
          "scene": {
           "xaxis": {
            "backgroundcolor": "#E5ECF6",
            "gridcolor": "white",
            "gridwidth": 2,
            "linecolor": "white",
            "showbackground": true,
            "ticks": "",
            "zerolinecolor": "white"
           },
           "yaxis": {
            "backgroundcolor": "#E5ECF6",
            "gridcolor": "white",
            "gridwidth": 2,
            "linecolor": "white",
            "showbackground": true,
            "ticks": "",
            "zerolinecolor": "white"
           },
           "zaxis": {
            "backgroundcolor": "#E5ECF6",
            "gridcolor": "white",
            "gridwidth": 2,
            "linecolor": "white",
            "showbackground": true,
            "ticks": "",
            "zerolinecolor": "white"
           }
          },
          "shapedefaults": {
           "line": {
            "color": "#2a3f5f"
           }
          },
          "ternary": {
           "aaxis": {
            "gridcolor": "white",
            "linecolor": "white",
            "ticks": ""
           },
           "baxis": {
            "gridcolor": "white",
            "linecolor": "white",
            "ticks": ""
           },
           "bgcolor": "#E5ECF6",
           "caxis": {
            "gridcolor": "white",
            "linecolor": "white",
            "ticks": ""
           }
          },
          "title": {
           "x": 0.05
          },
          "xaxis": {
           "automargin": true,
           "gridcolor": "white",
           "linecolor": "white",
           "ticks": "",
           "title": {
            "standoff": 15
           },
           "zerolinecolor": "white",
           "zerolinewidth": 2
          },
          "yaxis": {
           "automargin": true,
           "gridcolor": "white",
           "linecolor": "white",
           "ticks": "",
           "title": {
            "standoff": 15
           },
           "zerolinecolor": "white",
           "zerolinewidth": 2
          }
         }
        },
        "title": {
         "text": "The magnitude of interatomic force constants along [ 0.707 -0.707  0.   ]"
        },
        "width": 800,
        "xaxis": {
         "anchor": "y",
         "domain": [
          0,
          1
         ],
         "title": {
          "text": "z"
         }
        },
        "xaxis2": {
         "anchor": "y2",
         "domain": [
          0,
          1
         ],
         "title": {
          "text": "z"
         }
        },
        "yaxis": {
         "anchor": "x",
         "domain": [
          0.625,
          1
         ],
         "title": {
          "text": "abs(F)"
         }
        },
        "yaxis2": {
         "anchor": "x2",
         "domain": [
          0,
          0.375
         ],
         "title": {
          "text": "log(abs(F))"
         }
        }
       }
      }
     },
     "metadata": {},
     "output_type": "display_data"
    }
   ],
   "source": [
    "direction = [1,-1,0]\n",
    "fig = plot_ifc(phonons_trunk, 0, direction)\n",
    "fig.show()"
   ]
  },
  {
   "cell_type": "code",
   "execution_count": 11,
   "metadata": {},
   "outputs": [
    {
     "data": {
      "image/png": "[encoded data removed]",
      "text/plain": [
       "<Figure size 432x288 with 4 Axes>"
      ]
     },
     "metadata": {
      "needs_background": "light"
     },
     "output_type": "display_data"
    }
   ],
   "source": [
    "phonons_trunk.auto_band_structure()\n",
    "phonons_trunk.plot_band_structure().show()"
   ]
  },
  {
   "cell_type": "code",
   "execution_count": 12,
   "metadata": {},
   "outputs": [
    {
     "data": {
      "image/png": "[encoded data removed]",
      "text/plain": [
       "<Figure size 432x288 with 4 Axes>"
      ]
     },
     "metadata": {
      "needs_background": "light"
     },
     "output_type": "display_data"
    }
   ],
   "source": [
    "phonons_trunk_asr = deepcopy(phonons_trunk)\n",
    "phonons_trunk_asr.symmetrize_force_constants()\n",
    "phonons_trunk_asr.auto_band_structure()\n",
    "phonons_trunk_asr.plot_band_structure().show()"
   ]
  },
  {
   "cell_type": "code",
   "execution_count": 13,
   "metadata": {},
   "outputs": [
    {
     "data": {
      "image/png": "[encoded data removed]",
      "text/plain": [
       "<Figure size 432x288 with 6 Axes>"
      ]
     },
     "metadata": {
      "needs_background": "light"
     },
     "output_type": "display_data"
    }
   ],
   "source": [
    "phonons.auto_band_structure()\n",
    "phonons.plot_band_structure().show()"
   ]
  },
  {
   "cell_type": "code",
   "execution_count": 14,
   "metadata": {},
   "outputs": [
    {
     "data": {
      "image/png": "[encoded data removed]",
      "text/plain": [
       "<Figure size 432x288 with 4 Axes>"
      ]
     },
     "metadata": {
      "needs_background": "light"
     },
     "output_type": "display_data"
    }
   ],
   "source": [
    "phonons_bulk.auto_band_structure()\n",
    "phonons_bulk.plot_band_structure().show()"
   ]
  },
  {
   "cell_type": "markdown",
   "metadata": {},
   "source": [
    "# Merging bulk and slab to reproduce reference calculation"
   ]
  },
  {
   "cell_type": "code",
   "execution_count": null,
   "metadata": {},
   "outputs": [],
   "source": [
    "cell = phonons.unitcell.cell\n",
    "coords = phonons.supercell.positions.reshape(12, 1, 4, 4, 3)\n",
    "species = np.array(phonons.supercell.get_chemical_symbols()).reshape(12, 1, 4, 4)\n",
    "ifc = phonons.force_constants.reshape(12, 12, 1, 4, 4, 3, 3)\n",
    "\n",
    "extra_coords = phonons_bulk.supercell.positions.reshape(2, 4, 4, 4, 3)\n",
    "extra_species = np.array(phonons_bulk.supercell.get_chemical_symbols()).reshape(2, 4, 4, 4)\n",
    "extra_ifc = phonons_bulk.force_constants.reshape(2, 2, 4, 4, 4, 3, 3)\n",
    "\n",
    "origin_offset = coords[6, 0, 0, 0, 2]\n",
    "extra_height = phonons_bulk.unitcell.cell[2, 2]\n",
    "\n",
    "# remove force constants between the two separated half\n",
    "ifc[:6, 6:, :, :, :, :] = 0\n",
    "ifc[6:, :6, :, :, :, :] = 0\n",
    "\n",
    "new_cell = cell\n",
    "new_cell[2, 2] += extra_height\n",
    "\n",
    "new_coords = np.zeros((12 + 2, 1, 4, 4, 3))\n",
    "new_coords[:6, :, :, :, :] = coords[:6, :, :, :, :]\n",
    "new_coords[8:, :, :, :, :] = coords[6:, :, :, :, :]\n",
    "new_coords[8:, :, :, :, 2] += extra_height\n",
    "\n",
    "new_coords[6:8, 0, :, :, :] = extra_coords[:, 0, :, :, :]\n",
    "new_coords[6:8, :, :, :, 2] += origin_offset\n",
    "\n",
    "new_ifc = np.zeros((12 + 2, 12 + 2, 1, 4, 4, 3, 3))\n",
    "# new_ifc = np.zeros((12+2,12+2,4,4,1,3,3)) ????\n",
    "new_ifc[:6, :6, :, :, :, :, :] = ifc[:6, :6, :, :, :, :, :]\n",
    "new_ifc[8:, 8:, :, :, :, :, :] = ifc[6:, 6:, :, :, :, :, :]\n",
    "\n",
    "new_ifc[6:8, 6:8, 0, :, :, :, :] = extra_ifc[:, :, 0, :, :, :, :]\n",
    "\n",
    "new_ifc[6:8, 8:10, 0, :, :, :, :] = extra_ifc[:, :, 1, :, :, :, :]\n",
    "new_ifc[6:8, 4:6, 0, :, :, :, :] = extra_ifc[:, :, -1, :, :, :, :]\n",
    "\n",
    "# symmetrising\n",
    "new_ifc[8:10, 6:8, 0, :, :, :, :] = new_ifc[6:8, 8:10, 0, :, :, :, :]\n",
    "new_ifc[4:6, 6:8, 0, :, :, :, :] = new_ifc[6:8, 4:6, 0, :, :, :, :]\n"
   ]
  },
  {
   "cell_type": "code",
   "execution_count": null,
   "metadata": {},
   "outputs": [],
   "source": [
    "phonons_merged = deepcopy(phonons_ref)\n",
    "phonons_merged.set_force_constants(new_ifc.reshape(14,-1,3,3))\n",
    "direction = [1,-1,0]\n",
    "fig = plot_ifc(phonons_merged, 6, direction)\n",
    "fig.show()"
   ]
  },
  {
   "cell_type": "code",
   "execution_count": null,
   "metadata": {},
   "outputs": [],
   "source": [
    "cell = phonons_ref.unitcell.cell\n",
    "coords = phonons_ref.supercell.positions.reshape(14, 1, 4, 4, 3)\n",
    "\n",
    "fig = Figure()\n",
    "fig._add_unitcell(cell)\n",
    "# fig._add_ball_and_stick(coords[:,0,0,0,:].reshape(-1,3), species[:,0,0,0])\n",
    "# order: Z, Y, X\n",
    "fig._add_ball_and_stick(coords[:, :, :, 1, :].reshape(-1, 3), 4 * 14 * [\"Al\"])\n",
    "fig.show()\n"
   ]
  },
  {
   "cell_type": "code",
   "execution_count": null,
   "metadata": {},
   "outputs": [],
   "source": [
    "fig = Figure()\n",
    "fig._add_unitcell(cell)\n",
    "# fig._add_ball_and_stick(coords[:,0,0,0,:].reshape(-1,3), species[:,0,0,0])\n",
    "# order: Z, Y, X\n",
    "fig._add_ball_and_stick(new_coords[:, 0, 0, 0, :].reshape(-1, 3), 4 * 14 * [\"Al\"])\n",
    "fig.show()\n"
   ]
  },
  {
   "cell_type": "code",
   "execution_count": null,
   "metadata": {},
   "outputs": [],
   "source": [
    "direction = [1,-1,0]\n",
    "fig = plot_ifc(phonons_ref, 7, direction)\n",
    "fig.show()"
   ]
  },
  {
   "cell_type": "code",
   "execution_count": null,
   "metadata": {},
   "outputs": [],
   "source": [
    "phonons_ref.auto_band_structure()\n",
    "phonons_ref.plot_band_structure().show()"
   ]
  },
  {
   "cell_type": "code",
   "execution_count": null,
   "metadata": {},
   "outputs": [],
   "source": [
    "phonons_merged.auto_band_structure()\n",
    "phonons_merged.plot_band_structure().show()"
   ]
  },
  {
   "cell_type": "code",
   "execution_count": null,
   "metadata": {},
   "outputs": [],
   "source": [
    "phonons_merged_asr = deepcopy(phonons_merged)\n",
    "phonons_merged_asr.symmetrize_force_constants()"
   ]
  },
  {
   "cell_type": "code",
   "execution_count": null,
   "metadata": {},
   "outputs": [],
   "source": [
    "phonons_merged_asr.auto_band_structure()\n",
    "phonons_merged_asr.plot_band_structure().show()"
   ]
  }
 ],
 "metadata": {
  "interpreter": {
   "hash": "451cee072b75647255325f7f8ffe9fc3e24430e959966271370a1aeda1d0a3e7"
  },
  "kernelspec": {
   "display_name": "Python 3.9.5 64-bit",
   "name": "python3"
  },
  "language_info": {
   "codemirror_mode": {
    "name": "ipython",
    "version": 3
   },
   "file_extension": ".py",
   "mimetype": "text/x-python",
   "name": "python",
   "nbconvert_exporter": "python",
   "pygments_lexer": "ipython3",
   "version": "3.9.5"
  }
 },
 "nbformat": 4,
 "nbformat_minor": 2
}