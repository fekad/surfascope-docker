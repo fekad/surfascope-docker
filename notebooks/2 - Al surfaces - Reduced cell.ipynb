{
 "cells": [
  {
   "cell_type": "markdown",
   "metadata": {},
   "source": [
    "# Al surface - Reduced cell\n",
    "\n",
    "\n",
    "In this notebook we will do abinit calculation for a Aluminium surface.\n",
    "For simplicity we will use convetional cell for the calculations.\n",
    "\n",
    "Basic overview:\n",
    "- Bulk - structure optimisation:\n",
    "  - total energy\n",
    "  - lattice parameters\n",
    "- Surfaces:\n",
    "  - the relaxation of surface atoms?\n",
    "  - surface energy\n"
   ]
  },
  {
   "cell_type": "code",
   "execution_count": null,
   "metadata": {},
   "outputs": [],
   "source": [
    "# %load_ext autoreload\n",
    "# %autoreload 2\n",
    "# %matplotlib inline\n",
    "\n",
    "import warnings \n",
    "import numpy as np\n",
    "import matplotlib.pylab as plt\n",
    "import plotly.graph_objects as go\n",
    "\n",
    "from itertools import product\n",
    "\n",
    "from abipy import abilab, flowtk\n",
    "\n",
    "from pymatgen.core import Structure, Lattice\n",
    "from pseudo_dojo import OfficialDojoTable\n",
    "\n",
    "from jupyter_jsmol import JsmolView\n",
    "from jupyter_jsmol.pymatgen import quick_view\n",
    "from pymatgen_plotly import Figure\n",
    "\n",
    "abilab.enable_notebook() # This line tells AbiPy we are running inside a notebook\n",
    "warnings.filterwarnings(\"ignore\")  # Ignore warnings\n",
    "\n",
    "pseudos_table = OfficialDojoTable.from_dojodir(\"ONCVPSP-PBE-PDv0.4\", accuracy='standard')\n"
   ]
  },
  {
   "cell_type": "markdown",
   "metadata": {},
   "source": [
    "# Bulk\n",
    "\n",
    "## Initial structure"
   ]
  },
  {
   "cell_type": "code",
   "execution_count": null,
   "metadata": {},
   "outputs": [],
   "source": [
    "lattice_constant = 4.041265916093099 # angstrom\n",
    "lattice_constant"
   ]
  },
  {
   "cell_type": "code",
   "execution_count": null,
   "metadata": {},
   "outputs": [],
   "source": [
    "def fcc_conv(element:str, a:float):\n",
    "    # lattice=Lattice.cubic(a),\n",
    "    structure = Structure(\n",
    "        lattice=Lattice([[a, 0, 0], [0, a, 0], [0, 0, a]]),\n",
    "        species=4*[element],\n",
    "        coords=[[0, 0, 0], [.5, .5, 0], [.5, 0, .5], [0, .5, .5]]\n",
    "    )\n",
    "    return structure\n",
    "\n",
    "struct_conv = fcc_conv('Al', lattice_constant) \n",
    "struct_conv"
   ]
  },
  {
   "cell_type": "markdown",
   "metadata": {},
   "source": [
    "## Surface energy of aluminum (100): changing the orientation of the unit cell¶\n",
    "\n",
    "In order to study the Aluminum (100) surface, we will have to set up a supercell representing a slab. This supercell should be chosen as to be compatible with the primitive surface unit cell. The corresponding directions are `[-1 1 0]` and `[1 1 0]`. The direction perpendicular to the surface is `[0 0 1]`. There is no primitive cell of bulk aluminum based on these vectors, but a doubled cell. We will first compute the total energy associated with this doubled cell. This is not strictly needed, but it is a valuable intermediate step towards the study of the surface.\n",
    "\n",
    "You might start from tbase4_3.in. You have to change rprim. Still, try to keep acell at the values of bulk aluminum that were determined previously. But it is not all: the most difficult part in the passage to this doubled cell is the definition of the k-point grid. Of course, one could just take a homogeneous simple cubic grid of k-points, but this will not correspond exactly to the k-point grid used in the primitive cell in tbase4_3.in. This would not be a big problem, but you would miss some error cancellation."
   ]
  },
  {
   "cell_type": "code",
   "execution_count": null,
   "metadata": {
    "scrolled": true
   },
   "outputs": [],
   "source": [
    "def fcc_reduced(element: str, a: float):\n",
    "    structure = Structure(\n",
    "        lattice=Lattice([[a/2, -a/2, 0], [a/2, a/2, 0], [0, 0, a]]),\n",
    "        species=2 * [element],\n",
    "        coords=[[0, 0, 0], [.5, .5, .5]]\n",
    "    )\n",
    "    return structure\n",
    "\n",
    "struct_initial = fcc_reduced('Al', lattice_constant)\n",
    "struct_initial"
   ]
  },
  {
   "cell_type": "code",
   "execution_count": null,
   "metadata": {},
   "outputs": [],
   "source": [
    "fig = Figure()\n",
    "fig.add_structure(struct_conv)\n",
    "fig.add_unitcell(struct_conv.lattice)\n",
    "# fig.add_unitcell(struct_initial.lattice)\n",
    "fig.show()"
   ]
  },
  {
   "cell_type": "code",
   "execution_count": null,
   "metadata": {},
   "outputs": [],
   "source": [
    "# quick_view(struct_initial)\n",
    "\n",
    "fig = Figure()\n",
    "fig.add_structure(struct_initial, supercell=(1,1,1))\n",
    "fig.add_unitcell(struct_initial.lattice)\n",
    "fig.show()"
   ]
  },
  {
   "cell_type": "markdown",
   "metadata": {},
   "source": [
    "## Convergence (k-point, tsmear)\n",
    "\n",
    "## The convergence study with respect to k points and broadening\n",
    "\n",
    "Note that there is usually a STRONG cross-convergence effect between the number of k-points (sampling of the Brillouin zone) and the value of the broadening.\n",
    "The right procedure is: for each value of broadening, to get the convergence with respect to the number of k points `nkpt`, then to compare the k-point converged values for different values of `tsmear`.\n",
    "\n",
    "In what follows, we will restrict ourselves to the grids with `nkpt=2` (`ngkpt 2 2 2`), `10`  (`ngkpt 4 4 4`) and `28`  (`ngkpt 6 6 6`).\n",
    "\n",
    "Now we use `relax_input` to generate multiple inputs with different values of `tsmear` and `nksmall`\n",
    "and we pass the input objects to the Flow constructor.\n",
    "To keep things as simple as possible, we use independent tasks ..."
   ]
  },
  {
   "cell_type": "code",
   "execution_count": null,
   "metadata": {},
   "outputs": [],
   "source": [
    "# tsmear_list = [0.01, 0.02, 0.03, 0.04]\n",
    "# nksmall_list = [2, 4, 6]\n",
    "\n",
    "# inputs     = [relax_input(struct_prim, pseudo_table, tsmear, nksmall) for tsmear, nksmall in product(tsmear_list, nksmall_list)]\n"
   ]
  },
  {
   "cell_type": "code",
   "execution_count": null,
   "metadata": {},
   "outputs": [],
   "source": [
    "# # Build flow form inputs.\n",
    "# # Note the Flow.from_inputs is a simplified interface that, by default, builds tasks\n",
    "# # for Ground-state calculation (GsTask).\n",
    "# # Here we are performing a structural relaxation so we have to specify the task class explicitly.\n",
    "# # AbiPy will use this piece of information to handle the restart of the RelaxTask that differs\n",
    "# # from the one provided by GsTask.\n",
    "    \n",
    "# flow = flowtk.Flow.from_inputs('flow_al_relax_tsmear_nkpt', inputs=inputs, task_class=flowtk.RelaxTask)\n",
    "# # flow.show_status()\n",
    "# # flow.get_graphviz()"
   ]
  },
  {
   "cell_type": "code",
   "execution_count": null,
   "metadata": {},
   "outputs": [],
   "source": [
    "# flow.rmtree()\n",
    "# scheduler = flow.make_scheduler()\n",
    "# scheduler.start()"
   ]
  },
  {
   "cell_type": "code",
   "execution_count": null,
   "metadata": {},
   "outputs": [],
   "source": [
    "# robot = abilab.GsrRobot.from_dir(\"flow_al_relax_tsmear_nkpt\")\n",
    "# data = robot.get_dataframe()\n",
    "# print(data.keys())"
   ]
  },
  {
   "cell_type": "code",
   "execution_count": null,
   "metadata": {},
   "outputs": [],
   "source": [
    "# x_labels, x_inds = np.unique(data['nkpt'], return_inverse=True)\n",
    "# y_labels, y_inds = np.unique(data['tsmear'], return_inverse=True)\n",
    "\n",
    "# z = np.zeros((len(x_labels), len(y_labels)))\n",
    "# for x_ind, y_ind, d in zip(x_inds, y_inds, data['energy']):\n",
    "#     z[x_ind, y_ind] = d\n",
    "    \n",
    "# fig = go.Figure(data=[go.Surface(x=x_labels, y=y_labels, z=z)])\n",
    "# fig.show()"
   ]
  },
  {
   "cell_type": "code",
   "execution_count": null,
   "metadata": {},
   "outputs": [],
   "source": []
  },
  {
   "cell_type": "code",
   "execution_count": null,
   "metadata": {},
   "outputs": [],
   "source": []
  },
  {
   "cell_type": "markdown",
   "metadata": {},
   "source": [
    "## Single SCF calculation"
   ]
  },
  {
   "cell_type": "code",
   "execution_count": null,
   "metadata": {},
   "outputs": [],
   "source": [
    "def build_inp_scf(structure, ecut=20, tsmear=0.01, shifted=False):\n",
    "    \"\"\"Generate input for optimization of the lattice parameter\n",
    "    at fixed number of k points and broadening.\n",
    "    \"\"\"\n",
    "\n",
    "    inp = abilab.AbinitInput(structure=structure, pseudos=pseudos_table)\n",
    "    \n",
    "\n",
    "    inp[\"chkprim\"] = 0\n",
    "    # inp['chksymbreak'] = None\n",
    "\n",
    "    # ecut_hint = max(ps.dojo_report[\"hints\"][\"normal\"][\"ecut\"] for ps in inp.pseudos)\n",
    "    # ecut_hint = max(ps.hint_for_accuracy(\"normal\").ecut for ps in inp.pseudos)\n",
    "    inp[\"ecut\"] = ecut\n",
    "    inp[\"tsmear\"] = tsmear\n",
    "\n",
    "    # Definition of the k-point grid (equivalent to a 16*16*16 grid on a convetnional cell)\n",
    "    inp[\"kptopt\"] = 1\n",
    "    inp[\"ngkpt\"] = [8, 8, 8] \n",
    "\n",
    "    inp[\"nshiftk\"] = 2\n",
    "    if shifted:\n",
    "        inp[\"shiftk\"] = [[.5, .0, .5], [0., .5, .5]]            \n",
    "    else:\n",
    "        inp[\"shiftk\"] = [[0., 0., 0.], [.5, .5, 0.]]\n",
    "\n",
    "    inp[\"occopt\"] = 6\n",
    "    # inp[\"nband\"] = 3 * len(structure) + 6 # NOTE: This value is specific for Al\n",
    "\n",
    "    ## Definition of the SCF procedure\n",
    "    # Maximal number of SCF cycles\n",
    "    inp[\"nstep\"] = 50\n",
    "\n",
    "    # Will stop when, twice in a row, the difference\n",
    "    # between two consecutive evaluations of total energy\n",
    "    # differ by less than toldfe (in Hartree)\n",
    "    # This value is way too large for most realistic studies of materials\n",
    "    # inp['toldfe'] = 1e-8\n",
    "    inp[\"tolvrs\"] = 1e-10\n",
    "\n",
    "    return inp\n",
    "\n",
    "inp_scf = build_inp_scf(struct_initial)\n",
    "# inp_scf"
   ]
  },
  {
   "cell_type": "code",
   "execution_count": null,
   "metadata": {},
   "outputs": [],
   "source": [
    "def build_flow_scf(inp, workdir, force=False):\n",
    "\n",
    "    flow = flowtk.Flow.from_inputs(workdir, inputs=inp)\n",
    "\n",
    "    if force:\n",
    "        flow.rmtree()\n",
    "\n",
    "    return flow\n",
    "\n",
    "flow_scf = build_flow_scf(inp_scf, \"reduced_cell/00_scf\", force=True)\n",
    "\n",
    "try:\n",
    "    scheduler = flow_scf.make_scheduler()\n",
    "    scheduler.start()\n",
    "except:\n",
    "    pass\n"
   ]
  },
  {
   "cell_type": "code",
   "execution_count": null,
   "metadata": {},
   "outputs": [],
   "source": [
    "out_scf = abilab.abiopen('reduced_cell/00_scf/w0/t0/outdata/out_GSR.nc')\n",
    "out_scf.energy"
   ]
  },
  {
   "cell_type": "code",
   "execution_count": null,
   "metadata": {},
   "outputs": [],
   "source": []
  },
  {
   "cell_type": "markdown",
   "metadata": {},
   "source": [
    "## Relaxation"
   ]
  },
  {
   "cell_type": "code",
   "execution_count": null,
   "metadata": {},
   "outputs": [],
   "source": []
  },
  {
   "cell_type": "code",
   "execution_count": null,
   "metadata": {},
   "outputs": [],
   "source": [
    "def build_inp_relax(structure, ecut=20, tsmear=0.01, shifted=False):\n",
    "    \"\"\"Generate input for optimization of the lattice parameter\n",
    "    at fixed number of k points and broadening.\n",
    "    \"\"\"\n",
    "\n",
    "    inp = abilab.AbinitInput(structure=structure, pseudos=pseudos_table)\n",
    "\n",
    "    inp[\"chkprim\"] = 0\n",
    "    # inp['chksymbreak'] = None\n",
    "\n",
    "    inp[\"ecut\"] = ecut\n",
    "    inp[\"tsmear\"] = tsmear\n",
    "\n",
    "    # Definition of the k-point grid (equivalent to a 16*16*16 grid on a convetnional cell)\n",
    "    inp[\"kptopt\"] = 1\n",
    "    inp[\"ngkpt\"] = [8, 8, 8] \n",
    "\n",
    "    inp[\"nshiftk\"] = 2\n",
    "    if shifted:\n",
    "        inp[\"shiftk\"] = [[.5, .0, .5], [0., .5, .5]]            \n",
    "    else:\n",
    "        inp[\"shiftk\"] = [[0., 0., 0.], [.5, .5, 0.]]\n",
    "\n",
    "    inp[\"occopt\"] = 6\n",
    "    inp[\"nband\"] = 3 * len(structure) + 3 # NOTE: This value is specific for Al\n",
    "\n",
    "    ## Optimization of the lattice parameters\n",
    "    inp[\"optcell\"] = 1\n",
    "    inp[\"ionmov\"] = 2\n",
    "\n",
    "    inp[\"ntime\"] = 10\n",
    "    inp[\"dilatmx\"] = 1.05\n",
    "    inp[\"ecutsm\"] = 0.5\n",
    "\n",
    "    ## Definition of the SCF procedure\n",
    "    # Maximal number of SCF cycles\n",
    "    inp[\"nstep\"] = 50\n",
    "\n",
    "    # Will stop when, twice in a row, the difference\n",
    "    # between two consecutive evaluations of total energy\n",
    "    # differ by less than toldfe (in Hartree)\n",
    "    # This value is way too large for most realistic studies of materials\n",
    "    # inp['toldfe'] = 1e-8\n",
    "    inp[\"tolvrs\"] = 1e-10\n",
    "\n",
    "    return inp\n",
    "\n",
    "inp_relax=build_inp_relax(struct_initial)\n",
    "# inp_relax"
   ]
  },
  {
   "cell_type": "code",
   "execution_count": null,
   "metadata": {},
   "outputs": [],
   "source": [
    "def build_flow_relax(inp, workdir, force=False):\n",
    "\n",
    "    flow = flowtk.Flow.from_inputs(workdir, inputs=inp)\n",
    "\n",
    "    if force:\n",
    "        flow.rmtree()\n",
    "\n",
    "    return flow\n",
    "\n",
    "flow_relax = build_flow_relax(inp_relax, \"reduced_cell/01_relax\", force=False)\n",
    "\n",
    "try:\n",
    "    scheduler = flow_relax.make_scheduler()\n",
    "    scheduler.start()\n",
    "except:\n",
    "    pass\n"
   ]
  },
  {
   "cell_type": "code",
   "execution_count": null,
   "metadata": {},
   "outputs": [],
   "source": [
    "abo = abilab.abiopen(\"reduced_cell/01_relax/w0/t0/run.abo\")\n",
    "\n",
    "struct_relaxed = abo.final_structure\n",
    "struct_relaxed"
   ]
  },
  {
   "cell_type": "code",
   "execution_count": null,
   "metadata": {},
   "outputs": [],
   "source": [
    "lattice_constant_relaxed = struct_relaxed.lattice.c\n",
    "lattice_constant_relaxed"
   ]
  },
  {
   "cell_type": "markdown",
   "metadata": {},
   "source": [
    "As you can see, we essentialy have a standard input to perform a GS calculation. This object will represent\n",
    "the **building block** for our DFPT calculation with AbiPy.\n",
    "\n",
    "If this is not your first time you use the DFPT part of Abinit, you already know that phonon calculations\n",
    "require an initial GS run to produce the `WFK` file \n",
    "followed by a DFPT run that reads the `WFK` file and solves the Sternheimer equations for $N_{\\text{irred}}(q)$ \n",
    "atomic perturbations where $N_{\\text{irred}}$ is the number of independent atomic displacements (assuming $q$ belongs to the k-mesh).\n",
    "\n",
    "If you try to do a convergence study wrt `ecut` **without multi-datasets**, you will likely start from an initial GS input file with a given value of `ecut`, use it as a template to generate the DFPT input files, create symbolic \n",
    "links to the `WFK` file produced in the first GS step and then instruct Abinit to read this file with `irdwfk`.\n",
    "Once you have a set of input files that work for a particular `ecut`, one can simply replicate the set of \n",
    "directories and files and use a script to change the value of `ecut` in the input files.\n",
    "Then, of course, one has to run the calculations manually, collect the results and produce nice plots to understand\n",
    "what is happening.\n",
    "\n",
    "This approach is obviously boring and error-prone if you are a human being but it is easy to implement in an algorithm \n",
    "and machines do not complain if they have a lot of repetive work to do!\n",
    "There are also several **technical advantages** in using this **task-based approach vs multi-datasets** but we discuss this point in more details afterwards. \n",
    "\n",
    "If the machine could speak, it will tell you: give me an object that represents an input for GS calculations,\n",
    "give me the list of q-points you want to compute as well as the parameters that must be changed in the initial input \n",
    "and I will generate a `Flow` for DFPT calculations.\n",
    "This logic appears so frequenty that we decided to encapsulate it in the `flowtk.phonon_conv_flow` factory function: "
   ]
  },
  {
   "cell_type": "code",
   "execution_count": null,
   "metadata": {},
   "outputs": [],
   "source": [
    "# def build_flow_alas_ecut_conv(options):\n",
    "#     \"\"\"\n",
    "#     Build and return Flow for convergence study of phonon frequencies at Gamma as function of ecut.\n",
    "#     \"\"\"\n",
    "#     scf_input = make_scf_input()\n",
    "#     return flowtk.phonon_conv_flow(\"flow_alas_ecut_conv\", scf_input, qpoints=(0, 0, 0), params=[\"ecut\", [4, 6, 8]])\n",
    "\n"
   ]
  },
  {
   "cell_type": "markdown",
   "metadata": {},
   "source": [
    "This convergence study at $\\Gamma$ thus reveals that our pseudos require \n",
    "an `ecut` >= 6 Ha to get reasonably converged phonon frequencies at $\\Gamma$.\n",
    "In what follows, we assume that also the modes at the other $q$-points present a similar\n",
    "convergence behaviour and we use `ecut` = 6 Ha to keep the computational cost low. "
   ]
  },
  {
   "cell_type": "code",
   "execution_count": null,
   "metadata": {},
   "outputs": [],
   "source": []
  },
  {
   "cell_type": "code",
   "execution_count": null,
   "metadata": {},
   "outputs": [],
   "source": [
    "def build_inp_dftp(structure, ecut=20, tsmear=0.01, shifted=False):\n",
    "\n",
    "    inp = abilab.AbinitInput(structure=structure, pseudos=pseudos_table)\n",
    "\n",
    "    inp[\"chkprim\"] = 0\n",
    "    # inp['chksymbreak'] = None\n",
    "\n",
    "    inp[\"ecut\"] = ecut\n",
    "    inp[\"tsmear\"] = tsmear\n",
    "\n",
    "    # Definition of the k-point grid\n",
    "    inp[\"kptopt\"] = 1\n",
    "    inp[\"ngkpt\"] = [8, 8, 8] \n",
    "\n",
    "    inp[\"nshiftk\"] = 2\n",
    "    if shifted:\n",
    "        inp[\"shiftk\"] = [[.5, .0, .5], [0., .5, .5]]            \n",
    "    else:\n",
    "        inp[\"shiftk\"] = [[0., 0., 0.], [.5, .5, 0.]]\n",
    "\n",
    "    inp[\"occopt\"] = 6\n",
    "    inp[\"nband\"] = 3 * len(structure) + 3 # NOTE: This value is specific for Al\n",
    "\n",
    "    ## Definition of the SCF procedure\n",
    "    # Maximal number of SCF cycles\n",
    "    inp[\"nstep\"] = 50\n",
    "\n",
    "    # Will stop when, twice in a row, the difference\n",
    "    # between two consecutive evaluations of total energy\n",
    "    # differ by less than toldfe (in Hartree)\n",
    "    # This value is way too large for most realistic studies of materials\n",
    "    # inp['toldfe'] = 1e-8\n",
    "    inp[\"tolvrs\"] = 1e-10\n",
    "\n",
    "    return inp\n",
    "\n",
    "inp_dftp = build_inp_dftp(struct_relaxed)"
   ]
  },
  {
   "cell_type": "code",
   "execution_count": null,
   "metadata": {
    "tags": [
     "outputPrepend"
    ]
   },
   "outputs": [],
   "source": [
    "def build_flow_dftp(inp, workdir, force=False):\n",
    "\n",
    "    \"\"\"Build and return a Flow to compute the dynamical matrix on a (2, 2, 2) qmesh\n",
    "    as well as DDK and Born effective charges.\n",
    "    The final DDB with all perturbations will be merged automatically and placed\n",
    "    in the Flow `outdir` directory.\n",
    "    \"\"\"\n",
    "\n",
    "    flow = flowtk.PhononFlow.from_scf_input(\n",
    "        workdir, inp, ph_ngqpt=(4, 4, 4), with_becs=False\n",
    "    )\n",
    "\n",
    "    if force:\n",
    "        flow.rmtree()\n",
    "\n",
    "    return flow\n",
    "\n",
    "flow_dftp = build_flow_dftp(inp_dftp, \"reduced_cell/02_dftp\")\n",
    "\n",
    "try:\n",
    "    scheduler = flow_dftp.make_scheduler()\n",
    "    scheduler.start()\n",
    "except:\n",
    "    pass\n"
   ]
  },
  {
   "cell_type": "code",
   "execution_count": null,
   "metadata": {},
   "outputs": [],
   "source": [
    "ddb = abilab.abiopen(\"reduced_cell/02_dftp/outdata/out_DDB\")\n",
    "print(ddb)"
   ]
  },
  {
   "cell_type": "code",
   "execution_count": null,
   "metadata": {},
   "outputs": [],
   "source": [
    "ddb.anaget_ifc(asr=0, workdir='reduced_cell/02_dfpt_ifc')"
   ]
  },
  {
   "cell_type": "code",
   "execution_count": null,
   "metadata": {},
   "outputs": [],
   "source": []
  },
  {
   "cell_type": "code",
   "execution_count": null,
   "metadata": {},
   "outputs": [],
   "source": [
    "?ddb.anaget_ifc"
   ]
  },
  {
   "cell_type": "code",
   "execution_count": null,
   "metadata": {},
   "outputs": [],
   "source": [
    "phbst_file, phdos_file = ddb.anaget_phbst_and_phdos_files(asr=0, ndivsm=10, nqsmall=16, lo_to_splitting=False, workdir='reduced_cell/02_dftp_phbst')\n",
    "\n",
    "# Extract the phonon bands and the phonon DOS from phbst_file and phdos_file\n",
    "phbands = phbst_file.phbands \n",
    "phdos = phdos_file.phdos"
   ]
  },
  {
   "cell_type": "code",
   "execution_count": null,
   "metadata": {},
   "outputs": [],
   "source": [
    "phbands = abilab.abiopen('reduced_cell/02_dftp_phbst/run.abo_PHBST.nc').phbands\n",
    "phbands"
   ]
  },
  {
   "cell_type": "code",
   "execution_count": null,
   "metadata": {},
   "outputs": [],
   "source": [
    "phbands.plot()"
   ]
  },
  {
   "cell_type": "code",
   "execution_count": null,
   "metadata": {},
   "outputs": [],
   "source": [
    "?ddb.anaget_phbst_and_phdos_files"
   ]
  },
  {
   "cell_type": "code",
   "execution_count": null,
   "metadata": {},
   "outputs": [],
   "source": []
  },
  {
   "cell_type": "code",
   "execution_count": null,
   "metadata": {},
   "outputs": [],
   "source": []
  },
  {
   "cell_type": "markdown",
   "metadata": {},
   "source": [
    "# Surfaces\n",
    "\n",
    "## Surface 100"
   ]
  },
  {
   "cell_type": "code",
   "execution_count": null,
   "metadata": {},
   "outputs": [],
   "source": [
    "def fcc100_reduced(element: str, a: float, n: int, vacuum: float, centered=True):\n",
    "\n",
    "    h = (n - 1) * a / 2 + vacuum\n",
    "\n",
    "    coords = np.zeros((n, 3))\n",
    "    coords[1::2, 0] = a/2\n",
    "    coords[:, 2] = [i*a/2 for i in range(n)]\n",
    "    # coords[:, 2] = np.arange(n) * a / 2\n",
    "\n",
    "    if centered:\n",
    "        coords[:, 2] += vacuum/2\n",
    "\n",
    "    structure = Structure(\n",
    "        lattice=Lattice([[a/2, -a/2, 0], [a/2, a/2, 0], [0, 0, h]]),\n",
    "        species=n * [element],\n",
    "        coords=coords,\n",
    "        coords_are_cartesian=True,\n",
    "    )\n",
    "    return structure\n"
   ]
  },
  {
   "cell_type": "code",
   "execution_count": null,
   "metadata": {},
   "outputs": [],
   "source": [
    "struct_fcc100 = fcc100_reduced('Al', lattice_constant_relaxed, n=2, vacuum=lattice_constant_relaxed/2, centered=False) \n",
    "struct_fcc100"
   ]
  },
  {
   "cell_type": "code",
   "execution_count": null,
   "metadata": {},
   "outputs": [],
   "source": [
    "struct_relaxed"
   ]
  },
  {
   "cell_type": "code",
   "execution_count": null,
   "metadata": {},
   "outputs": [],
   "source": [
    "struct_fcc100 = fcc100_reduced('Al', lattice_constant_relaxed, n=5, vacuum=5*lattice_constant_relaxed/2, centered=True) \n",
    "struct_fcc100"
   ]
  },
  {
   "cell_type": "code",
   "execution_count": null,
   "metadata": {},
   "outputs": [],
   "source": [
    "18/4"
   ]
  },
  {
   "cell_type": "code",
   "execution_count": null,
   "metadata": {
    "scrolled": false
   },
   "outputs": [],
   "source": [
    "# quick_view(struct_fcc100, supercell=(3,3,2))\n",
    "\n",
    "fig = Figure()\n",
    "fig.add_structure(struct_fcc100, supercell=(3,3,2))\n",
    "fig.add_unitcell(struct_fcc100.lattice)\n",
    "fig.show()\n",
    "\n"
   ]
  },
  {
   "cell_type": "code",
   "execution_count": null,
   "metadata": {},
   "outputs": [],
   "source": []
  },
  {
   "cell_type": "code",
   "execution_count": null,
   "metadata": {},
   "outputs": [],
   "source": [
    "def build_inp_fcc100_scf(structure, ecut=20, tsmear=0.01, shifted=False):\n",
    "    \"\"\"Generate input for optimization of the lattice parameter\n",
    "    at fixed number of k points and broadening.\n",
    "    \"\"\"\n",
    "\n",
    "    inp = abilab.AbinitInput(structure=structure, pseudos=pseudos_table)\n",
    "\n",
    "    inp[\"chkprim\"] = 0\n",
    "    # inp['chksymbreak'] = None\n",
    "\n",
    "    inp[\"ecut\"] = ecut\n",
    "    inp[\"tsmear\"] = tsmear\n",
    "\n",
    "    # Definition of the k-point grid (equivalent to a 16*16*16 grid on a convetnional cell)\n",
    "    inp[\"kptopt\"] = 1\n",
    "    inp[\"ngkpt\"] = [8, 8, 1] \n",
    "\n",
    "    inp[\"nshiftk\"] = 2\n",
    "    if shifted:\n",
    "        inp[\"shiftk\"] = [[.5, .0, .5], [0., .5, .5]]   # TODO: To check the last shift value!?!?   \n",
    "    else:\n",
    "        inp[\"shiftk\"] = [[0., 0., 0.], [.5, .5, 0.]]\n",
    "\n",
    "    inp[\"occopt\"] = 6\n",
    "    inp[\"nband\"] = 3 * len(structure) + 3 # NOTE: This value is specific for Al\n",
    "\n",
    "    ## Definition of the SCF procedure\n",
    "    # Maximal number of SCF cycles\n",
    "    inp[\"nstep\"] = 50\n",
    "\n",
    "    # Will stop when, twice in a row, the difference\n",
    "    # between two consecutive evaluations of total energy\n",
    "    # differ by less than toldfe (in Hartree)\n",
    "    # This value is way too large for most realistic studies of materials\n",
    "    # inp['toldfe'] = 1e-8\n",
    "    inp[\"tolvrs\"] = 1e-10\n",
    "\n",
    "    return inp\n",
    "\n",
    "inp_fcc100_scf = build_inp_scf(struct_fcc100)\n",
    "# inp_fcc100_scf"
   ]
  },
  {
   "cell_type": "code",
   "execution_count": null,
   "metadata": {},
   "outputs": [],
   "source": [
    "flow_scf = build_flow_scf(inp_fcc100_scf, \"reduced_cell/03_fcc100_scf\", force=False)\n",
    "\n",
    "try:\n",
    "    scheduler = flow_scf.make_scheduler()\n",
    "    scheduler.start()\n",
    "except:\n",
    "    pass\n"
   ]
  },
  {
   "cell_type": "markdown",
   "metadata": {},
   "source": [
    "## Convergence (number of layers, surface energy, heigth of vacuum)\n",
    "\n",
    "### Calculating the surface formation energy of a crystalline solid\n",
    "\n",
    "In density functional theory, surface energy can be calculated from the following expression:\n",
    "\n",
    "$$\\gamma = \\frac{E_\\text{slab} - N E_\\text{bulk}}{2A}$$\n",
    "\n",
    "where\n",
    "- $E_\\text{slab}$ is the total energy of surface slab obtained using density functional theory.\n",
    "- $N$ is the number of atoms in the surface slab. \n",
    "- $E_\\text{bulk}$ is the bulk energy per atom.\n",
    "- $A$ is the surface area.\n",
    "\n",
    "For a slab, we have two surfaces and they are of the same type, which is reflected by the number 2 in the denominator. To guarantee this, we need to create the slab carefully to make sure that the upper and lower surfaces are of the same type."
   ]
  },
  {
   "cell_type": "markdown",
   "metadata": {},
   "source": [
    "## Convergence study at $\\Gamma$\n",
    "\n",
    "\n"
   ]
  },
  {
   "cell_type": "code",
   "execution_count": null,
   "metadata": {},
   "outputs": [],
   "source": [
    "?flowtk.phonon_conv_flow"
   ]
  },
  {
   "cell_type": "markdown",
   "metadata": {},
   "source": [
    "Each group represents a `Workflow` and consists of one `ScfTask`(red circle) that solves the `KS` equations self-consistently producing a `WFK` file that will be used by the two children (`PhononTasks` - blue circles)\n",
    "to compute the first-order change of the wavefunctions due to one of the *irreducible* atomic pertubations.\n",
    "\n",
    "Note that `phonon_conv_flow` invokes Abinit under the hood to get the list of irreducible perturbations \n",
    "and uses this information to build the flow.\n",
    "This explains why we have two `PhononTasks` per $q$-point instead of the total number of phonon modes that \n",
    "equals $3*N_{atom}=6$.\n",
    "\n",
    "Perhaps a table with the values of the input variables associated to the DFPT perturbation will help.\n",
    "`None` means that the variable is not defined in that particular input."
   ]
  },
  {
   "cell_type": "code",
   "execution_count": null,
   "metadata": {},
   "outputs": [],
   "source": [
    "# def build_flow_alas_ecut_conv(options):\n",
    "#     \"\"\"\n",
    "#     Build and return Flow for convergence study of phonon frequencies at Gamma.\n",
    "#     TODO:  wokaround: params=[\"ecut\", [20]]\n",
    "#     \"\"\"\n",
    "#     scf_input = make_scf_input()\n",
    "#     return flowtk.phonon_conv_flow(\"flow_al_ecut_conv\", scf_input, qpoints=(0, 0, 0),  params=[\"ecut\", [16, 20, 26]])\n",
    "\n",
    "\n",
    "# flow = build_flow_alas_ecut_conv(options=None)\n",
    "# flow.show_status()\n",
    "\n",
    "# flow.show_info()\n"
   ]
  },
  {
   "cell_type": "markdown",
   "metadata": {},
   "source": [
    "There are several output files located inside the `outdata` directories:"
   ]
  },
  {
   "cell_type": "code",
   "execution_count": null,
   "metadata": {},
   "outputs": [],
   "source": [
    "robot = abilab.DdbRobot.from_dir_glob(\"./flow_alas_ecut_conv/w*/outdata/\")\n",
    "robot"
   ]
  },
  {
   "cell_type": "markdown",
   "metadata": {},
   "source": [
    "## Relaxation (with fixed inner layers)"
   ]
  },
  {
   "cell_type": "code",
   "execution_count": null,
   "metadata": {},
   "outputs": [],
   "source": []
  },
  {
   "cell_type": "code",
   "execution_count": null,
   "metadata": {},
   "outputs": [],
   "source": [
    "# def relax_100_surface_input(n, vacuum, n_frozen=None):\n",
    "#     \"\"\"Generate input for optimization of the lattice parameter\n",
    "#     at fixed number of k points and broadening. \n",
    "#     \"\"\"\n",
    "#     structure = fcc100('Al', relaxed_lattice_constant, n=n, vacuum=vacuum) \n",
    "#     inp = abilab.AbinitInput(structure=structure, pseudos=pseudos_table)\n",
    "\n",
    "#     ## Definition of the k-point grid\n",
    "#     # Automatically select ngkpt, shift, kptopt for the sampling of the BZ\n",
    "#     # from the lattice and the number of divisions\n",
    "#     inp['ngkpt'] = [4, 4, 1]\n",
    "#     inp['nshiftk'] = 2\n",
    "#     inp['shiftk'] = [[.5, 0, 0], [0, .5, 0]]\n",
    "    \n",
    "#     ## Definition of the unit cell\n",
    "#     # This input variable allows to use non-primitive unit\n",
    "#     # cells. Please, do not use it in other cases,\n",
    "#     # you might miss a primitive cell, faster to handle.\n",
    "#     inp['chkprim'] = 0\n",
    "#     inp['chksymbreak'] = 0 # ??? WARNING: Found potentially symmetry-breaking value of tnons ...\n",
    "    \n",
    "#     ## Definition of the planewave basis set\n",
    "#     # Maximal kinetic energy cut-off, in Hartree (16, 20, 26)\n",
    "#     inp['ecut'] = 20 \n",
    "\n",
    "#     ## Exchange-correlation functional\n",
    "#     # LDA Teter Pade parametrization\n",
    "#     # inp['ixc'] = 1  # ??? WARNING: Pseudopotential file pspxc: 11, not equal to input ixc: 1.\n",
    "#     # PBE Perdew-Burke-Ernzerhof GGA functional \n",
    "#     inp['ixc'] = 11\n",
    "    \n",
    "#     ## Definition of occupation numbers\n",
    "#     inp['occopt'] = 4\n",
    "#     inp['tsmear'] = 0.04\n",
    "# #     inp['nband'] = 2*(n + 2)   # ??? WARNING\n",
    "\n",
    "#     ## Optimization of the lattice parameters\n",
    "#     inp['optcell'] = 0 \n",
    "#     inp['ionmov'] = 2\n",
    "#     inp['ntime'] = 10\n",
    "#     inp['dilatmx'] = 1.05\n",
    "#     inp['ecutsm'] = 0.5\n",
    "\n",
    "        \n",
    "#     # Fixing the position of cntral atoms \n",
    "#     if n_frozen:\n",
    "#         assert n%2 == n_frozen%2 and n > n_frozen\n",
    "#         inp['natfix'] = n_frozen\n",
    "#         inp['iatfix'] = list(range((n - n_frozen)//2 + 1, (n + n_frozen)//2 + 1))\n",
    "        \n",
    "    \n",
    "#     ## Definition of the SCF procedure\n",
    "#     # Maximal number of SCF cycles\n",
    "#     inp['nstep'] = 50 \n",
    "\n",
    "#     # Will stop when, twice in a row, the difference\n",
    "#     # between two consecutive evaluations of total energy\n",
    "#     # differ by less than toldfe (in Hartree)\n",
    "#     # This value is way too large for most realistic studies of materials\n",
    "# #     inp['toldfe'] = 1e-6 # low\n",
    "#     # inp['tolvrs'] = 1e-8 # low\n",
    "#     # inp['toldfe'] = 1e-8 # probably ok\n",
    "#     inp['tolvrs'] = 1e-10 # probably ok\n",
    "    \n",
    "    \n",
    "#     return inp\n"
   ]
  },
  {
   "cell_type": "markdown",
   "metadata": {},
   "source": [
    "## DFTP"
   ]
  },
  {
   "cell_type": "code",
   "execution_count": null,
   "metadata": {},
   "outputs": [],
   "source": [
    "def build_inp_fcc100_dftp(structure, ecut=20, tsmear=0.01, shifted=False):\n",
    "\n",
    "    inp = abilab.AbinitInput(structure=structure, pseudos=pseudos_table)\n",
    "\n",
    "    inp[\"chkprim\"] = 0\n",
    "    # inp['chksymbreak'] = None\n",
    "\n",
    "    inp[\"ecut\"] = ecut\n",
    "    inp[\"tsmear\"] = tsmear\n",
    "\n",
    "    # Definition of the k-point grid\n",
    "    inp[\"kptopt\"] = 1\n",
    "    inp[\"ngkpt\"] = [8, 8, 1] \n",
    "\n",
    "    inp[\"nshiftk\"] = 2\n",
    "    if shifted:\n",
    "        inp[\"shiftk\"] = [[.5, .0, .5], [0., .5, .5]]   # NOTE: cheking last shift!?!?   \n",
    "    else:\n",
    "        inp[\"shiftk\"] = [[0., 0., 0.], [.5, .5, 0.]]\n",
    "\n",
    "    inp[\"occopt\"] = 6\n",
    "    inp[\"nband\"] = 3 * len(structure) + 3 # NOTE: This value is specific for Al\n",
    "\n",
    "    ## Definition of the SCF procedure\n",
    "    # Maximal number of SCF cycles\n",
    "    inp[\"nstep\"] = 50\n",
    "\n",
    "    # Will stop when, twice in a row, the difference\n",
    "    # between two consecutive evaluations of total energy\n",
    "    # differ by less than toldfe (in Hartree)\n",
    "    # This value is way too large for most realistic studies of materials\n",
    "    # inp['toldfe'] = 1e-8\n",
    "    inp[\"tolvrs\"] = 1e-10\n",
    "\n",
    "    return inp\n",
    "\n",
    "inp_fcc100_dftp = build_inp_fcc100_dftp(struct_fcc100)"
   ]
  },
  {
   "cell_type": "markdown",
   "metadata": {},
   "source": [
    "## Phonon band structure of Al\n",
    "[[back to top](#top)]\n",
    "\n",
    "Now we are finally ready for the calculation of the vibrational spectrum of $AlAs$.\n",
    "We already managed to run DFPT calculations at $\\Gamma$ with different values of `ecut` and the\n",
    "steps required to get a full band structure are not that different, provided that \n",
    "the following differences are taken into account:\n",
    "\n",
    "- we need the dynamical matrix $D(q)$ on a homogeneous mesh so that it is possible to calculate $D(R)$\n",
    "  in anaddb via Fourier transform and then phonon frequencies for arbitrary q-points via Fourier interpolation\n",
    "  \n",
    "- $AlAs$ is a polar semiconductor so we need to include the LO-TO splitting for $q \\rightarrow 0$ that, in turns,\n",
    "  requires the DFPT computation of the Born effective charges and of the dielectric constant.\n",
    "\n",
    "\n",
    "In AbiPy, these concepts are translated in an easy-to-use API in which you pass an initial `AbinitInput` object,\n",
    "you specify the q-mesh for phonons in terms of `ph_nqpt` and activate the computation of the \n",
    "Born effective charges with the boolean flag `with_becs`.\n",
    "\n",
    "Let's have a look at the code (as usual there are more comments than lines of code):"
   ]
  },
  {
   "cell_type": "markdown",
   "metadata": {},
   "source": [
    "Note that there are a lot of things happening under the hood here.\n",
    "\n",
    "First of all, AbiPy generates `PhononTasks` only for the $q$-points in the \n",
    "irreducible wedge of the Brillouin zone corresponding to `ph_ngqpt`.\n",
    "Moreover, for a given $q$-point, only the irreducible atomic perturbations are explicitly computed\n",
    "since the other atomic perturbations can be reconstructed by symmetry.\n",
    "Fortunately you do not have to care about all these technical details as AbiPy and Abinit \n",
    "will automate the whole procedure.\n",
    "\n",
    "Remember that the $q$-point mesh cannot be chosen arbitrarily\n",
    "since all $q$ wavevectors should connect two $k$ points of the grid used for the electrons.\n",
    "\n",
    "It is also worth stressing that the computational cost of the DFPT run depends on the q-point \n",
    "since only those symmetries that preserve the q-point as well as the direction of the perturbation \n",
    "can be employed (calculations at $\\Gamma$ are therefore much faster than other q-points)."
   ]
  },
  {
   "cell_type": "code",
   "execution_count": null,
   "metadata": {},
   "outputs": [],
   "source": [
    "def build_flow_dftp(inp, workdir, force=False):\n",
    "\n",
    "    \"\"\"Build and return a Flow to compute the dynamical matrix on a (2, 2, 2) qmesh\n",
    "    as well as DDK and Born effective charges.\n",
    "    The final DDB with all perturbations will be merged automatically and placed\n",
    "    in the Flow `outdir` directory.\n",
    "    \"\"\"\n",
    "\n",
    "    flow = flowtk.PhononFlow.from_scf_input(\n",
    "        workdir, inp, ph_ngqpt=(4, 4, 1), with_becs=False\n",
    "    )\n",
    "\n",
    "    if force:\n",
    "        flow.rmtree()\n",
    "\n",
    "    return flow\n",
    "\n",
    "flow_dftp = build_flow_dftp(inp_fcc100_dftp, \"reduced_cell/04_fcc100_dftp\")\n",
    "\n",
    "try:\n",
    "    scheduler = flow_dftp.make_scheduler()\n",
    "    scheduler.start()\n",
    "except:\n",
    "    pass\n"
   ]
  },
  {
   "cell_type": "markdown",
   "metadata": {},
   "source": [
    "## Post-processing the results\n",
    "\n",
    "Our flow is completed and we have the final DDB file with all the $q$-points and all the independent atomic perturbations. \n",
    "Let's open this DDB file with:"
   ]
  },
  {
   "cell_type": "code",
   "execution_count": null,
   "metadata": {},
   "outputs": [],
   "source": [
    "ddb = abilab.abiopen(\"reduced_cell/04_fcc100_dftp/outdata/out_DDB\")\n",
    "print(ddb)"
   ]
  },
  {
   "cell_type": "markdown",
   "metadata": {},
   "source": [
    "The `DdbFile` object provides an easy-to-use interface that invokes `anaddb` to post-process\n",
    "the data stored in the DDB file.\n",
    "\n",
    "`anacompare_phdos`, for example, computes the phonon DOS with different $q$-meshes.\n",
    "Each mesh is defined by a single integer, `nqsmall`, that gives the number of \n",
    "divisions used to sample the smallest reciprocal lattice vector. \n",
    "The number of divisions along the other directions are chosen so that proportions are preserved:"
   ]
  },
  {
   "cell_type": "code",
   "execution_count": null,
   "metadata": {},
   "outputs": [],
   "source": [
    "c = ddb.anacompare_phdos(nqsmalls=[4, 8, 12, 16])\n",
    "c.plotter.combiplot();"
   ]
  },
  {
   "cell_type": "markdown",
   "metadata": {},
   "source": [
    "To function `anaget_phbst_and_phdos_files` allows one to compute the phonon band structure on an automatically defined $q$-path as well as the the phonon DOS:"
   ]
  },
  {
   "cell_type": "code",
   "execution_count": null,
   "metadata": {},
   "outputs": [],
   "source": [
    "?ddb.anaget_phbst_and_phdos_files"
   ]
  },
  {
   "cell_type": "code",
   "execution_count": null,
   "metadata": {},
   "outputs": [],
   "source": [
    "phbst_file, phdos_file = ddb.anaget_phbst_and_phdos_files(asr=0, ndivsm=10, nqsmall=16, lo_to_splitting=False, workdir='reduced_cell/04_fcc100_dftp_phbst')\n",
    "\n"
   ]
  },
  {
   "cell_type": "code",
   "execution_count": null,
   "metadata": {},
   "outputs": [],
   "source": [
    "phdos_file = abilab.abiopen('reduced_cell/04_fcc100_dftp_phbst/run.abo_PHDOS.nc')\n",
    "phbst_file = abilab.abiopen('reduced_cell/04_fcc100_dftp_phbst/run.abo_PHBST.nc')\n"
   ]
  },
  {
   "cell_type": "code",
   "execution_count": null,
   "metadata": {},
   "outputs": [],
   "source": [
    "# Extract the phonon bands and the phonon DOS from phbst_file and phdos_file\n",
    "phbands = phbst_file.phbands \n",
    "phdos = phdos_file.phdos"
   ]
  },
  {
   "cell_type": "code",
   "execution_count": null,
   "metadata": {},
   "outputs": [],
   "source": [
    "phbands.plot()"
   ]
  },
  {
   "cell_type": "code",
   "execution_count": null,
   "metadata": {},
   "outputs": [],
   "source": [
    "phbands.plot();"
   ]
  },
  {
   "cell_type": "code",
   "execution_count": null,
   "metadata": {},
   "outputs": [],
   "source": [
    "phbands.qpoints.plot();"
   ]
  },
  {
   "cell_type": "code",
   "execution_count": null,
   "metadata": {},
   "outputs": [],
   "source": [
    "phbands.plot_with_phdos(phdos);"
   ]
  },
  {
   "cell_type": "code",
   "execution_count": null,
   "metadata": {},
   "outputs": [],
   "source": [
    "phbands.num_branches"
   ]
  },
  {
   "cell_type": "code",
   "execution_count": null,
   "metadata": {},
   "outputs": [],
   "source": [
    "iqpt, imode = 0, 4\n",
    "phbands.phdispl_cart[iqpt, imode,:].reshape(-1,3)"
   ]
  },
  {
   "cell_type": "code",
   "execution_count": null,
   "metadata": {},
   "outputs": [],
   "source": [
    "phbands.plot_phdispl_cartdirs(0)"
   ]
  },
  {
   "cell_type": "code",
   "execution_count": null,
   "metadata": {},
   "outputs": [],
   "source": [
    "phbands.qpoints.frac_coords()"
   ]
  },
  {
   "cell_type": "code",
   "execution_count": null,
   "metadata": {},
   "outputs": [],
   "source": [
    "phbands.create_xyz_vib(0, 'test_vib.xyz', max_supercell=4)"
   ]
  },
  {
   "cell_type": "code",
   "execution_count": null,
   "metadata": {},
   "outputs": [],
   "source": []
  },
  {
   "cell_type": "code",
   "execution_count": null,
   "metadata": {},
   "outputs": [],
   "source": [
    "?phbands.structure.get_smallest_supercell"
   ]
  },
  {
   "cell_type": "markdown",
   "metadata": {},
   "source": []
  },
  {
   "cell_type": "code",
   "execution_count": null,
   "metadata": {},
   "outputs": [],
   "source": []
  },
  {
   "cell_type": "code",
   "execution_count": null,
   "metadata": {},
   "outputs": [],
   "source": [
    "\n",
    "max_supercell = [16,16,16]\n",
    "for qpoint in phbands.qpoints.frac_coords:\n",
    "    try:\n",
    "        print(phbands.structure.get_smallest_supercell(qpoint, max_supercell))\n",
    "    except:\n",
    "        print(qpoint)"
   ]
  },
  {
   "cell_type": "code",
   "execution_count": null,
   "metadata": {},
   "outputs": [],
   "source": []
  },
  {
   "cell_type": "code",
   "execution_count": null,
   "metadata": {},
   "outputs": [],
   "source": [
    "from abipy.core.abinit_units import phfactor_ev2units\n",
    "\n",
    "try:\n",
    "    phfreqs = ddb.anaget_phmodes_at_qpoint(qpoint=[0,0,0], asr=0, workdir='reduced_cell/04_fcc100_dftp_phonon').phfreqs\n",
    "except:\n",
    "    phbands = abilab.abiopen('reduced_cell/04_fcc100_dftp_phonon/run.abo_PHBST.nc').phbands\n",
    "\n",
    "phbands.phfreqs * phfactor_ev2units(\"cm-1\")"
   ]
  },
  {
   "cell_type": "code",
   "execution_count": null,
   "metadata": {},
   "outputs": [],
   "source": []
  },
  {
   "cell_type": "code",
   "execution_count": null,
   "metadata": {},
   "outputs": [],
   "source": [
    "phbands.dyn_mat_eigenvect.shape"
   ]
  },
  {
   "cell_type": "code",
   "execution_count": null,
   "metadata": {},
   "outputs": [],
   "source": []
  },
  {
   "cell_type": "code",
   "execution_count": null,
   "metadata": {},
   "outputs": [],
   "source": []
  },
  {
   "cell_type": "code",
   "execution_count": null,
   "metadata": {},
   "outputs": [],
   "source": [
    "# phbst = abilab.abiopen('reduced_cell/04_fcc100_dftp_phonon/run.abo_PHBST.nc')\n"
   ]
  },
  {
   "cell_type": "code",
   "execution_count": null,
   "metadata": {},
   "outputs": [],
   "source": []
  },
  {
   "cell_type": "code",
   "execution_count": null,
   "metadata": {},
   "outputs": [],
   "source": []
  },
  {
   "cell_type": "code",
   "execution_count": null,
   "metadata": {},
   "outputs": [],
   "source": []
  },
  {
   "cell_type": "code",
   "execution_count": null,
   "metadata": {},
   "outputs": [],
   "source": []
  },
  {
   "cell_type": "code",
   "execution_count": null,
   "metadata": {},
   "outputs": [],
   "source": [
    "ifc = ddb.anaget_ifc(workdir='reduced_cell/04_fcc100_dftp_ifc')\n"
   ]
  },
  {
   "cell_type": "code",
   "execution_count": null,
   "metadata": {},
   "outputs": [],
   "source": [
    "ifc.get_ifc_cartesian()\n"
   ]
  },
  {
   "cell_type": "code",
   "execution_count": null,
   "metadata": {},
   "outputs": [],
   "source": [
    "d"
   ]
  },
  {
   "cell_type": "code",
   "execution_count": null,
   "metadata": {},
   "outputs": [],
   "source": [
    "d.shape"
   ]
  },
  {
   "cell_type": "code",
   "execution_count": null,
   "metadata": {},
   "outputs": [],
   "source": [
    "f.shape"
   ]
  },
  {
   "cell_type": "code",
   "execution_count": null,
   "metadata": {},
   "outputs": [],
   "source": [
    "?ifc.get_ifc_cartesian"
   ]
  },
  {
   "cell_type": "code",
   "execution_count": null,
   "metadata": {},
   "outputs": [],
   "source": [
    "ifc"
   ]
  },
  {
   "cell_type": "code",
   "execution_count": null,
   "metadata": {},
   "outputs": [],
   "source": [
    "?abilab.abiopen"
   ]
  },
  {
   "cell_type": "code",
   "execution_count": null,
   "metadata": {},
   "outputs": [],
   "source": [
    "ifc._structure"
   ]
  },
  {
   "cell_type": "code",
   "execution_count": null,
   "metadata": {},
   "outputs": [],
   "source": [
    "fig = Figure()\n",
    "fig.add_structure(ifc._structure, supercell=[2,2,1])\n",
    "fig.add_unitcell(ifc._structure.lattice)\n",
    "\n",
    "fig.show()"
   ]
  },
  {
   "cell_type": "code",
   "execution_count": null,
   "metadata": {},
   "outputs": [],
   "source": [
    "ifc.neighbours_indices"
   ]
  },
  {
   "cell_type": "code",
   "execution_count": null,
   "metadata": {},
   "outputs": [],
   "source": []
  },
  {
   "cell_type": "code",
   "execution_count": null,
   "metadata": {},
   "outputs": [],
   "source": []
  },
  {
   "cell_type": "code",
   "execution_count": null,
   "metadata": {},
   "outputs": [],
   "source": [
    "ifc.ifc_cart_coord_short_range"
   ]
  },
  {
   "cell_type": "code",
   "execution_count": null,
   "metadata": {},
   "outputs": [],
   "source": [
    "ifc.local_vectors[0][1]"
   ]
  },
  {
   "cell_type": "code",
   "execution_count": null,
   "metadata": {},
   "outputs": [],
   "source": [
    "np.unique(ifc.neighbours_indices[1])"
   ]
  },
  {
   "cell_type": "code",
   "execution_count": null,
   "metadata": {},
   "outputs": [],
   "source": [
    "ifc.get_ifc_local()"
   ]
  },
  {
   "cell_type": "code",
   "execution_count": null,
   "metadata": {},
   "outputs": [],
   "source": [
    "ifc.get_ifc_cartesian(atom_indices=[0])[]"
   ]
  },
  {
   "cell_type": "code",
   "execution_count": null,
   "metadata": {},
   "outputs": [],
   "source": [
    "ifc.plot_longitudinal_ifc(atom_indices=[3])"
   ]
  },
  {
   "cell_type": "code",
   "execution_count": null,
   "metadata": {},
   "outputs": [],
   "source": [
    "ifc.plot_longitudinal_ifc_short_range()"
   ]
  },
  {
   "cell_type": "code",
   "execution_count": null,
   "metadata": {},
   "outputs": [],
   "source": [
    "ifc.get_ifc_cartesian()\n"
   ]
  },
  {
   "cell_type": "code",
   "execution_count": null,
   "metadata": {},
   "outputs": [],
   "source": [
    "ifc"
   ]
  },
  {
   "cell_type": "code",
   "execution_count": null,
   "metadata": {},
   "outputs": [],
   "source": []
  },
  {
   "cell_type": "markdown",
   "metadata": {},
   "source": [
    "## Supercell calculation"
   ]
  },
  {
   "cell_type": "code",
   "execution_count": null,
   "metadata": {},
   "outputs": [],
   "source": []
  },
  {
   "cell_type": "code",
   "execution_count": null,
   "metadata": {},
   "outputs": [],
   "source": [
    "2x2x1"
   ]
  },
  {
   "cell_type": "code",
   "execution_count": null,
   "metadata": {},
   "outputs": [],
   "source": [
    "def build_inp_fcc100_dftp_supercell(structure, supercell=None, ecut=20, tsmear=0.01, shifted=False):\n",
    "\n",
    "    if supercell is not None:\n",
    "        structure = structure.copy()\n",
    "        structure.make_supercell(supercell)\n",
    "\n",
    "    inp = abilab.AbinitInput(structure=structure, pseudos=pseudos_table)\n",
    "\n",
    "    inp[\"chkprim\"] = 0\n",
    "    # inp['chksymbreak'] = None\n",
    "\n",
    "    inp[\"ecut\"] = ecut\n",
    "    inp[\"tsmear\"] = tsmear\n",
    "\n",
    "    # Definition of the k-point grid\n",
    "    inp[\"kptopt\"] = 1\n",
    "    \n",
    "    if supercell is not None:\n",
    "        inp[\"ngkpt\"] = [8//supercell[0], 8//supercell[1], 1//supercell[2]] \n",
    "    else:\n",
    "        inp[\"ngkpt\"] = [8, 8, 1] \n",
    "\n",
    "    inp[\"nshiftk\"] = 2\n",
    "    if shifted:\n",
    "        inp[\"shiftk\"] = [[.5, .0, .5], [0., .5, .5]]   # NOTE: cheking last shift!?!?   \n",
    "    else:\n",
    "        inp[\"shiftk\"] = [[0., 0., 0.], [.5, .5, 0.]]\n",
    "\n",
    "    inp[\"occopt\"] = 6\n",
    "    inp[\"nband\"] = 3 * len(structure) + 3 # NOTE: This value is specific for Al\n",
    "\n",
    "    ## Definition of the SCF procedure\n",
    "    # Maximal number of SCF cycles\n",
    "    inp[\"nstep\"] = 50\n",
    "\n",
    "    # Will stop when, twice in a row, the difference\n",
    "    # between two consecutive evaluations of total energy\n",
    "    # differ by less than toldfe (in Hartree)\n",
    "    # This value is way too large for most realistic studies of materials\n",
    "    # inp['toldfe'] = 1e-8\n",
    "    inp[\"tolvrs\"] = 1e-10\n",
    "\n",
    "    return inp\n",
    "\n",
    "inp_fcc100_dftp_supercell = build_inp_fcc100_dftp_supercell(struct_fcc100, supercell=[2,2,1])\n",
    "# inp_fcc100_dftp_supercell"
   ]
  },
  {
   "cell_type": "code",
   "execution_count": null,
   "metadata": {},
   "outputs": [],
   "source": [
    "def build_flow_dftp(inp, workdir, force=False):\n",
    "\n",
    "    \"\"\"Build and return a Flow to compute the dynamical matrix on a (2, 2, 2) qmesh\n",
    "    as well as DDK and Born effective charges.\n",
    "    The final DDB with all perturbations will be merged automatically and placed\n",
    "    in the Flow `outdir` directory.\n",
    "    \"\"\"\n",
    "\n",
    "    flow = flowtk.PhononFlow.from_scf_input(\n",
    "        workdir, inp, ph_ngqpt=(2, 2, 1), with_becs=False\n",
    "    )\n",
    "\n",
    "    if force:\n",
    "        flow.rmtree()\n",
    "\n",
    "    return flow\n",
    "\n",
    "# flow_dftp = build_flow_dftp(inp_fcc100_dftp_supercell, \"reduced_cell/05_fcc100_221_dftp\", force=False)\n",
    "\n",
    "# try:\n",
    "#     scheduler = flow_dftp.make_scheduler()\n",
    "#     scheduler.start()\n",
    "# except:\n",
    "#     pass\n",
    "# flow_dftp.allocate()\n",
    "# flow_dftp.build_and_pickle_dump()"
   ]
  },
  {
   "cell_type": "code",
   "execution_count": null,
   "metadata": {},
   "outputs": [],
   "source": [
    "inp_fcc100_441_dftp = build_inp_fcc100_dftp_supercell(struct_fcc100, supercell=[4,4,1])\n",
    "\n",
    "def build_flow_dftp(inp, workdir, force=False):\n",
    "\n",
    "    \"\"\"Build and return a Flow to compute the dynamical matrix on a (2, 2, 2) qmesh\n",
    "    as well as DDK and Born effective charges.\n",
    "    The final DDB with all perturbations will be merged automatically and placed\n",
    "    in the Flow `outdir` directory.\n",
    "    \"\"\"\n",
    "\n",
    "    flow = flowtk.PhononFlow.from_scf_input(\n",
    "        workdir, inp, ph_ngqpt=(1, 1, 1), with_becs=False\n",
    "    )\n",
    "\n",
    "    if force:\n",
    "        flow.rmtree()\n",
    "\n",
    "    return flow\n",
    "\n",
    "flow_dftp = build_flow_dftp(inp_fcc100_441_dftp, \"reduced_cell/05_fcc100_441_dftp\", force=False)\n",
    "flow_dftp.allocate()\n",
    "flow_dftp.build_and_pickle_dump()"
   ]
  },
  {
   "cell_type": "code",
   "execution_count": null,
   "metadata": {},
   "outputs": [],
   "source": [
    "ddb = abilab.abiopen('reduced_cell/05_fcc100_221_dftp/outdata/out_DDB')"
   ]
  },
  {
   "cell_type": "code",
   "execution_count": null,
   "metadata": {},
   "outputs": [],
   "source": [
    "phbst_file, phdos_file = ddb.anaget_phbst_and_phdos_files(asr=0, ndivsm=10, nqsmall=8, lo_to_splitting=False, workdir='reduced_cell/05_fcc100_221_dftp_phbst')\n",
    "\n"
   ]
  },
  {
   "cell_type": "code",
   "execution_count": null,
   "metadata": {},
   "outputs": [],
   "source": []
  },
  {
   "cell_type": "code",
   "execution_count": null,
   "metadata": {},
   "outputs": [],
   "source": [
    "from abipy.core.abinit_units import phfactor_ev2units\n",
    "\n",
    "try:\n",
    "    phfreqs = ddb.anaget_phmodes_at_qpoint(qpoint=[0,0,0], asr=0, workdir='reduced_cell/05_fcc100_221_dftp_phonon').phfreqs\n",
    "except:\n",
    "    phbands = abilab.abiopen('reduced_cell/05_fcc100_221_dftp_phonon/run.abo_PHBST.nc').phbands\n",
    "\n",
    "phbands.phfreqs * phfactor_ev2units(\"cm-1\")"
   ]
  },
  {
   "cell_type": "code",
   "execution_count": null,
   "metadata": {},
   "outputs": [],
   "source": []
  },
  {
   "cell_type": "code",
   "execution_count": null,
   "metadata": {},
   "outputs": [],
   "source": []
  },
  {
   "cell_type": "code",
   "execution_count": null,
   "metadata": {},
   "outputs": [],
   "source": []
  },
  {
   "cell_type": "code",
   "execution_count": null,
   "metadata": {},
   "outputs": [],
   "source": []
  },
  {
   "cell_type": "code",
   "execution_count": null,
   "metadata": {},
   "outputs": [],
   "source": []
  },
  {
   "cell_type": "code",
   "execution_count": null,
   "metadata": {},
   "outputs": [],
   "source": []
  },
  {
   "cell_type": "code",
   "execution_count": null,
   "metadata": {},
   "outputs": [],
   "source": []
  },
  {
   "cell_type": "code",
   "execution_count": null,
   "metadata": {},
   "outputs": [],
   "source": []
  },
  {
   "cell_type": "code",
   "execution_count": null,
   "metadata": {},
   "outputs": [],
   "source": []
  },
  {
   "cell_type": "code",
   "execution_count": null,
   "metadata": {},
   "outputs": [],
   "source": []
  },
  {
   "cell_type": "markdown",
   "metadata": {},
   "source": []
  },
  {
   "cell_type": "code",
   "execution_count": null,
   "metadata": {},
   "outputs": [],
   "source": [
    "# def surface_area(structure):\n",
    "#     \"\"\"Calculates the surface area of the slab\n",
    "#     \"\"\"\n",
    "#     m = structure.lattice.matrix\n",
    "#     return np.linalg.norm(np.cross(m[0], m[1]))\n",
    "\n",
    "# def surface_energy(structure, energy_slab, energy_bulk):\n",
    "#     \"\"\"Calculates the surface energy of the slab\n",
    "#     \"\"\"\n",
    "#     A = surface_area(structure)\n",
    "#     N = len(structure)\n",
    "#     return (energy_slab - N * energy_bulk) / (2 * A)"
   ]
  },
  {
   "cell_type": "code",
   "execution_count": null,
   "metadata": {},
   "outputs": [],
   "source": [
    "# surface_area(abo.structure)"
   ]
  },
  {
   "cell_type": "code",
   "execution_count": null,
   "metadata": {},
   "outputs": [],
   "source": [
    "# surface_energy(abo.structure, abo.energy, total_energy)"
   ]
  },
  {
   "cell_type": "markdown",
   "metadata": {},
   "source": [
    "### Optimise the height of vacuum"
   ]
  },
  {
   "cell_type": "code",
   "execution_count": null,
   "metadata": {},
   "outputs": [],
   "source": [
    "\n",
    "# vacuum_list = np.linspace(relaxed_lattice_constant / 2, 5 * relaxed_lattice_constant / 2, 7)\n",
    "# vacuum_list\n",
    "\n",
    "# # Build flow form inputs.\n",
    "\n",
    "# inputs = [relax_100_surface_input(n=6, vacuum=vacuum) for vacuum in vacuum_list]\n",
    "\n",
    "# Build flow form inputs.\n",
    "# Note the Flow.from_inputs is a simplified interface that, by default, builds tasks\n",
    "# for Ground-state calculation (GsTask).\n",
    "# Here we are performing a structural relaxation so we have to specify the task class explicitly.\n",
    "# AbiPy will use this piece of information to handle the restart of the RelaxTask that differs\n",
    "# from the one provided by GsTask.\n",
    "    \n",
    "# flow = flowtk.Flow.from_inputs('05_relax_100_6_vacuum', inputs=inputs, task_class=flowtk.RelaxTask)\n",
    "# flow.show_status()\n",
    "# # flow.get_graphviz()"
   ]
  },
  {
   "cell_type": "code",
   "execution_count": null,
   "metadata": {
    "scrolled": false
   },
   "outputs": [],
   "source": [
    "# robot = abilab.GsrRobot.from_dir(\"05_relax_100_6_vacuum\")\n",
    "\n",
    "# energies = []\n",
    "# surface_eneries = []\n",
    "\n",
    "# for ind, calc in sorted(robot.items()):\n",
    "#     energies.append(calc.energy)\n",
    "#     surface_eneries.append(surface_energy(calc.structure, calc.energy, total_energy))"
   ]
  },
  {
   "cell_type": "code",
   "execution_count": null,
   "metadata": {},
   "outputs": [],
   "source": []
  },
  {
   "cell_type": "code",
   "execution_count": null,
   "metadata": {
    "scrolled": false
   },
   "outputs": [],
   "source": [
    "# plt.figure(figsize=(15,6))\n",
    "# plt.plot(vacuum_list, energies, 'o-')\n",
    "# plt.title('Converence of the total energy by separating the surfaces')\n",
    "# plt.xlabel('Height of the vacuum  [A]')\n",
    "# plt.ylabel('Energy per atom [eV]')\n",
    "\n",
    "# plt.show()"
   ]
  },
  {
   "cell_type": "code",
   "execution_count": null,
   "metadata": {},
   "outputs": [],
   "source": [
    "# plt.figure(figsize=(15,6))\n",
    "# plt.plot(vacuum_list, surface_eneries, 'o-')\n",
    "# plt.title('Converence of the surface energy by separating the surfaces')\n",
    "# plt.xlabel('Height of the vacuum [A]')\n",
    "# plt.ylabel('Surface energy [eV]')\n",
    "\n",
    "# plt.show()"
   ]
  },
  {
   "cell_type": "markdown",
   "metadata": {},
   "source": [
    "Conclusion: A vacuum with the $7$ Angstom is good enough."
   ]
  },
  {
   "cell_type": "code",
   "execution_count": null,
   "metadata": {},
   "outputs": [],
   "source": []
  },
  {
   "cell_type": "markdown",
   "metadata": {},
   "source": [
    "### Different number of layers"
   ]
  },
  {
   "cell_type": "code",
   "execution_count": null,
   "metadata": {
    "scrolled": true
   },
   "outputs": [],
   "source": [
    "# # Build flow form inputs.\n",
    "\n",
    "# n_list = range(1, 10)\n",
    "# inputs = [relax_100_surface_input(n=n, vacuum=7.0) for n in n_list]\n",
    "\n",
    "# flow = flowtk.Flow.from_inputs('06_relax_100_nlayers', inputs=inputs, task_class=flowtk.RelaxTask)\n",
    "# # flow.show_status()\n",
    "# # flow.get_graphviz()"
   ]
  },
  {
   "cell_type": "code",
   "execution_count": null,
   "metadata": {
    "scrolled": false
   },
   "outputs": [],
   "source": [
    "# robot = abilab.GsrRobot.from_dir(\"06_relax_100_nlayers/w0\")\n",
    "\n",
    "# energies = []\n",
    "# surface_eneries = []\n",
    "\n",
    "# for ind, calc in sorted(robot.items()):\n",
    "#     energies.append(calc.energy_per_atom)\n",
    "#     surface_eneries.append(surface_energy(calc.structure, calc.energy, total_energy))"
   ]
  },
  {
   "cell_type": "code",
   "execution_count": null,
   "metadata": {
    "scrolled": false
   },
   "outputs": [],
   "source": [
    "# plt.figure(figsize=(15,6))\n",
    "# plt.plot(n_list, energies, 'o-')\n",
    "# plt.title('Convergence of total energy')\n",
    "# plt.xlabel('# of layers')\n",
    "# plt.ylabel('Energy per atom [eV]')\n",
    "\n",
    "# plt.show()"
   ]
  },
  {
   "cell_type": "code",
   "execution_count": null,
   "metadata": {
    "scrolled": false
   },
   "outputs": [],
   "source": [
    "# plt.figure(figsize=(15,6))\n",
    "# plt.plot(n_list, surface_eneries, 'o-')\n",
    "# plt.title('Convergence of surface energy')\n",
    "# plt.xlabel('# of layers')\n",
    "# plt.ylabel('Surface energy [eV]')\n",
    "\n",
    "# plt.show()"
   ]
  },
  {
   "cell_type": "markdown",
   "metadata": {},
   "source": [
    "Conclusion: A vacuum with the $7$ Angstom is good enough."
   ]
  },
  {
   "cell_type": "code",
   "execution_count": null,
   "metadata": {},
   "outputs": [],
   "source": []
  },
  {
   "cell_type": "markdown",
   "metadata": {},
   "source": [
    "### The convergence of frozen layers"
   ]
  },
  {
   "cell_type": "code",
   "execution_count": null,
   "metadata": {},
   "outputs": [],
   "source": [
    "# # Build flow form inputs.\n",
    "\n",
    "# # range(0,7,2)\n",
    "# n_frozen_list = [0, 2, 4, 6]\n",
    "# inputs = [relax_100_surface_input(n=8, vacuum=7.0, n_frozen=n) for n in n_frozen_list]\n",
    "\n",
    "# flow = flowtk.Flow.from_inputs('07_relax_100_8_nfrozen', inputs=inputs, task_class=flowtk.RelaxTask)\n",
    "# # flow.show_status()\n",
    "# # flow.get_graphviz()"
   ]
  },
  {
   "cell_type": "code",
   "execution_count": null,
   "metadata": {
    "scrolled": true
   },
   "outputs": [],
   "source": [
    "# flow.rmtree()\n",
    "# scheduler = flow.make_scheduler()\n",
    "# scheduler.start()\n",
    "\n",
    "# flow.build(abivalidate=True)\n",
    "# flow.build_and_pickle_dump(abivalidate=True)"
   ]
  },
  {
   "cell_type": "code",
   "execution_count": null,
   "metadata": {},
   "outputs": [],
   "source": [
    "# robot = abilab.GsrRobot.from_dir(\"07_relax_100_8_nfrozen/w0\")\n",
    "\n",
    "# energies = []\n",
    "# surface_eneries = []\n",
    "\n",
    "# for ind, calc in sorted(robot.items()):\n",
    "#     energies.append(calc.energy_per_atom)\n",
    "#     surface_eneries.append(surface_energy(calc.structure, calc.energy, total_energy))"
   ]
  },
  {
   "cell_type": "code",
   "execution_count": null,
   "metadata": {},
   "outputs": [],
   "source": [
    "# energies"
   ]
  },
  {
   "cell_type": "code",
   "execution_count": null,
   "metadata": {
    "scrolled": false
   },
   "outputs": [],
   "source": [
    "# plt.figure(figsize=(15,6))\n",
    "# plt.plot(n_frozen_list, energies, 'o-')\n",
    "# plt.title('Energy per atom')\n",
    "# plt.xlabel('# of layers')\n",
    "# plt.ylabel('eV')\n",
    "# plt.show()"
   ]
  },
  {
   "cell_type": "code",
   "execution_count": null,
   "metadata": {
    "scrolled": false
   },
   "outputs": [],
   "source": [
    "# plt.figure(figsize=(15,6))\n",
    "# plt.plot(n_frozen_list, [energies[0]/e*100 for e in energies], 'o-')\n",
    "# plt.title('energy difference in percentages')\n",
    "# plt.xlabel('# of layers')\n",
    "# plt.ylabel('%')\n",
    "# plt.show()"
   ]
  },
  {
   "cell_type": "code",
   "execution_count": null,
   "metadata": {},
   "outputs": [],
   "source": [
    "# surface_eneries"
   ]
  },
  {
   "cell_type": "code",
   "execution_count": null,
   "metadata": {
    "scrolled": false
   },
   "outputs": [],
   "source": [
    "# plt.figure(figsize=(15,6))\n",
    "# plt.plot(n_frozen_list, surface_eneries, 'o-')\n",
    "# plt.title('Surface energy')\n",
    "# plt.xlabel('# of layers')\n",
    "# plt.ylabel('eV')\n",
    "# plt.show()"
   ]
  },
  {
   "cell_type": "code",
   "execution_count": null,
   "metadata": {},
   "outputs": [],
   "source": [
    "# # Build flow form inputs.\n",
    "# # range(1,8,2)\n",
    "# n_frozen_list = [0, 1, 3, 5, 7]\n",
    "# inputs = [relax_100_surface_input(n=9, vacuum=7.0, n_frozen=n) for n in n_frozen_list]\n",
    "\n",
    "# flow = flowtk.Flow.from_inputs('08_relax_100_9_nfrozen', inputs=inputs, task_class=flowtk.RelaxTask)\n",
    "# # flow.show_status()\n",
    "# # flow.get_graphviz()"
   ]
  },
  {
   "cell_type": "code",
   "execution_count": null,
   "metadata": {
    "scrolled": false
   },
   "outputs": [],
   "source": [
    "# flow.rmtree()\n",
    "# scheduler = flow.make_scheduler()\n",
    "# scheduler.start()\n",
    "\n",
    "# flow.build(abivalidate=True)\n",
    "# flow.build_and_pickle_dump(abivalidate=True)"
   ]
  },
  {
   "cell_type": "code",
   "execution_count": null,
   "metadata": {},
   "outputs": [],
   "source": [
    "# robot = abilab.GsrRobot.from_dir(\"08_relax_100_9_nfrozen/w0\")\n",
    "\n",
    "# energies = []\n",
    "# surface_eneries = []\n",
    "\n",
    "# for ind, calc in sorted(robot.items()):\n",
    "#     energies.append(calc.energy_per_atom)\n",
    "#     surface_eneries.append(surface_energy(calc.structure, calc.energy, total_energy))"
   ]
  },
  {
   "cell_type": "code",
   "execution_count": null,
   "metadata": {
    "scrolled": false
   },
   "outputs": [],
   "source": [
    "# plt.figure(figsize=(15,6))\n",
    "# plt.plot(n_frozen_list, energies, 'o-')\n",
    "# plt.title('Energy per atom')\n",
    "# plt.xlabel('# of layers')\n",
    "# plt.ylabel('eV')\n",
    "# plt.show()"
   ]
  },
  {
   "cell_type": "code",
   "execution_count": null,
   "metadata": {},
   "outputs": [],
   "source": [
    "# plt.figure(figsize=(15,6))\n",
    "# plt.plot(n_frozen_list, [energies[0]/e*100 for e in energies], 'o-')\n",
    "# plt.title('energy difference in percentages')\n",
    "# plt.xlabel('# of layers')\n",
    "# plt.ylabel('%')\n",
    "# plt.show()"
   ]
  },
  {
   "cell_type": "code",
   "execution_count": null,
   "metadata": {
    "scrolled": false
   },
   "outputs": [],
   "source": [
    "# plt.figure(figsize=(15,6))\n",
    "# plt.plot(n_frozen_list, surface_eneries, 'o-')\n",
    "# plt.title('Surface energy')\n",
    "# plt.xlabel('# of layers')\n",
    "# plt.ylabel('eV')\n",
    "# plt.show()"
   ]
  },
  {
   "cell_type": "code",
   "execution_count": null,
   "metadata": {},
   "outputs": [],
   "source": []
  },
  {
   "cell_type": "code",
   "execution_count": null,
   "metadata": {},
   "outputs": [],
   "source": []
  },
  {
   "cell_type": "markdown",
   "metadata": {},
   "source": [
    "## Macroscopic dielectric tensor and Born effective charges\n",
    "\n",
    "Our calculations includes the response of the system to an external electric field.\n",
    "The code below extracts the macroscopic dielectric tensor (`emacro`)\n",
    "and the Born effective charges (`becs`) from the DDB file:"
   ]
  },
  {
   "cell_type": "code",
   "execution_count": null,
   "metadata": {},
   "outputs": [],
   "source": [
    "# emacro, becs = ddb.anaget_epsinf_and_becs()"
   ]
  },
  {
   "cell_type": "code",
   "execution_count": null,
   "metadata": {},
   "outputs": [],
   "source": [
    "# becs"
   ]
  },
  {
   "cell_type": "markdown",
   "metadata": {},
   "source": [
    "As explained in the references, the Born effective charges must fulfill \n",
    "the charge neutrality sum-rule.\n",
    "This rule is usually broken due to the discretization introduced by the FFT mesh, and `anaddb` will enforce it if `chneut` is set to 1 (default behaviour). Let's check it out!"
   ]
  },
  {
   "cell_type": "code",
   "execution_count": null,
   "metadata": {},
   "outputs": [],
   "source": [
    "# emacro, becs_chneut0 = ddb.anaget_epsinf_and_becs(chneut=0)\n",
    "# print(becs_chneut0)"
   ]
  },
  {
   "cell_type": "code",
   "execution_count": null,
   "metadata": {},
   "outputs": [],
   "source": []
  },
  {
   "cell_type": "code",
   "execution_count": null,
   "metadata": {},
   "outputs": [],
   "source": []
  }
 ],
 "metadata": {
  "kernelspec": {
   "display_name": "Python 3",
   "language": "python",
   "name": "python3"
  },
  "language_info": {
   "codemirror_mode": {
    "name": "ipython",
    "version": 3
   },
   "file_extension": ".py",
   "mimetype": "text/x-python",
   "name": "python",
   "nbconvert_exporter": "python",
   "pygments_lexer": "ipython3",
   "version": "3.8.8"
  }
 },
 "nbformat": 4,
 "nbformat_minor": 4
}
