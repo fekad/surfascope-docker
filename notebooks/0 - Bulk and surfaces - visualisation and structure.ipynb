{
 "cells": [
  {
   "cell_type": "markdown",
   "metadata": {},
   "source": [
    "# Al bulk and surface structure\n"
   ]
  },
  {
   "cell_type": "markdown",
   "metadata": {},
   "source": [
    "Let's load all the necessary packages: "
   ]
  },
  {
   "cell_type": "code",
   "execution_count": null,
   "metadata": {},
   "outputs": [],
   "source": [
    "import numpy as np\n",
    "\n",
    "from pymatgen.core import Structure, Lattice\n",
    "\n",
    "# from jupyter_jsmol import JsmolView\n",
    "# from jupyter_jsmol.pymatgen import quick_view"
   ]
  },
  {
   "cell_type": "markdown",
   "metadata": {},
   "source": [
    "# Visualisation: \n",
    "\n",
    "## Bulk - Conventional cell"
   ]
  },
  {
   "cell_type": "code",
   "execution_count": null,
   "metadata": {},
   "outputs": [],
   "source": [
    "from surfascope.lattice_visualisation import (\n",
    "    plot_fcc_prim, \n",
    "    plot_fcc_conv, \n",
    "    plot_fcc_100, \n",
    "    plot_fcc_110, \n",
    "    plot_fcc_111, \n",
    "    points\n",
    ")"
   ]
  },
  {
   "cell_type": "code",
   "execution_count": null,
   "metadata": {},
   "outputs": [],
   "source": [
    "def grid(n):\n",
    "    r = np.linspace(0, 1, n, endpoint=False)\n",
    "    return np.array([[x,y,z] for x in r for y in r for z in r])"
   ]
  },
  {
   "cell_type": "code",
   "execution_count": null,
   "metadata": {},
   "outputs": [],
   "source": [
    "fig = plot_fcc_conv()\n",
    "\n",
    "fig.update_layout(width=1000, height=800)\n",
    "fig.update_scenes(camera_projection_type=\"orthographic\")\n",
    "fig.show()"
   ]
  },
  {
   "cell_type": "markdown",
   "metadata": {},
   "source": [
    "Atom centereed k-point grid"
   ]
  },
  {
   "cell_type": "code",
   "execution_count": null,
   "metadata": {},
   "outputs": [],
   "source": [
    "fig = plot_fcc_conv() # in reciproacal space it should be a bcc structure, but ...\n",
    "\n",
    "nkpts_conv = 4\n",
    "kptgrid_conv = grid(nkpts_conv)\n",
    "\n",
    "fig.add_trace(points(kptgrid_conv,name='kpt grid'))\n",
    "\n",
    "fig.update_layout(width=1000, height=800)\n",
    "fig.update_scenes(camera_projection_type=\"orthographic\")\n",
    "fig.show()"
   ]
  },
  {
   "cell_type": "markdown",
   "metadata": {},
   "source": [
    "Shifted k-point grid `shift = [0.5 0.5 0.5]`"
   ]
  },
  {
   "cell_type": "code",
   "execution_count": null,
   "metadata": {},
   "outputs": [],
   "source": [
    "fig = plot_fcc_conv() # same as before...\n",
    "\n",
    "nkpts_conv = 4\n",
    "kptgrid_conv = grid(nkpts_conv) + 0.5 / nkpts_conv\n",
    "fig.add_trace(points(kptgrid_conv,name='kpt grid'))\n",
    "\n",
    "fig.update_layout(width=1000, height=800)\n",
    "fig.update_scenes(camera_projection_type=\"orthographic\")\n",
    "fig.show()"
   ]
  },
  {
   "cell_type": "markdown",
   "metadata": {},
   "source": [
    "## Bulk - Primitive cell"
   ]
  },
  {
   "cell_type": "markdown",
   "metadata": {},
   "source": [
    "Visualisation of the primitive and the conventional cell:"
   ]
  },
  {
   "cell_type": "code",
   "execution_count": null,
   "metadata": {},
   "outputs": [],
   "source": [
    "fig = plot_fcc_prim()\n",
    "\n",
    "fig.update_layout(width=1000, height=800)\n",
    "fig.update_scenes(camera_projection_type=\"orthographic\")\n",
    "fig.show()"
   ]
  },
  {
   "cell_type": "code",
   "execution_count": null,
   "metadata": {},
   "outputs": [],
   "source": [
    "# The k-grid  point must be visualised in reciprical space\n",
    "\n",
    "# fig = plot_fcc_prim()\n",
    "\n",
    "# n_conv = 4\n",
    "# n_prim = 2\n",
    "\n",
    "# fcc_prim_cell = np.array([[0.5, 0.5, 0], [0, 0.5, 0.5], [0.5, 0, 0.5]])\n",
    "\n",
    "# grid_conv = grid(n_conv)\n",
    "# grid_prim = np.dot(grid(n_prim), fcc_prim_cell)\n",
    "\n",
    "# s1 = 1 / n_prim * np.dot(np.array([0.5, 0.5, 0.5]), fcc_prim_cell)\n",
    "\n",
    "# fig.add_trace(points(grid_prim, size=14, color='orange'))\n",
    "# fig.add_trace(points(grid_prim + s1, size=12, color='red'))\n",
    "# fig.add_trace(points(grid_conv))\n",
    "\n",
    "# fig.update_layout(width=1500,height=1000)\n",
    "# fig.update_scenes(camera_projection_type=\"orthographic\")\n",
    "# fig.show()"
   ]
  },
  {
   "cell_type": "markdown",
   "metadata": {},
   "source": [
    "Shifted k-point grid (in the original conventional cell) `shift = [0.5 0.5 0.5]`"
   ]
  },
  {
   "cell_type": "code",
   "execution_count": null,
   "metadata": {},
   "outputs": [],
   "source": [
    "# The k-grid  point must be visualised in reciprical space\n",
    "\n",
    "# fig = plot_fcc_prim()\n",
    "\n",
    "# n_conv = 4\n",
    "# n_prim = 2\n",
    "\n",
    "# fcc_prim_cell = np.array([[0, 0.5, 0.5], [0.5, 0, 0.5], [0.5, 0.5, 0]])\n",
    "\n",
    "# grid_conv = grid(n_conv) + np.array([0.5, 0.5, 0.5]) / n_conv\n",
    "# grid_prim = np.dot(grid(n_prim), fcc_prim_cell)\n",
    "\n",
    "# # shiftk 0.5 0.5 0.5\n",
    "# #        0.5 0.0 0.0\n",
    "# #        0.0 0.5 0.0\n",
    "# #        0.0 0.0 0.5\n",
    "\n",
    "# s1 = 1 / n_prim * np.dot(np.array([0.5, 0.5, 0.5]), fcc_prim_cell)\n",
    "# s2 = 1 / n_prim * np.dot(np.array([0.5, 0.0, 0.0]), fcc_prim_cell)\n",
    "# s3 = 1 / n_prim * np.dot(np.array([0.0, 0.5, 0.0]), fcc_prim_cell)\n",
    "# s4 = 1 / n_prim * np.dot(np.array([0.0, 0.0, 0.5]), fcc_prim_cell)\n",
    "\n",
    "# fig.add_trace(points(grid_prim + s1, size=16, color='orange'))\n",
    "# fig.add_trace(points(grid_prim + s2, size=14, color='green'))\n",
    "# fig.add_trace(points(grid_prim + s3, size=10, color='yellow'))\n",
    "# fig.add_trace(points(grid_prim + s4, size=8, color='purple'))\n",
    "# fig.add_trace(points(grid_conv))\n",
    "\n",
    "# fig.update_layout(width=1500, height=1000)\n",
    "# fig.update_scenes(camera_projection_type=\"orthographic\")\n",
    "# fig.show()\n"
   ]
  },
  {
   "cell_type": "code",
   "execution_count": null,
   "metadata": {},
   "outputs": [],
   "source": [
    "# The k-grid  point must be visualised in reciprical space\n",
    "# fig = plot_fcc_prim()\n",
    "\n",
    "# n_conv = 8\n",
    "# n_prim = 4\n",
    "\n",
    "# fcc_prim = np.array([[0.5, 0.5, 0], [0, 0.5, 0.5], [0.5, 0, 0.5]])\n",
    "\n",
    "# grid_conv = grid(n_conv) + np.array([0.5, 0.5, 0.5]) / n_conv\n",
    "# grid_prim = np.dot(grid(n_prim), fcc_prim)\n",
    "\n",
    "# s1 = 1 / n_prim * np.dot(np.array([0.0, 0.0, 0.0]), fcc_prim) + 1 / n_prim / 2  * np.dot(np.array([0.5, 0.5, 0.5]), fcc_prim) \n",
    "# s2 = 1 / n_prim * np.dot(np.array([0.5, 0.5, 0.5]), fcc_prim) + 1 / n_prim / 2 * np.dot(np.array([0.5, 0.5, 0.5]), fcc_prim) \n",
    "\n",
    "# fig.add_trace(points(grid_prim + s1, size=16, color='orange'))\n",
    "# fig.add_trace(points(grid_prim + s2, size=14, color='green'))\n",
    "\n",
    "# fig.add_trace(points(grid_conv))\n",
    "\n",
    "# fig.update_layout(width=1500, height=1000)\n",
    "# fig.update_scenes(camera_projection_type=\"orthographic\")\n",
    "# fig.show()\n"
   ]
  },
  {
   "cell_type": "markdown",
   "metadata": {},
   "source": [
    "## Surfaces\n",
    "\n",
    "The 100 surface "
   ]
  },
  {
   "cell_type": "code",
   "execution_count": null,
   "metadata": {},
   "outputs": [],
   "source": [
    "fig = plot_fcc_100()\n",
    "fig.show()"
   ]
  },
  {
   "cell_type": "markdown",
   "metadata": {},
   "source": [
    "The 110 surface "
   ]
  },
  {
   "cell_type": "code",
   "execution_count": null,
   "metadata": {},
   "outputs": [],
   "source": [
    "fig = plot_fcc_110()\n",
    "fig.show()"
   ]
  },
  {
   "cell_type": "markdown",
   "metadata": {},
   "source": [
    "The 111 surface"
   ]
  },
  {
   "cell_type": "code",
   "execution_count": null,
   "metadata": {},
   "outputs": [],
   "source": [
    "fig = plot_fcc_111()\n",
    "fig.show()"
   ]
  },
  {
   "cell_type": "markdown",
   "metadata": {},
   "source": [
    "# Generate a pytmatgen `Structure` object:\n",
    "## Bulk"
   ]
  },
  {
   "cell_type": "code",
   "execution_count": null,
   "metadata": {},
   "outputs": [],
   "source": [
    "from surfascope.abinit.calculations import fcc_prim, fcc_conv, fcc_100, fcc_100_conv, fcc_110, fcc_111"
   ]
  },
  {
   "cell_type": "code",
   "execution_count": null,
   "metadata": {},
   "outputs": [],
   "source": [
    "lattice_constant = 4.041265916093099"
   ]
  },
  {
   "cell_type": "code",
   "execution_count": null,
   "metadata": {
    "scrolled": true
   },
   "outputs": [],
   "source": [
    "struct_prim = fcc_prim('Al', lattice_constant)\n",
    "struct_prim"
   ]
  },
  {
   "cell_type": "markdown",
   "metadata": {},
   "source": [
    "Use Jsmol for visualisation:"
   ]
  },
  {
   "cell_type": "code",
   "execution_count": null,
   "metadata": {},
   "outputs": [],
   "source": [
    "quick_view(struct_prim)"
   ]
  },
  {
   "cell_type": "code",
   "execution_count": null,
   "metadata": {},
   "outputs": [],
   "source": [
    "struct_conv = fcc_conv('Al', lattice_constant) \n",
    "struct_conv"
   ]
  },
  {
   "cell_type": "code",
   "execution_count": null,
   "metadata": {},
   "outputs": [],
   "source": [
    "quick_view(struct_conv)"
   ]
  },
  {
   "cell_type": "markdown",
   "metadata": {},
   "source": [
    "## Surfaces:\n"
   ]
  },
  {
   "cell_type": "markdown",
   "metadata": {},
   "source": [
    "Lets build a new reduced cell for representing the 100 surface:"
   ]
  },
  {
   "cell_type": "code",
   "execution_count": null,
   "metadata": {
    "scrolled": true
   },
   "outputs": [],
   "source": [
    "struct_reduced = fcc_100('Al', lattice_constant, n=6, vacuum=10*lattice_constant/2) \n",
    "struct_reduced"
   ]
  },
  {
   "cell_type": "code",
   "execution_count": null,
   "metadata": {
    "scrolled": true
   },
   "outputs": [],
   "source": [
    "struct_fcc_100_conv = fcc_100_conv('Al', lattice_constant, n=5, vacuum=lattice_constant) \n",
    "struct_fcc_100_conv"
   ]
  },
  {
   "cell_type": "code",
   "execution_count": null,
   "metadata": {
    "scrolled": false
   },
   "outputs": [],
   "source": [
    "quick_view(struct_fcc_100_conv, supercell=(3,3,2))"
   ]
  },
  {
   "cell_type": "markdown",
   "metadata": {},
   "source": [
    "The 110 surface "
   ]
  },
  {
   "cell_type": "code",
   "execution_count": null,
   "metadata": {
    "scrolled": true
   },
   "outputs": [],
   "source": [
    "struct_fcc_110 = fcc_110('Al', lattice_constant, n=5, vacuum=lattice_constant) \n",
    "struct_fcc_110"
   ]
  },
  {
   "cell_type": "code",
   "execution_count": null,
   "metadata": {
    "scrolled": false
   },
   "outputs": [],
   "source": [
    "quick_view(struct_fcc_110, supercell=(1,1,1))"
   ]
  },
  {
   "cell_type": "code",
   "execution_count": null,
   "metadata": {},
   "outputs": [],
   "source": [
    "3 * (lattice_constant * np.sqrt(2)/2 + lattice_constant)"
   ]
  },
  {
   "cell_type": "markdown",
   "metadata": {
    "scrolled": true
   },
   "source": [
    "The 111 surface"
   ]
  },
  {
   "cell_type": "code",
   "execution_count": null,
   "metadata": {},
   "outputs": [],
   "source": [
    "struct_fcc_111 = fcc_111('Al', lattice_constant, n=5, vacuum=2*lattice_constant/np.sqrt(3)) \n",
    "struct_fcc_111"
   ]
  },
  {
   "cell_type": "code",
   "execution_count": null,
   "metadata": {},
   "outputs": [],
   "source": [
    "quick_view(struct_fcc_111, supercell=(1,1,1))"
   ]
  },
  {
   "cell_type": "code",
   "execution_count": null,
   "metadata": {},
   "outputs": [],
   "source": [
    "lattice_constant*np.sqrt(3)"
   ]
  },
  {
   "cell_type": "markdown",
   "metadata": {},
   "source": [
    "# Appendix"
   ]
  },
  {
   "cell_type": "code",
   "execution_count": null,
   "metadata": {},
   "outputs": [],
   "source": [
    "from pymatgen import Structure, Lattice\n",
    "from pymatgen.core import surface\n",
    "from pymatgen.transformations.standard_transformations import ConventionalCellTransformation"
   ]
  },
  {
   "cell_type": "code",
   "execution_count": null,
   "metadata": {},
   "outputs": [],
   "source": [
    "# Lattice parameter (angstrom)\n",
    "a = 2.808477986858047\n",
    "\n",
    "struct_prim = Structure(\n",
    "    lattice=Lattice.from_parameters(a=a, b=a, c=a, alpha=60, beta=60, gamma=60),\n",
    "    species=['Al'], \n",
    "    coords=[[0, 0, 0]]\n",
    ")\n",
    "quick_view(struct_prim, supercell=1)"
   ]
  },
  {
   "cell_type": "code",
   "execution_count": null,
   "metadata": {},
   "outputs": [],
   "source": [
    "struct_conv = ConventionalCellTransformation().apply_transformation(struct_prim)\n",
    "quick_view(struct_conv, supercell=1)"
   ]
  },
  {
   "cell_type": "code",
   "execution_count": null,
   "metadata": {},
   "outputs": [],
   "source": [
    "n = 1\n",
    "slab_height = np.sqrt(2) * a * n\n",
    "\n",
    "slab = surface.SlabGenerator(struct_conv, miller_index=(1,0,0), min_slab_size=slab_height, min_vacuum_size=10)\n",
    "\n",
    "quick_view(slab.get_slab(), supercell=(5,5,1))"
   ]
  },
  {
   "cell_type": "code",
   "execution_count": null,
   "metadata": {},
   "outputs": [],
   "source": []
  },
  {
   "cell_type": "code",
   "execution_count": null,
   "metadata": {},
   "outputs": [],
   "source": []
  },
  {
   "cell_type": "markdown",
   "metadata": {},
   "source": [
    "### Generating surfaces using the ASE package"
   ]
  },
  {
   "cell_type": "code",
   "execution_count": null,
   "metadata": {},
   "outputs": [],
   "source": [
    "from pymatgen.io.ase import AseAtomsAdaptor \n",
    "from ase.build import fcc111, fcc110, fcc100\n",
    "from ase.spacegroup import crystal\n",
    "\n",
    "from jupyter_jsmol import JsmolView\n",
    "from jupyter_jsmol.pymatgen import quick_view\n",
    "\n",
    "def ase_to_cif(atoms):\n",
    "    from io import BytesIO\n",
    "    from ase.io.cif import write_cif\n",
    "\n",
    "    with BytesIO() as f:\n",
    "        write_cif(f, atoms)\n",
    "        cif_str = f.getvalue()\n",
    "    return cif_str.decode()"
   ]
  },
  {
   "cell_type": "code",
   "execution_count": null,
   "metadata": {
    "scrolled": false
   },
   "outputs": [],
   "source": [
    "a = 4.05\n",
    "al = crystal('Al', [(0,0,0)], spacegroup=225, cellpar=[a, a, a, 90, 90, 90], primitive_cell=False)\n",
    "JsmolView.from_str(ase_to_cif(al),\" {2 2 2}\")"
   ]
  },
  {
   "cell_type": "code",
   "execution_count": null,
   "metadata": {
    "scrolled": false
   },
   "outputs": [],
   "source": [
    "n = 10\n",
    "slab = fcc110('Al',a=a, size=(1,1,n), vacuum=0.000001, orthogonal=True)\n",
    "struct_ase = AseAtomsAdaptor().get_structure(slab)\n",
    "quick_view(struct_ase, supercell=(1, 1, 1))"
   ]
  },
  {
   "cell_type": "code",
   "execution_count": null,
   "metadata": {},
   "outputs": [],
   "source": []
  },
  {
   "cell_type": "code",
   "execution_count": null,
   "metadata": {},
   "outputs": [],
   "source": [
    "n = 2\n",
    "slab = fcc100('Al',a=np.sqrt(2) * a, size=(1,1,n), vacuum=0.0001, orthogonal=True)\n",
    "struct_ase = AseAtomsAdaptor().get_structure(slab)\n",
    "quick_view(struct_ase, supercell=(1, 1, 1))"
   ]
  },
  {
   "cell_type": "code",
   "execution_count": null,
   "metadata": {},
   "outputs": [],
   "source": [
    "n = 2\n",
    "slab = fcc110('Al',a=np.sqrt(2) * a, size=(1,1,n), vacuum=0.0001, orthogonal=True)\n",
    "struct_ase = AseAtomsAdaptor().get_structure(slab)\n",
    "quick_view(struct_ase, supercell=(1, 1, 1))"
   ]
  },
  {
   "cell_type": "code",
   "execution_count": null,
   "metadata": {},
   "outputs": [],
   "source": []
  },
  {
   "cell_type": "code",
   "execution_count": null,
   "metadata": {},
   "outputs": [],
   "source": []
  }
 ],
 "metadata": {
  "kernelspec": {
   "display_name": "Python 3",
   "language": "python",
   "name": "python3"
  },
  "language_info": {
   "codemirror_mode": {
    "name": "ipython",
    "version": 3
   },
   "file_extension": ".py",
   "mimetype": "text/x-python",
   "name": "python",
   "nbconvert_exporter": "python",
   "pygments_lexer": "ipython3",
   "version": "3.8.8"
  }
 },
 "nbformat": 4,
 "nbformat_minor": 4
}
