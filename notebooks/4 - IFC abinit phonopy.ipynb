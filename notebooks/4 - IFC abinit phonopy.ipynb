{
 "cells": [
  {
   "cell_type": "code",
   "execution_count": null,
   "metadata": {},
   "outputs": [],
   "source": [
    "import abipy\n",
    "import numpy as np\n",
    "from abipy import abilab\n",
    "from abipy.dfpt.converters import phonopy_to_abinit, abinit_to_phonopy\n",
    "\n",
    "import plotly\n",
    "import plotly.graph_objects as go\n"
   ]
  },
  {
   "cell_type": "code",
   "execution_count": null,
   "metadata": {},
   "outputs": [],
   "source": []
  },
  {
   "cell_type": "markdown",
   "metadata": {},
   "source": [
    "## Quick test for abinit-phonopy-abinit conversion"
   ]
  },
  {
   "cell_type": "code",
   "execution_count": null,
   "metadata": {},
   "outputs": [],
   "source": [
    "filename = 'data/reduced_cell/04_fcc100_dfpt_10/outdata/out_DDB'\n",
    "\n",
    "ddb = abilab.abiopen(filename)\n",
    "# phonopy_obj = ddb.anaget_phonopy_ifc(output_dir_path=\"output_dir\")\n",
    "phonopy_obj = ddb.anaget_phonopy_ifc()"
   ]
  },
  {
   "cell_type": "code",
   "execution_count": null,
   "metadata": {},
   "outputs": [],
   "source": [
    "ddb_reconstructed = phonopy_to_abinit(\n",
    "    unit_cell = ddb.structure,\n",
    "    # unit_cell = phonopy_obj.unitcell.get_cell(),\n",
    "    supercell_matrix = phonopy_obj.supercell_matrix, \n",
    "    # supercell_matrix = phonopy_obj.supercell.get_cell(), \n",
    "    out_ddb_path = \"data/reduced_cell/04_fcc100_dfpt_10/outdata/test/out_DDB\",\n",
    "    force_constants= phonopy_obj.dynamical_matrix.get_force_constants(),\n",
    "    qpt_list= ddb.qpoints.to_array()\n",
    "    )"
   ]
  },
  {
   "cell_type": "code",
   "execution_count": null,
   "metadata": {},
   "outputs": [],
   "source": [
    "for qpoint in ddb.qpoints:\n",
    "    # print(qpoint)\n",
    "    diff = ddb.computed_dynmat[qpoint] - ddb_reconstructed.computed_dynmat[qpoint]\n",
    "\n",
    "    original_max_value = ddb.computed_dynmat[qpoint][\"cvalue\"].abs().max()\n",
    "\n",
    "    max_diff = diff[\"cvalue\"].abs().max()\n",
    "    max_diff_inds = diff[\"cvalue\"].abs().idxmax()\n",
    "    original_at_max_diff = ddb.computed_dynmat[qpoint][\"cvalue\"].abs()[max_diff_inds]\n",
    "    new_at_max_diff = ddb_reconstructed.computed_dynmat[qpoint][\"cvalue\"].abs()[max_diff_inds]\n",
    "    print(f\"max_diff: {max_diff}\")\n",
    "    print(f\"original_at_max_diff: {original_at_max_diff}\")\n",
    "    print(f\"new_at_max_diff: {new_at_max_diff}\")\n",
    "    print(f\"percentage: {max_diff/original_at_max_diff*100}\")\n",
    "    print(f\"original_max_value: {original_max_value}\")\n",
    "    print(\"\")"
   ]
  },
  {
   "cell_type": "markdown",
   "metadata": {},
   "source": [
    "## Phonopy "
   ]
  },
  {
   "cell_type": "code",
   "execution_count": null,
   "metadata": {},
   "outputs": [],
   "source": []
  },
  {
   "cell_type": "code",
   "execution_count": null,
   "metadata": {},
   "outputs": [],
   "source": [
    "def lorentzian( x, x0, gamma):\n",
    "    return   gamma**2 / (( x - x0 )**2 + gamma**2)\n",
    "    # return  1/(np.pi * gamma) * gamma**2 / (( x - x0 )**2 + gamma**2)"
   ]
  },
  {
   "cell_type": "code",
   "execution_count": null,
   "metadata": {},
   "outputs": [],
   "source": [
    "filename = 'data/reduced_cell/04_fcc100_dfpt_11/outdata/out_DDB'\n",
    "\n",
    "ddb = abilab.abiopen(filename)\n",
    "phonopy_obj = ddb.anaget_phonopy_ifc()\n"
   ]
  },
  {
   "cell_type": "code",
   "execution_count": null,
   "metadata": {},
   "outputs": [],
   "source": [
    "ddb.qpoints"
   ]
  },
  {
   "cell_type": "code",
   "execution_count": null,
   "metadata": {},
   "outputs": [],
   "source": [
    "freqs = phonopy_obj.get_frequencies([0., 0., 0.5])\n",
    "\n",
    "omega = np.linspace(0,15,10001) # THz\n",
    "\n",
    "f = np.zeros_like(omega)\n",
    "for freq in freqs:\n",
    "    f += lorentzian(omega, freq, 0.4)\n",
    "\n",
    "\n",
    "fig = go.Figure(data=go.Scatter(x=omega, y=f))\n",
    "fig.show()\n"
   ]
  },
  {
   "cell_type": "code",
   "execution_count": null,
   "metadata": {},
   "outputs": [],
   "source": [
    "Nq = 11\n",
    "Nf = 1001\n",
    "gamma = 0.1\n",
    "\n",
    "qpath = np.linspace(0, 1, Nq)\n",
    "omega = np.linspace(0, 15, Nf) # THz\n",
    "\n",
    "f = np.zeros((Nq, Nf))\n",
    "for (i, qpt) in enumerate(qpath):\n",
    "    freqs = phonopy_obj.get_frequencies([qpt, 0, 0])\n",
    "\n",
    "    for freq in freqs:\n",
    "        f[i,:] += lorentzian(omega, freq, gamma)\n",
    "\n",
    "fig = go.Figure(data=go.Heatmap(\n",
    "    z=f.transpose(),\n",
    "    x=qpath,\n",
    "    y=omega,\n",
    "    colorscale='Viridis'))\n",
    "\n",
    "# fig.show()"
   ]
  },
  {
   "cell_type": "code",
   "execution_count": null,
   "metadata": {},
   "outputs": [],
   "source": [
    "Nq = 11\n",
    "Nf = 1001\n",
    "gamma = 0.1\n",
    "\n",
    "qpath = np.linspace(0, 1, Nq)\n",
    "omega = np.linspace(0, 15, Nf) # THz\n",
    "\n",
    "f = np.zeros((Nq, Nf))\n",
    "for (i, qpt) in enumerate(qpath):\n",
    "    freqs = phonopy_obj.get_frequencies([0, 0, qpt])\n",
    "\n",
    "    for freq in freqs:\n",
    "        f[i,:] += lorentzian(omega, freq, gamma)\n",
    "\n",
    "fig = go.Figure(data=go.Heatmap(\n",
    "        z=f.transpose(),\n",
    "        x=qpath,\n",
    "        y=omega,\n",
    "        colorscale='Viridis'))\n",
    "\n",
    "# fig.show()"
   ]
  },
  {
   "cell_type": "code",
   "execution_count": null,
   "metadata": {},
   "outputs": [],
   "source": []
  },
  {
   "cell_type": "code",
   "execution_count": null,
   "metadata": {},
   "outputs": [],
   "source": []
  },
  {
   "cell_type": "code",
   "execution_count": null,
   "metadata": {},
   "outputs": [],
   "source": []
  },
  {
   "cell_type": "code",
   "execution_count": null,
   "metadata": {},
   "outputs": [],
   "source": [
    "# phonopy_obj.force_constants"
   ]
  },
  {
   "cell_type": "code",
   "execution_count": null,
   "metadata": {},
   "outputs": [],
   "source": [
    "phonopy_obj.run_mesh()"
   ]
  },
  {
   "cell_type": "code",
   "execution_count": null,
   "metadata": {},
   "outputs": [],
   "source": [
    "phonopy_obj.get_mesh()"
   ]
  },
  {
   "cell_type": "code",
   "execution_count": null,
   "metadata": {},
   "outputs": [],
   "source": [
    "from phonopy.phonon.band_structure import get_band_qpoints_and_path_connections\n",
    "\n",
    "path = [[[0, 0, 0], [0.5, 0, 0.5], [0.625, 0.25, 0.625]],\n",
    "        [[0.375, 0.375, 0.75], [0, 0, 0], [0.5, 0.5, 0.5], [0.5, 0.25, 0.75]]]\n",
    "labels = [\"$\\\\Gamma$\", \"X\", \"U\", \"K\", \"$\\\\Gamma$\", \"L\", \"W\"]\n",
    "qpoints, connections = get_band_qpoints_and_path_connections(path, npoints=51)\n",
    "\n",
    "phonopy_obj.run_band_structure(qpoints, path_connections=connections, labels=labels)\n",
    "phonopy_obj.plot_band_structure().show()"
   ]
  },
  {
   "cell_type": "code",
   "execution_count": null,
   "metadata": {},
   "outputs": [],
   "source": [
    "# phonopy_obj.run_mesh([20, 20, 1])\n",
    "phonopy_obj.run_total_dos()"
   ]
  },
  {
   "cell_type": "code",
   "execution_count": null,
   "metadata": {},
   "outputs": [],
   "source": [
    "# phonon.auto_projected_dos(plot=True).show()\n",
    "\n",
    "phonopy_obj.run_mesh([20, 20, 1], with_eigenvectors=True, is_mesh_symmetry=False)\n",
    "\n",
    "phonopy_obj.run_projected_dos()\n",
    "phonopy_obj.plot_projected_dos().show()"
   ]
  },
  {
   "cell_type": "code",
   "execution_count": null,
   "metadata": {},
   "outputs": [],
   "source": [
    "\n",
    "path=[\n",
    "    [[0,x,0] for x in np.linspace(0,.5,101)],\n",
    "    [[x,.5,0] for x in np.linspace(0,.5,101)],\n",
    "    [[.5-x,.5-x,0] for x in np.linspace(0,.5,101)],\n",
    "]\n",
    "phonopy_obj.run_band_structure(path)\n",
    "phonopy_obj.plot_band_structure_and_dos()"
   ]
  },
  {
   "cell_type": "code",
   "execution_count": null,
   "metadata": {},
   "outputs": [],
   "source": [
    "\n",
    "path=[\n",
    "    [[0,0,x] for x in np.linspace(0,.5,101)],\n",
    "    [[x,x,.5-x] for x in np.linspace(0,.5,101)],\n",
    "]\n",
    "phonopy_obj.run_band_structure(path)\n",
    "phonopy_obj.run_mesh([16, 16, 1])\n",
    "phonopy_obj.run_total_dos()\n",
    "phonopy_obj.plot_band_structure_and_dos()"
   ]
  },
  {
   "cell_type": "code",
   "execution_count": null,
   "metadata": {},
   "outputs": [],
   "source": [
    "# phonopy_obj.auto_band_structure(plot=True).show()\n",
    "phonopy_obj.auto_band_structure()\n",
    "phonopy_obj.plot_band_structure_and_dos()"
   ]
  },
  {
   "cell_type": "code",
   "execution_count": null,
   "metadata": {},
   "outputs": [],
   "source": [
    "phonopy_obj.unitcell.get_scaled_positions(\n",
    ")"
   ]
  },
  {
   "cell_type": "code",
   "execution_count": null,
   "metadata": {},
   "outputs": [],
   "source": [
    "s = phonopy_obj.get_supercell()"
   ]
  },
  {
   "cell_type": "code",
   "execution_count": null,
   "metadata": {},
   "outputs": [],
   "source": [
    "ddb.qpoints"
   ]
  },
  {
   "cell_type": "code",
   "execution_count": null,
   "metadata": {},
   "outputs": [],
   "source": []
  },
  {
   "cell_type": "code",
   "execution_count": null,
   "metadata": {},
   "outputs": [],
   "source": [
    "# direction = np.array([1,0,0])\n",
    "direction = np.array([0,0,1])\n",
    "\n",
    "ifcs=phonopy_obj.get_force_constants()[0]\n",
    "forces = np.dot(ifcs, direction)\n",
    "\n",
    "magnitude = np.linalg.norm(forces, axis=1)[:,np.newaxis]\n",
    "# forces *= np.log(magnitude)/magnitude"
   ]
  },
  {
   "cell_type": "code",
   "execution_count": null,
   "metadata": {},
   "outputs": [],
   "source": [
    "\n",
    "inds = np.ravel_multi_index(np.triu_indices(4), (4,4))\n",
    "\n",
    "data = []\n",
    "for offset in inds:\n",
    "    disp = s.positions[offset,0:2] - s.positions[0,0:2]\n",
    "    data.append(go.Scatter(\n",
    "        x=s.positions[offset::16,2], \n",
    "        y=magnitude[offset::16,0], \n",
    "        name = f\"{np.round(disp,3)}\"\n",
    "    ))\n",
    "\n",
    "fig = go.Figure(data)\n",
    "fig.show()"
   ]
  },
  {
   "cell_type": "code",
   "execution_count": null,
   "metadata": {},
   "outputs": [],
   "source": [
    "x, y, z = np.transpose(s.positions[::16])\n",
    "# x, y, z = np.transpose(s.positions)\n",
    "u, v, w = np.transpose(forces[::16])\n",
    "# u, v, w = np.transpose(forces)\n",
    "\n",
    "\n",
    "fig = go.Figure(data=[\n",
    "    go.Scatter3d(\n",
    "        x=x,\n",
    "        y=y,\n",
    "        z=z,\n",
    "        mode='markers',\n",
    "        marker=dict(\n",
    "            size=2,\n",
    "            color=np.linspace(0,1,len(z)),                # set color to an array/list of desired values\n",
    "            colorscale='Viridis',   # choose a colorscale\n",
    "            opacity=1\n",
    "        )\n",
    "    ),\n",
    "    go.Cone(\n",
    "        x=x,\n",
    "        y=y,\n",
    "        z=z,\n",
    "        u=u,\n",
    "        v=v,\n",
    "        w=w,\n",
    "        sizemode=\"absolute\",\n",
    "        sizeref=5,\n",
    "    )\n",
    "    \n",
    "])\n",
    "# fig = go.Figure(data=[\n",
    "# \n",
    "#     go.Cone(\n",
    "#         x=x,\n",
    "#         y=y,\n",
    "#         z=z,\n",
    "#         u=u,\n",
    "#         v=v,\n",
    "#         w=w,\n",
    "#         sizemode=\"absolute\",\n",
    "#         sizeref=5,\n",
    "#     )\n",
    "#     \n",
    "# ])\n",
    "\n",
    "\n",
    "\n",
    "fig.layout.scene.camera.projection.type = \"orthographic\"\n",
    "fig.layout.scene.aspectmode='data'\n",
    "# fig.layout.scene.aspectratio=dict(x=1, y=1, z=1)\n",
    "\n",
    "fig.show()"
   ]
  },
  {
   "cell_type": "code",
   "execution_count": null,
   "metadata": {},
   "outputs": [],
   "source": [
    "magnitude[::16]"
   ]
  },
  {
   "cell_type": "markdown",
   "metadata": {},
   "source": [
    "# Comparing with bulk"
   ]
  },
  {
   "cell_type": "code",
   "execution_count": null,
   "metadata": {},
   "outputs": [],
   "source": []
  },
  {
   "cell_type": "code",
   "execution_count": null,
   "metadata": {},
   "outputs": [],
   "source": []
  }
 ],
 "metadata": {
  "interpreter": {
   "hash": "451cee072b75647255325f7f8ffe9fc3e24430e959966271370a1aeda1d0a3e7"
  },
  "kernelspec": {
   "display_name": "Python 3",
   "language": "python",
   "name": "python3"
  },
  "language_info": {
   "codemirror_mode": {
    "name": "ipython",
    "version": 3
   },
   "file_extension": ".py",
   "mimetype": "text/x-python",
   "name": "python",
   "nbconvert_exporter": "python",
   "pygments_lexer": "ipython3",
   "version": "3.8.8"
  }
 },
 "nbformat": 4,
 "nbformat_minor": 2
}
