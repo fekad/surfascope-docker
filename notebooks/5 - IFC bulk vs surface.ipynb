{
 "cells": [
  {
   "cell_type": "code",
   "execution_count": null,
   "metadata": {
    "slideshow": {
     "slide_type": "skip"
    }
   },
   "outputs": [],
   "source": [
    "import numpy as np\n",
    "from copy import deepcopy\n",
    "\n",
    "import abipy\n",
    "from abipy import abilab\n",
    "from abipy.dfpt.converters import phonopy_to_abinit, abinit_to_phonopy\n",
    "\n",
    "from phonopy.phonon.band_structure import get_band_qpoints_and_path_connections\n",
    "\n",
    "import plotly\n",
    "from plotly.subplots import make_subplots\n",
    "import plotly.graph_objects as go\n",
    "\n",
    "from pymatgen_plotly import Figure\n"
   ]
  },
  {
   "cell_type": "markdown",
   "metadata": {},
   "source": [
    "# Comparing slab and bulk phonons"
   ]
  },
  {
   "cell_type": "code",
   "execution_count": null,
   "metadata": {},
   "outputs": [],
   "source": [
    "filename_bulk = 'data/reduced_cell/02_dfpt/outdata/out_DDB'\n",
    "ddb_bulk = abilab.abiopen(filename_bulk)\n",
    "phonons_bulk = ddb_bulk.anaget_phonopy_ifc()\n"
   ]
  },
  {
   "cell_type": "code",
   "execution_count": null,
   "metadata": {},
   "outputs": [],
   "source": [
    "filename = 'data/reduced_cell/04_fcc100_dfpt_11/outdata/out_DDB'\n",
    "ddb = abilab.abiopen(filename)\n",
    "phonons = ddb.anaget_phonopy_ifc()"
   ]
  },
  {
   "cell_type": "code",
   "execution_count": null,
   "metadata": {},
   "outputs": [],
   "source": [
    "fig = Figure()\n",
    "fig._add_unitcell(phonons_bulk.unitcell.cell)\n",
    "fig._add_ball_and_stick(phonons_bulk.supercell.positions, phonons_bulk.supercell.symbols)\n",
    "fig.show()"
   ]
  },
  {
   "cell_type": "code",
   "execution_count": null,
   "metadata": {},
   "outputs": [],
   "source": [
    "fig = Figure()\n",
    "fig._add_unitcell(phonons.unitcell.cell)\n",
    "fig._add_ball_and_stick(phonons.supercell.positions, phonons.supercell.symbols)\n",
    "# fig.fig.layout.scene.camera.projection.type = \"orthographic\"\n",
    "fig.show()"
   ]
  },
  {
   "cell_type": "code",
   "execution_count": null,
   "metadata": {},
   "outputs": [],
   "source": []
  },
  {
   "cell_type": "code",
   "execution_count": null,
   "metadata": {},
   "outputs": [],
   "source": [
    "# phonons.run_mesh()\n",
    "# phonons.get_mesh()\n",
    "phonons_bulk.auto_band_structure()\n",
    "phonons_bulk.plot_band_structure().show()"
   ]
  },
  {
   "cell_type": "code",
   "execution_count": null,
   "metadata": {},
   "outputs": [],
   "source": [
    "phonons.auto_band_structure()\n",
    "phonons.plot_band_structure().show()"
   ]
  },
  {
   "cell_type": "code",
   "execution_count": null,
   "metadata": {},
   "outputs": [],
   "source": [
    "# \n",
    "# path = [[[0, 0, 0], [0.5, 0, 0.5], [0.625, 0.25, 0.625]],\n",
    "#         [[0.375, 0.375, 0.75], [0, 0, 0], [0.5, 0.5, 0.5], [0.5, 0.25, 0.75]]]\n",
    "# labels = [\"$\\\\Gamma$\", \"X\", \"U\", \"K\", \"$\\\\Gamma$\", \"L\", \"W\"]\n",
    "# qpoints, connections = get_band_qpoints_and_path_connections(path, npoints=51)\n",
    "# \n",
    "# phonons.run_band_structure(qpoints, path_connections=connections, labels=labels)\n",
    "# phonons.plot_band_structure().show()"
   ]
  },
  {
   "cell_type": "code",
   "execution_count": null,
   "metadata": {},
   "outputs": [],
   "source": []
  },
  {
   "cell_type": "code",
   "execution_count": null,
   "metadata": {},
   "outputs": [],
   "source": [
    "def plot_ifc_directions(phonons, atom_ind, directions):\n",
    "\n",
    "    super_structure = phonons.get_supercell()\n",
    "    force_constants = phonons.get_force_constants()[atom_ind]\n",
    "\n",
    "    # force_constants[:,:,[0, 1, 2]] = force_constants[:,:,[2, 1, 0]]\n",
    "    # force_constants[:,[0, 1, 2],:] = force_constants[:,[2, 1, 0],:]\n",
    "\n",
    "    fig = make_subplots(\n",
    "        rows=len(directions),\n",
    "        cols=1,\n",
    "        subplot_titles=list(\n",
    "            f\"Direction: {np.round(direction / np.linalg.norm(direction),3)}\"\n",
    "            for direction in directions\n",
    "        ),\n",
    "    )\n",
    "\n",
    "    # inds = np.ravel_multi_index(np.triu_indices(4), (4, 4))\n",
    "    inds = range(16)\n",
    "    cols = plotly.colors.DEFAULT_PLOTLY_COLORS\n",
    "\n",
    "    for (n, direction) in enumerate(directions):\n",
    "        direction = direction / np.linalg.norm(direction)\n",
    "\n",
    "        forces = np.dot(force_constants, direction)\n",
    "        magnitude = np.linalg.norm(forces, axis=1)[:, np.newaxis]\n",
    "\n",
    "        for (i, offset) in enumerate(inds):\n",
    "            disp = (\n",
    "                super_structure.positions[offset, 0:2]\n",
    "                - super_structure.positions[0, 0:2]\n",
    "            )\n",
    "\n",
    "            z = super_structure.positions[offset::16, 2]\n",
    "            sort_inds = np.argsort(super_structure.positions[offset::16, 2])\n",
    "\n",
    "            fig.add_trace(\n",
    "                go.Scatter(\n",
    "                    x=z[sort_inds],\n",
    "                    y=magnitude[offset::16, 0][sort_inds],\n",
    "                    name=f\"{np.round(disp,3)}\",\n",
    "                    line=dict(width=2, color=cols[i % 10]),\n",
    "                    legendgroup=f\"group{i+1}\",\n",
    "                    showlegend=True if (n == 0) else False,\n",
    "                    visible=True if (i == 0) else'legendonly'\n",
    "                ),\n",
    "                row=n + 1,\n",
    "                col=1,\n",
    "            )\n",
    "\n",
    "    fig.update_layout(\n",
    "        height=600,\n",
    "        width=800,\n",
    "        legend_title_text=\"x-y offset:\",\n",
    "        title_text=f\"The magnitude of interatomic force constants\",\n",
    "    )\n",
    "    return fig"
   ]
  },
  {
   "cell_type": "code",
   "execution_count": null,
   "metadata": {},
   "outputs": [],
   "source": [
    "# directions = [[1,-1,0], [1,1,0], [0,0,1]]\n",
    "# directions = [[1,0,0], [0,1,0], [0,0,1]]\n",
    "directions = phonons.unitcell.cell\n",
    "\n",
    "# fig = plot_ifc_directions(phonons, 5, directions)\n",
    "fig = plot_ifc_directions(phonons_bulk, 1, directions)\n",
    "fig.show()"
   ]
  },
  {
   "cell_type": "code",
   "execution_count": null,
   "metadata": {},
   "outputs": [],
   "source": [
    "def plot_ifc(phonons, atom_ind, direction):\n",
    "\n",
    "    super_structure = phonons.get_supercell()\n",
    "    force_constants = phonons.get_force_constants()[atom_ind]\n",
    "\n",
    "    direction = direction / np.linalg.norm(direction)\n",
    "\n",
    "    forces = np.dot(force_constants, direction)\n",
    "    magnitude = np.linalg.norm(forces, axis=1)[:, np.newaxis]\n",
    "\n",
    "    # inds = np.ravel_multi_index(np.triu_indices(4), (4, 4))\n",
    "    inds = range(16)\n",
    "    cols = plotly.colors.DEFAULT_PLOTLY_COLORS\n",
    "\n",
    "    fig = make_subplots(rows=2, cols=1, subplot_titles=(\"\", \"Logartihmic scale\"))\n",
    "\n",
    "    for (i, offset) in enumerate(inds):\n",
    "        disp = (\n",
    "            super_structure.positions[offset, 0:2] - super_structure.positions[0, 0:2]\n",
    "        )\n",
    "\n",
    "        z = super_structure.positions[offset::16, 2]\n",
    "        sort_inds = np.argsort(super_structure.positions[offset::16, 2])\n",
    "\n",
    "        fig.add_trace(\n",
    "            go.Scatter(\n",
    "                x=z[sort_inds],\n",
    "                y=magnitude[offset::16, 0][sort_inds],\n",
    "                name=f\"{np.round(disp,3)}\",\n",
    "                line=dict(width=2, color=cols[i % 10]),\n",
    "                legendgroup=\"group1\",\n",
    "            ),\n",
    "            row=1,\n",
    "            col=1,\n",
    "        )\n",
    "\n",
    "        fig.add_trace(\n",
    "            go.Scatter(\n",
    "                x=z[sort_inds],\n",
    "                y=np.log(magnitude[offset::16, 0][sort_inds]),\n",
    "                name=f\"{np.round(disp,3)}\",\n",
    "                line=dict(width=2, color=cols[i % 10]),\n",
    "                legendgroup=\"group1\",\n",
    "                showlegend=False,\n",
    "            ),\n",
    "            row=2,\n",
    "            col=1,\n",
    "        )\n",
    "\n",
    "    # edit axis labels\n",
    "    fig[\"layout\"][\"xaxis\"][\"title\"] = \"z\"\n",
    "    fig[\"layout\"][\"xaxis2\"][\"title\"] = \"z\"\n",
    "    fig[\"layout\"][\"yaxis\"][\"title\"] = \"abs(F)\"\n",
    "    fig[\"layout\"][\"yaxis2\"][\"title\"] = \"log(abs(F))\"\n",
    "\n",
    "    fig.update_layout(\n",
    "        height=600,\n",
    "        width=800,\n",
    "        legend_title_text=\"x-y offset:\",\n",
    "        title_text=f\"The magnitude of interatomic force constants along {np.round(direction,3)}\",\n",
    "    )\n",
    "    return fig"
   ]
  },
  {
   "cell_type": "code",
   "execution_count": null,
   "metadata": {},
   "outputs": [],
   "source": [
    "direction = np.array([1,-1,0])\n",
    "# direction = np.array([1,1,0])\n",
    "# direction = np.array([0,0,1])"
   ]
  },
  {
   "cell_type": "code",
   "execution_count": null,
   "metadata": {},
   "outputs": [],
   "source": [
    "fig = plot_ifc(phonons, 5, direction)\n",
    "fig.show()"
   ]
  },
  {
   "cell_type": "code",
   "execution_count": null,
   "metadata": {},
   "outputs": [],
   "source": [
    "fig = plot_ifc(phonons_bulk, 0, direction)\n",
    "fig.show()"
   ]
  },
  {
   "cell_type": "code",
   "execution_count": null,
   "metadata": {},
   "outputs": [],
   "source": [
    "\n",
    "def plot_ifc_3d(phonons, atom_ind, direction, scale=1.):\n",
    "\n",
    "\n",
    "    super_structure = phonons.get_supercell()\n",
    "    force_constants = phonons.get_force_constants()[atom_ind]\n",
    "\n",
    "    direction = direction / np.linalg.norm(direction)\n",
    "    forces = np.dot(force_constants, direction)\n",
    "\n",
    "    # magnitude = np.linalg.norm(forces, axis=1)[:, np.newaxis]\n",
    "    # forces = forces/magnitude * np.log(magnitude)\n",
    "\n",
    "    x, y, z = np.transpose(super_structure.positions)\n",
    "    u, v, w = np.transpose(forces)\n",
    "\n",
    "    fig = Figure()\n",
    "    fig._add_unitcell(phonons.unitcell.cell)\n",
    "    fig._add_ball_and_stick(\n",
    "        coords=super_structure.positions[::16], \n",
    "        species=super_structure.get_chemical_symbols()[::16]\n",
    "    )\n",
    "\n",
    "    fig.fig.add_cone(\n",
    "        x=x,\n",
    "        y=y,\n",
    "        z=z,\n",
    "        u=u,\n",
    "        v=v,\n",
    "        w=w,\n",
    "        sizemode=\"absolute\",\n",
    "        anchor=\"tail\",\n",
    "        sizeref=scale,\n",
    "    )\n",
    "\n",
    "    return fig"
   ]
  },
  {
   "cell_type": "code",
   "execution_count": null,
   "metadata": {},
   "outputs": [],
   "source": [
    "atom_ind = 5\n",
    "# direction = np.array([1,-1,0])\n",
    "# direction = np.array([1,1,0])\n",
    "direction = np.array([0,0,1])\n",
    "\n",
    "fig = plot_ifc_3d(phonons, atom_ind, direction, 1.5)\n",
    "fig.show()"
   ]
  }
 ],
 "metadata": {
  "celltoolbar": "Slideshow",
  "interpreter": {
   "hash": "451cee072b75647255325f7f8ffe9fc3e24430e959966271370a1aeda1d0a3e7"
  },
  "kernelspec": {
   "display_name": "Python 3",
   "language": "python",
   "name": "python3"
  },
  "language_info": {
   "codemirror_mode": {
    "name": "ipython",
    "version": 3
   },
   "file_extension": ".py",
   "mimetype": "text/x-python",
   "name": "python",
   "nbconvert_exporter": "python",
   "pygments_lexer": "ipython3",
   "version": "3.8.8"
  }
 },
 "nbformat": 4,
 "nbformat_minor": 2
}
