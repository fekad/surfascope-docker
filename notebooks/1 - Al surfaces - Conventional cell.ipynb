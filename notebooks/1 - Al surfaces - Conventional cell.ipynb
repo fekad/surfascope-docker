{
 "cells": [
  {
   "cell_type": "markdown",
   "metadata": {},
   "source": [
    "# Al surface - Conventional cell\n",
    "\n",
    "\n",
    "In this notebook we will do abinit calculation for a Aluminium surface.\n",
    "For simplicity we will use convetional cell for the calculations.\n",
    "\n",
    "Basic overview:\n",
    "- Bulk - structure optimisation:\n",
    "  - total energy\n",
    "  - lattice parameters\n",
    "- Surfaces:\n",
    "  - the relaxation of surface atoms?\n",
    "  - surface energy\n"
   ]
  },
  {
   "cell_type": "code",
   "execution_count": null,
   "metadata": {},
   "outputs": [],
   "source": [
    "%matplotlib inline\n",
    "\n",
    "import warnings \n",
    "import numpy as np\n",
    "import matplotlib.pylab as plt\n",
    "import plotly.graph_objects as go\n",
    "\n",
    "from itertools import product\n",
    "\n",
    "from abipy import abilab, flowtk\n",
    "\n",
    "from pymatgen.core import Structure, Lattice\n",
    "from pseudo_dojo import OfficialDojoTable\n",
    "\n",
    "from jupyter_jsmol import JsmolView\n",
    "from jupyter_jsmol.pymatgen import quick_view\n",
    "\n",
    "from pymatgen_plotly import Figure\n",
    "\n",
    "abilab.enable_notebook() # This line tells AbiPy we are running inside a notebook\n",
    "warnings.filterwarnings(\"ignore\")  # Ignore warnings\n",
    "\n",
    "\n",
    "pseudos_table = OfficialDojoTable.from_dojodir(\"ONCVPSP-PBE-PDv0.4\", accuracy='standard')\n"
   ]
  },
  {
   "cell_type": "markdown",
   "metadata": {},
   "source": [
    "# Bulk\n",
    "\n",
    "## Initial structure"
   ]
  },
  {
   "cell_type": "code",
   "execution_count": null,
   "metadata": {},
   "outputs": [],
   "source": [
    "lattice_constant = 4.041265916093099 # angstrom\n",
    "lattice_constant"
   ]
  },
  {
   "cell_type": "code",
   "execution_count": null,
   "metadata": {
    "scrolled": true
   },
   "outputs": [],
   "source": [
    "def fcc_conv(element: str, a: float):\n",
    "    # lattice=Lattice.cubic(a)\n",
    "    structure = Structure(\n",
    "        lattice=Lattice([[a, 0, 0], [0, a, 0], [0, 0, a]]),\n",
    "        species=4 * [element],\n",
    "        coords=[[0, 0, 0], [0.5, 0.5, 0], [0.5, 0, 0.5], [0, 0.5, 0.5]],\n",
    "    )\n",
    "    return structure\n",
    "\n",
    "struct_initial = fcc_conv('Al', lattice_constant)\n",
    "struct_initial"
   ]
  },
  {
   "cell_type": "code",
   "execution_count": null,
   "metadata": {},
   "outputs": [],
   "source": [
    "quick_view(struct_initial)\n",
    "\n"
   ]
  },
  {
   "cell_type": "code",
   "execution_count": null,
   "metadata": {},
   "outputs": [],
   "source": [
    "fig = Figure()\n",
    "fig.add_structure(struct_initial)\n",
    "fig.add_unitcell(struct_initial)\n",
    "fig.show()"
   ]
  },
  {
   "cell_type": "markdown",
   "metadata": {},
   "source": [
    "# Single SCF calculation"
   ]
  },
  {
   "cell_type": "code",
   "execution_count": null,
   "metadata": {},
   "outputs": [],
   "source": [
    "def build_inp_scf(structure, ecut=20, tsmear=0.01, shifted=False):\n",
    "        \"\"\"Generate input for optimization of the lattice parameter\n",
    "        at fixed number of k points and broadening.\n",
    "        \"\"\"\n",
    "\n",
    "        inp = abilab.AbinitInput(structure=structure, pseudos=pseudos_table)\n",
    "\n",
    "        inp[\"chkprim\"] = 0\n",
    "        # inp['chksymbreak'] = None\n",
    "\n",
    "        inp[\"ecut\"] = ecut\n",
    "        inp[\"tsmear\"] = tsmear\n",
    "\n",
    "        # Definition of the k-point grid\n",
    "        inp[\"kptopt\"] = 1\n",
    "        inp[\"ngkpt\"] = [8, 8, 8]\n",
    "        \n",
    "        inp[\"nshiftk\"] = 1\n",
    "        if shifted:\n",
    "            inp[\"shiftk\"] = [0.5, 0.5, 0.5] \n",
    "        else:\n",
    "            inp[\"shiftk\"] = [0.0, 0.0, 0.0]\n",
    "\n",
    "        inp[\"occopt\"] = 6\n",
    "        # inp[\"nband\"] = 3 * len(structure) + 6 # NOTE: This value is specific for Al\n",
    "\n",
    "        ## Definition of the SCF procedure\n",
    "        # Maximal number of SCF cycles\n",
    "        inp[\"nstep\"] = 50\n",
    "\n",
    "        # Will stop when, twice in a row, the difference\n",
    "        # between two consecutive evaluations of total energy\n",
    "        # differ by less than toldfe (in Hartree)\n",
    "        # This value is way too large for most realistic studies of materials\n",
    "        # inp['toldfe'] = 1e-8\n",
    "        inp[\"tolvrs\"] = 1e-10\n",
    "\n",
    "        return inp\n",
    "\n",
    "inp_scf = build_inp_scf(struct_initial)\n",
    "# inp_scf"
   ]
  },
  {
   "cell_type": "code",
   "execution_count": null,
   "metadata": {},
   "outputs": [],
   "source": [
    "def build_flow_scf(inp, workdir, force=False):\n",
    "\n",
    "    flow = flowtk.Flow.from_inputs(workdir, inputs=inp)\n",
    "\n",
    "    if force:\n",
    "        flow.rmtree()\n",
    "\n",
    "    return flow\n",
    "\n",
    "flow_scf = build_flow_scf(inp_scf, \"conv_cell/00_scf\", force=True)\n",
    "\n",
    "try:\n",
    "    scheduler = flow_scf.make_scheduler()\n",
    "    scheduler.start()\n",
    "except:\n",
    "    pass\n"
   ]
  },
  {
   "cell_type": "code",
   "execution_count": null,
   "metadata": {},
   "outputs": [],
   "source": [
    "out_scf = abilab.abiopen('conv_cell/00_scf/w0/t0/outdata/out_GSR.nc')\n",
    "out_scf.energy"
   ]
  },
  {
   "cell_type": "markdown",
   "metadata": {},
   "source": [
    "## Relaxation"
   ]
  },
  {
   "cell_type": "code",
   "execution_count": null,
   "metadata": {},
   "outputs": [],
   "source": [
    "def build_inp_relax(structure, ecut=20, tsmear=0.01, shifted=False):\n",
    "        \"\"\"Generate input for optimization of the lattice parameter\n",
    "        at fixed number of k points and broadening.\n",
    "        \"\"\"\n",
    "\n",
    "        inp = abilab.AbinitInput(structure=structure, pseudos=pseudos_table)\n",
    "\n",
    "        inp[\"chkprim\"] = 0\n",
    "        # inp['chksymbreak'] = None\n",
    "\n",
    "        inp[\"ecut\"] = ecut\n",
    "        inp[\"tsmear\"] = tsmear\n",
    "\n",
    "        # Definition of the k-point grid\n",
    "        inp[\"kptopt\"] = 1\n",
    "        inp[\"ngkpt\"] = [8, 8, 8]\n",
    "        \n",
    "        inp[\"nshiftk\"] = 1\n",
    "        if shifted:\n",
    "            inp[\"shiftk\"] = [0.5, 0.5, 0.5] \n",
    "        else:\n",
    "            inp[\"shiftk\"] = [0.0, 0.0, 0.0]\n",
    "\n",
    "        inp[\"occopt\"] = 6\n",
    "        inp[\"nband\"] = 3 * len(structure) + 6 # NOTE: This value is specific for Al\n",
    "\n",
    "        ## Optimization of the lattice parameters\n",
    "        inp[\"optcell\"] = 1\n",
    "        inp[\"ionmov\"] = 2\n",
    "\n",
    "        inp[\"ntime\"] = 10\n",
    "        inp[\"dilatmx\"] = 1.05\n",
    "        inp[\"ecutsm\"] = 0.5\n",
    "\n",
    "        ## Definition of the SCF procedure\n",
    "        # Maximal number of SCF cycles\n",
    "        inp[\"nstep\"] = 50\n",
    "\n",
    "        # Will stop when, twice in a row, the difference\n",
    "        # between two consecutive evaluations of total energy\n",
    "        # differ by less than toldfe (in Hartree)\n",
    "        # This value is way too large for most realistic studies of materials\n",
    "        # inp['toldfe'] = 1e-8\n",
    "        inp[\"tolvrs\"] = 1e-10\n",
    "\n",
    "        return inp\n",
    "\n",
    "inp_relax=build_inp_relax(struct_initial)\n",
    "# inp_relax"
   ]
  },
  {
   "cell_type": "code",
   "execution_count": null,
   "metadata": {},
   "outputs": [],
   "source": [
    "def build_flow_relax(inp, workdir, force=False):\n",
    "\n",
    "    flow = flowtk.Flow.from_inputs(workdir, inputs=inp)\n",
    "\n",
    "    if force:\n",
    "        flow.rmtree()\n",
    "\n",
    "    return flow\n",
    "\n",
    "flow_relax = build_flow_relax(inp_relax, \"conv_cell/01_relax\")\n",
    "\n",
    "try:\n",
    "    scheduler = flow_relax.make_scheduler()\n",
    "    scheduler.start()\n",
    "except:\n",
    "    pass\n"
   ]
  },
  {
   "cell_type": "code",
   "execution_count": null,
   "metadata": {},
   "outputs": [],
   "source": [
    "abo = abilab.abiopen(\"conv_cell/01_relax/w0/t0/run.abo\")\n",
    "\n",
    "struct_relaxed = abo.final_structure\n",
    "struct_relaxed"
   ]
  },
  {
   "cell_type": "code",
   "execution_count": null,
   "metadata": {},
   "outputs": [],
   "source": [
    "lattice_constant_relaxed = struct_relaxed.lattice.a"
   ]
  },
  {
   "cell_type": "code",
   "execution_count": null,
   "metadata": {},
   "outputs": [],
   "source": [
    "def build_inp_dftp(structure, ecut=20, tsmear=0.01, shifted=False):\n",
    "\n",
    "    inp = abilab.AbinitInput(structure=structure, pseudos=pseudos_table)\n",
    "\n",
    "    inp[\"chkprim\"] = 0\n",
    "    # inp['chksymbreak'] = None\n",
    "\n",
    "    inp[\"ecut\"] = ecut\n",
    "    inp[\"tsmear\"] = tsmear\n",
    "\n",
    "    # Definition of the k-point grid\n",
    "    inp[\"kptopt\"] = 1\n",
    "    inp[\"ngkpt\"] = [8, 8, 8]\n",
    "\n",
    "    inp[\"nshiftk\"] = 1\n",
    "    if shifted:\n",
    "        inp[\"shiftk\"] = [0.5, 0.5, 0.5] \n",
    "    else:\n",
    "        inp[\"shiftk\"] = [0.0, 0.0, 0.0]\n",
    "\n",
    "    inp[\"occopt\"] = 6\n",
    "    inp[\"nband\"] = 3 * len(structure) + 6 # NOTE: This value is specific for Al\n",
    "\n",
    "\n",
    "    ## Definition of the SCF procedure\n",
    "    # Maximal number of SCF cycles\n",
    "    inp[\"nstep\"] = 50\n",
    "\n",
    "    # Will stop when, twice in a row, the difference\n",
    "    # between two consecutive evaluations of total energy\n",
    "    # differ by less than toldfe (in Hartree)\n",
    "    # This value is way too large for most realistic studies of materials\n",
    "    # inp['toldfe'] = 1e-8\n",
    "    inp[\"tolvrs\"] = 1e-10\n",
    "\n",
    "    return inp\n",
    "\n",
    "inp_dftp = build_inp_dftp(struct_relaxed)"
   ]
  },
  {
   "cell_type": "code",
   "execution_count": null,
   "metadata": {
    "tags": [
     "outputPrepend"
    ]
   },
   "outputs": [],
   "source": [
    "\n",
    "def build_flow_dftp(inp, workdir, force=False):\n",
    "\n",
    "    \"\"\"Build and return a Flow to compute the dynamical matrix on a (2, 2, 2) qmesh\n",
    "    as well as DDK and Born effective charges.\n",
    "    The final DDB with all perturbations will be merged automatically and placed\n",
    "    in the Flow `outdir` directory.\n",
    "    \"\"\"\n",
    "\n",
    "    flow = flowtk.PhononFlow.from_scf_input(\n",
    "        workdir, inp, ph_ngqpt=(4, 4, 4), with_becs=False\n",
    "    )\n",
    "\n",
    "    if force:\n",
    "        flow.rmtree()\n",
    "\n",
    "    return flow\n",
    "\n",
    "flow_dftp = build_flow_dftp(inp_dftp, \"conv_cell/02_dftp\")\n",
    "\n",
    "try:\n",
    "    scheduler = flow_dftp.make_scheduler()\n",
    "    scheduler.start()\n",
    "except:\n",
    "    pass\n"
   ]
  },
  {
   "cell_type": "markdown",
   "metadata": {},
   "source": [
    "# Surfaces\n",
    "\n",
    "## Surface 100"
   ]
  },
  {
   "cell_type": "code",
   "execution_count": null,
   "metadata": {},
   "outputs": [],
   "source": [
    "def fcc_100_conv(element: str, a: float, n: int, vacuum: float, centered=True):\n",
    "\n",
    "    h = (n - 1) * a / 2 + vacuum\n",
    "\n",
    "    coords = np.zeros((2 * n, 3))\n",
    "\n",
    "    coords[0::4, :] = [[0,   0,   i*a] for i in range((n+1)//2)]\n",
    "    coords[1::4, :] = [[a/2, a/2, i*a] for i in range((n+1)//2)]\n",
    "    coords[2::4, :] = [[a/2, 0,   a/2 + i*a] for i in range(n//2)]\n",
    "    coords[3::4, :] = [[0,   a/2, a/2 + i*a] for i in range(n//2)]\n",
    "    \n",
    "    if centered:\n",
    "        coords[:,-1] += vacuum/2\n",
    "    \n",
    "    structure = Structure(\n",
    "        lattice=Lattice([[a, 0, 0], [0, a, 0], [0, 0, h]]),\n",
    "        species=2 * n * [element],\n",
    "        coords=coords,\n",
    "        coords_are_cartesian=True,\n",
    "    )\n",
    "    return structure"
   ]
  },
  {
   "cell_type": "code",
   "execution_count": null,
   "metadata": {},
   "outputs": [],
   "source": [
    "struct_fcc_100 = fcc_100_conv('Al', lattice_constant_relaxed, n=5, vacuum=5*lattice_constant_relaxed/2) \n",
    "struct_fcc_100"
   ]
  },
  {
   "cell_type": "code",
   "execution_count": null,
   "metadata": {
    "scrolled": false
   },
   "outputs": [],
   "source": [
    "# quick_view(struct_fcc_100, supercell=(3,3,2))\n",
    "\n",
    "fig = Figure()\n",
    "fig.add_structure(struct_fcc_100, supercell=(3,3,2))\n",
    "fig.add_unitcell(struct_fcc_100.lattice)\n",
    "fig.show()\n",
    "\n"
   ]
  },
  {
   "cell_type": "code",
   "execution_count": null,
   "metadata": {},
   "outputs": [],
   "source": []
  },
  {
   "cell_type": "code",
   "execution_count": null,
   "metadata": {},
   "outputs": [],
   "source": []
  },
  {
   "cell_type": "code",
   "execution_count": null,
   "metadata": {},
   "outputs": [],
   "source": []
  },
  {
   "cell_type": "code",
   "execution_count": null,
   "metadata": {},
   "outputs": [],
   "source": []
  },
  {
   "cell_type": "code",
   "execution_count": null,
   "metadata": {},
   "outputs": [],
   "source": []
  }
 ],
 "metadata": {
  "kernelspec": {
   "display_name": "Python 3",
   "language": "python",
   "name": "python3"
  },
  "language_info": {
   "codemirror_mode": {
    "name": "ipython",
    "version": 3
   },
   "file_extension": ".py",
   "mimetype": "text/x-python",
   "name": "python",
   "nbconvert_exporter": "python",
   "pygments_lexer": "ipython3",
   "version": "3.8.8"
  }
 },
 "nbformat": 4,
 "nbformat_minor": 4
}
